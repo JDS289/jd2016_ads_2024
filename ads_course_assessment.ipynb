{
  "cells": [
    {
      "cell_type": "markdown",
      "metadata": {
        "id": "view-in-github",
        "colab_type": "text"
      },
      "source": [
        "<a href=\"https://colab.research.google.com/github/JDS289/jd2016_ads_2024/blob/main/ads_course_assessment.ipynb\" target=\"_parent\"><img src=\"https://colab.research.google.com/assets/colab-badge.svg\" alt=\"Open In Colab\"/></a>"
      ]
    },
    {
      "cell_type": "markdown",
      "metadata": {
        "id": "-tbzTphJeGlW"
      },
      "source": [
        "# Assessment for Advanced Data Science\n",
        "# *Data Pipelines*"
      ]
    },
    {
      "cell_type": "markdown",
      "metadata": {
        "id": "vVm3IV8eZPdE"
      },
      "source": [
        "## Radzim Sendyka, Christian Cabrera, Carl Henrik Ek and Neil D. Lawrence\n",
        "\n",
        "### 19 November 2024"
      ]
    },
    {
      "cell_type": "markdown",
      "metadata": {
        "id": "Evaf5gdVnE0s"
      },
      "source": [
        "Welcome to the course assessment for the Advanced Data Science unit. In this assessment, you will build two data pipelines and prediction systems.\n",
        "\n",
        "The maximum total mark for this assessment is 20. That mark is split into two miniprojects below.\n",
        "- The first miniproject is worth 7 marks.\n",
        "- The second miniproject is worth 13 marks.\n",
        "\n",
        "*The check Session for this Assessment is 03 December 2024.*"
      ]
    },
    {
      "cell_type": "markdown",
      "metadata": {
        "id": "R_gVPt8Nndjn"
      },
      "source": [
        "# Task 1 (7 marks)"
      ]
    },
    {
      "cell_type": "markdown",
      "metadata": {
        "id": "2yaFil7l34HD"
      },
      "source": [
        "This example project builds on your experience from the practicals, using Open Street Maps, and connecting them to real-world datasets.\n",
        "\n",
        "Your prediction system will be based on data from the 2021 UK Census, and Open Street Maps."
      ]
    },
    {
      "cell_type": "markdown",
      "metadata": {
        "id": "jVnzIgd3ZWt0"
      },
      "source": [
        "### Build a data pipeline and prediction system.\n",
        "\n",
        "Structure your system around the [Access-Assess-Address](https://inverseprobability.com/talks/notes/access-assess-address-a-pipeline-for-automated-data-science.html) framework for automated data science.\n",
        "Use the framework of [Data Readiness Levels](https://inverseprobability.com/publications/data-readiness-levels.html) to track the state of your datasets throughout the process.\n",
        "Visualise your data and predictions using appropriate charts and graphics.\n",
        "Remember, your notebook should tell a story.\n",
        "\n",
        "1.1. Download the data from online sources. In this task you will need:\n",
        "  - UK Census Data\n",
        "    - The UK Census data file for and Socio-economic Classification (NS SEC) [here](https://www.ons.gov.uk/datasets/TS062/editions/2021/versions/5) or [here](https://www.nomisweb.co.uk/sources/census_2021_bulk). Use the most detailed area type (Output Areas).\n",
        "    - One other UK Census data file of your choosing [here](https://www.ons.gov.uk/search?topics=9731,6646,3845,9497,4262,4128,7755,4994,6885,9724,7367&filter=datasets) or [here](https://www.nomisweb.co.uk/sources/census_2021_bulk). Use the most detailed area type available.\n",
        "    - Geographic coordinates of Census Output Areas [here](https://www.data.gov.uk/dataset/4d4e021d-fe98-4a0e-88e2-3ead84538537/output-areas-december-2021-boundaries-ew-bgc-v2).\n",
        "  - Spatial data\n",
        "    - Set up an API connection to Open Street Maps [here](https://osmnx.readthedocs.io/en/stable/). Optionally, to be able to use more data in training, you might want to also download the entire map for England (or more) [here](https://download.openstreetmap.fr/extracts/) or [here](https://wiki.openstreetmap.org/wiki/Planet.osm).\n",
        "\n",
        "1.2. Structure the data, and upload it to your AWS database.\n",
        "\n",
        "- Census datasets can be huge and unwieldy to manipulate directly in python frameworks such as pandas. As a result we will host the data in a relational database.\n",
        "\n",
        "- Using a cloud hosted database (such as MariaDB hosted on the AWS RDS service),  you will construct a database containing tables that contain per-output-area data, latitudes and longitudes of the output areas, and potentially, extracted selected open street maps features from the country-wide data file.\n",
        "\n",
        "- Make sure you set the correct indices on your data, which will allow your code to run much faster. Hint: create an index on any columns you will be looking up, and joint indices if your lookup involves multiple columns (like coordinates).\n",
        "\n",
        "You will likely find the following resources helpful.\n",
        "\n",
        "- Lecture 1, 2 and 3.\n",
        "- Lab class 1 and 2.\n",
        "\n",
        "\n",
        "- *Note, this particular dataset could probably be handled directly in pandas, but you are explicitly tasked with using a database. This is a compromise from previous iterations of this course, where students spent quite a lot of time struggling from the size of the data. This is an opportunity for you to demonstrate your skills, as well as prepare for the second part of the assessment where databases might be necessary. Approach that do not use databases where needed will be penalised during marking.*\n",
        "\n",
        "\n",
        "2.0. Explore the data.\n",
        "\n",
        "  - To make predictions you will augment your data with information obtained from Open Street Map: an open license source of mapping information. You will need to use the techniques you have learnt in the course to indentify and incorporate useful features for your prediction tasks.\n",
        "  - Look at the percentage of students (NS SEC code L15) in the individual output areas, and explore how it's related to various types of open street map features in those locations. Use the relationships you found to suggest the features to be used in a system that predicts percentage of students in a given area.\n",
        "  - Do the same for an additional census variable (e.g., the average age in a given area).\n",
        "\n",
        "3.0. Make a prediction system.\n",
        "- Use Open Street Maps to predict Socio-Economic Status - in particular, the percent of full time students, from OSM features. Your function should take as input a coordinate pair (you can assume it will be in England), and return an estimate for the share of students in that area.\n",
        "\n",
        "- Do the same for the additional census variable you selected in the previous step.\n",
        "\n",
        "Hints:\n",
        "\n",
        "  - *Some of the census data sheets are very detailed. You might want to try \"boiling them down\" to some aggregate value or selecting just the most important columns.*\n",
        "\n",
        "  - *This assignment is focused on data pipelines, rather than machine learning, so we do not expect any advanced architectures here - a linear model or similar is perfectly fine.*\n",
        "  \n",
        "  - *For data exploration, or picking your second dataset, you may find useful the [interactive map](https://www.ons.gov.uk/census/maps/) of the census data.*"
      ]
    },
    {
      "cell_type": "markdown",
      "metadata": {
        "id": "VAfdUurg4JhM"
      },
      "source": [
        "### Story.\n",
        "\n",
        "- Remember the notebook you create should tell a story, any code that is not critical to that story can safely be placed into the associated analysis library and imported for use (structured as given in the Fynesse template). Make sure your decisions are well substanciated and flow nicely throughout the notebook, with clear explanations.\n",
        "\n",
        "- Explain everything you do. Why is your question important, why you selected the datasets you did, why did you join them how you did, why did you look at the things you looked at.\n",
        "\n",
        "Make sure in your notebook you discuss the design decisions you made in your pipeline and prediction system. How did you structure your notebook? How did you track data readiness? Which aspects of your system could be improved further?\n",
        "\n",
        "Make sure you compare how you predict student population and your second chosen property. What differences are there, in the underlying data, process, and results?\n",
        "\n",
        "Make sure you discuss the reusability of your data pipeline and prediction system. What changes to the underlying data/system is it resilient to, and what isn't it? What work would need to be done to adjust it to answer questions about other statistics, or a different country, instead?"
      ]
    },
    {
      "cell_type": "markdown",
      "metadata": {
        "id": "VN8V5rhV4CNW"
      },
      "source": [
        "### Fynesse library.\n",
        "\n",
        "- Alongside your implementation you will provide a short repository overview describing how you have implemented the different parts of the project and where you have placed those parts in your code repository. You will submit your code alongside a version of this notebook that will allow your examiner to understand and reconstruct the thinking behind your analysis. This notebook is structured to help you in creating that description and allow you to understand how we will allocate the marks. You should make use of the Fynesse framework (https://github.com/lawrennd/fynesse_template) for structuring your code.\n",
        "\n",
        "- One artefact to be included in your submission is a python library structured according to the \"Access, Assess, Address\" standard for data science solutions. You will submit this library alongside your code. Use the cell below to perform the necessary installation instructions for your library.\n",
        "You should base your module on the template repository given by the Fynesse template repository. That should make it pip-installable as below.\n",
        "`%pip install git+https://github.com/lawrennd/fynesse_template.git`. You can either replace fynesse with the name you've given your analysis module or you can leave the name as fynesse if you prefer.\n",
        "\n",
        "- Remember the notebook you create should tell a story, any code that is not critical to that story can safely be placed into the associated analysis library and imported for use (structured as given in the Fynesse template). Remember to include you fynesse library in your submission."
      ]
    },
    {
      "cell_type": "markdown",
      "metadata": {
        "id": "s6_rVCxjnzLB"
      },
      "source": [
        "## Access"
      ]
    },
    {
      "cell_type": "code",
      "execution_count": 1,
      "metadata": {
        "collapsed": true,
        "id": "KjesIa7SoIYO",
        "colab": {
          "base_uri": "https://localhost:8080/"
        },
        "outputId": "d48a3f76-651e-492f-9aeb-4fd694aec7df"
      },
      "outputs": [
        {
          "output_type": "stream",
          "name": "stdout",
          "text": [
            "Collecting git+https://github.com/JDS289/jd2016_ads_2024.git\n",
            "  Cloning https://github.com/JDS289/jd2016_ads_2024.git to /tmp/pip-req-build-lxdukjbo\n",
            "  Running command git clone --filter=blob:none --quiet https://github.com/JDS289/jd2016_ads_2024.git /tmp/pip-req-build-lxdukjbo\n",
            "  Resolved https://github.com/JDS289/jd2016_ads_2024.git to commit dabd1a57cec0ca896a96972c65bc76eb6b80bfae\n",
            "  Preparing metadata (setup.py) ... \u001b[?25l\u001b[?25hdone\n",
            "Requirement already satisfied: pandas in /usr/local/lib/python3.10/dist-packages (from fynesse==0.1.0) (2.2.2)\n",
            "Requirement already satisfied: numpy in /usr/local/lib/python3.10/dist-packages (from fynesse==0.1.0) (1.26.4)\n",
            "Collecting jupyter (from fynesse==0.1.0)\n",
            "  Downloading jupyter-1.1.1-py2.py3-none-any.whl.metadata (2.0 kB)\n",
            "Requirement already satisfied: matplotlib in /usr/local/lib/python3.10/dist-packages (from fynesse==0.1.0) (3.8.0)\n",
            "Collecting pymysql (from fynesse==0.1.0)\n",
            "  Downloading PyMySQL-1.1.1-py3-none-any.whl.metadata (4.4 kB)\n",
            "Collecting osmnx (from fynesse==0.1.0)\n",
            "  Downloading osmnx-2.0.0-py3-none-any.whl.metadata (4.8 kB)\n",
            "Requirement already satisfied: notebook in /usr/local/lib/python3.10/dist-packages (from jupyter->fynesse==0.1.0) (6.5.5)\n",
            "Requirement already satisfied: jupyter-console in /usr/local/lib/python3.10/dist-packages (from jupyter->fynesse==0.1.0) (6.1.0)\n",
            "Requirement already satisfied: nbconvert in /usr/local/lib/python3.10/dist-packages (from jupyter->fynesse==0.1.0) (7.16.4)\n",
            "Requirement already satisfied: ipykernel in /usr/local/lib/python3.10/dist-packages (from jupyter->fynesse==0.1.0) (5.5.6)\n",
            "Requirement already satisfied: ipywidgets in /usr/local/lib/python3.10/dist-packages (from jupyter->fynesse==0.1.0) (7.7.1)\n",
            "Collecting jupyterlab (from jupyter->fynesse==0.1.0)\n",
            "  Downloading jupyterlab-4.3.1-py3-none-any.whl.metadata (16 kB)\n",
            "Requirement already satisfied: contourpy>=1.0.1 in /usr/local/lib/python3.10/dist-packages (from matplotlib->fynesse==0.1.0) (1.3.1)\n",
            "Requirement already satisfied: cycler>=0.10 in /usr/local/lib/python3.10/dist-packages (from matplotlib->fynesse==0.1.0) (0.12.1)\n",
            "Requirement already satisfied: fonttools>=4.22.0 in /usr/local/lib/python3.10/dist-packages (from matplotlib->fynesse==0.1.0) (4.55.0)\n",
            "Requirement already satisfied: kiwisolver>=1.0.1 in /usr/local/lib/python3.10/dist-packages (from matplotlib->fynesse==0.1.0) (1.4.7)\n",
            "Requirement already satisfied: packaging>=20.0 in /usr/local/lib/python3.10/dist-packages (from matplotlib->fynesse==0.1.0) (24.2)\n",
            "Requirement already satisfied: pillow>=6.2.0 in /usr/local/lib/python3.10/dist-packages (from matplotlib->fynesse==0.1.0) (11.0.0)\n",
            "Requirement already satisfied: pyparsing>=2.3.1 in /usr/local/lib/python3.10/dist-packages (from matplotlib->fynesse==0.1.0) (3.2.0)\n",
            "Requirement already satisfied: python-dateutil>=2.7 in /usr/local/lib/python3.10/dist-packages (from matplotlib->fynesse==0.1.0) (2.8.2)\n",
            "Requirement already satisfied: geopandas>=1.0 in /usr/local/lib/python3.10/dist-packages (from osmnx->fynesse==0.1.0) (1.0.1)\n",
            "Requirement already satisfied: networkx>=2.5 in /usr/local/lib/python3.10/dist-packages (from osmnx->fynesse==0.1.0) (3.4.2)\n",
            "Requirement already satisfied: requests>=2.27 in /usr/local/lib/python3.10/dist-packages (from osmnx->fynesse==0.1.0) (2.32.3)\n",
            "Requirement already satisfied: shapely>=2.0 in /usr/local/lib/python3.10/dist-packages (from osmnx->fynesse==0.1.0) (2.0.6)\n",
            "Requirement already satisfied: pytz>=2020.1 in /usr/local/lib/python3.10/dist-packages (from pandas->fynesse==0.1.0) (2024.2)\n",
            "Requirement already satisfied: tzdata>=2022.7 in /usr/local/lib/python3.10/dist-packages (from pandas->fynesse==0.1.0) (2024.2)\n",
            "Requirement already satisfied: pyogrio>=0.7.2 in /usr/local/lib/python3.10/dist-packages (from geopandas>=1.0->osmnx->fynesse==0.1.0) (0.10.0)\n",
            "Requirement already satisfied: pyproj>=3.3.0 in /usr/local/lib/python3.10/dist-packages (from geopandas>=1.0->osmnx->fynesse==0.1.0) (3.7.0)\n",
            "Requirement already satisfied: six>=1.5 in /usr/local/lib/python3.10/dist-packages (from python-dateutil>=2.7->matplotlib->fynesse==0.1.0) (1.16.0)\n",
            "Requirement already satisfied: charset-normalizer<4,>=2 in /usr/local/lib/python3.10/dist-packages (from requests>=2.27->osmnx->fynesse==0.1.0) (3.4.0)\n",
            "Requirement already satisfied: idna<4,>=2.5 in /usr/local/lib/python3.10/dist-packages (from requests>=2.27->osmnx->fynesse==0.1.0) (3.10)\n",
            "Requirement already satisfied: urllib3<3,>=1.21.1 in /usr/local/lib/python3.10/dist-packages (from requests>=2.27->osmnx->fynesse==0.1.0) (2.2.3)\n",
            "Requirement already satisfied: certifi>=2017.4.17 in /usr/local/lib/python3.10/dist-packages (from requests>=2.27->osmnx->fynesse==0.1.0) (2024.8.30)\n",
            "Requirement already satisfied: ipython-genutils in /usr/local/lib/python3.10/dist-packages (from ipykernel->jupyter->fynesse==0.1.0) (0.2.0)\n",
            "Requirement already satisfied: ipython>=5.0.0 in /usr/local/lib/python3.10/dist-packages (from ipykernel->jupyter->fynesse==0.1.0) (7.34.0)\n",
            "Requirement already satisfied: traitlets>=4.1.0 in /usr/local/lib/python3.10/dist-packages (from ipykernel->jupyter->fynesse==0.1.0) (5.7.1)\n",
            "Requirement already satisfied: jupyter-client in /usr/local/lib/python3.10/dist-packages (from ipykernel->jupyter->fynesse==0.1.0) (6.1.12)\n",
            "Requirement already satisfied: tornado>=4.2 in /usr/local/lib/python3.10/dist-packages (from ipykernel->jupyter->fynesse==0.1.0) (6.3.3)\n",
            "Requirement already satisfied: widgetsnbextension~=3.6.0 in /usr/local/lib/python3.10/dist-packages (from ipywidgets->jupyter->fynesse==0.1.0) (3.6.10)\n",
            "Requirement already satisfied: jupyterlab-widgets>=1.0.0 in /usr/local/lib/python3.10/dist-packages (from ipywidgets->jupyter->fynesse==0.1.0) (3.0.13)\n",
            "Requirement already satisfied: prompt-toolkit!=3.0.0,!=3.0.1,<3.1.0,>=2.0.0 in /usr/local/lib/python3.10/dist-packages (from jupyter-console->jupyter->fynesse==0.1.0) (3.0.48)\n",
            "Requirement already satisfied: pygments in /usr/local/lib/python3.10/dist-packages (from jupyter-console->jupyter->fynesse==0.1.0) (2.18.0)\n",
            "Collecting async-lru>=1.0.0 (from jupyterlab->jupyter->fynesse==0.1.0)\n",
            "  Downloading async_lru-2.0.4-py3-none-any.whl.metadata (4.5 kB)\n",
            "Requirement already satisfied: httpx>=0.25.0 in /usr/local/lib/python3.10/dist-packages (from jupyterlab->jupyter->fynesse==0.1.0) (0.27.2)\n",
            "Collecting ipykernel (from jupyter->fynesse==0.1.0)\n",
            "  Downloading ipykernel-6.29.5-py3-none-any.whl.metadata (6.3 kB)\n",
            "Requirement already satisfied: jinja2>=3.0.3 in /usr/local/lib/python3.10/dist-packages (from jupyterlab->jupyter->fynesse==0.1.0) (3.1.4)\n",
            "Requirement already satisfied: jupyter-core in /usr/local/lib/python3.10/dist-packages (from jupyterlab->jupyter->fynesse==0.1.0) (5.7.2)\n",
            "Collecting jupyter-lsp>=2.0.0 (from jupyterlab->jupyter->fynesse==0.1.0)\n",
            "  Downloading jupyter_lsp-2.2.5-py3-none-any.whl.metadata (1.8 kB)\n",
            "Collecting jupyter-server<3,>=2.4.0 (from jupyterlab->jupyter->fynesse==0.1.0)\n",
            "  Downloading jupyter_server-2.14.2-py3-none-any.whl.metadata (8.4 kB)\n",
            "Collecting jupyterlab-server<3,>=2.27.1 (from jupyterlab->jupyter->fynesse==0.1.0)\n",
            "  Downloading jupyterlab_server-2.27.3-py3-none-any.whl.metadata (5.9 kB)\n",
            "Requirement already satisfied: notebook-shim>=0.2 in /usr/local/lib/python3.10/dist-packages (from jupyterlab->jupyter->fynesse==0.1.0) (0.2.4)\n",
            "Requirement already satisfied: setuptools>=40.1.0 in /usr/local/lib/python3.10/dist-packages (from jupyterlab->jupyter->fynesse==0.1.0) (75.1.0)\n",
            "Requirement already satisfied: tomli>=1.2.2 in /usr/local/lib/python3.10/dist-packages (from jupyterlab->jupyter->fynesse==0.1.0) (2.1.0)\n",
            "Collecting comm>=0.1.1 (from ipykernel->jupyter->fynesse==0.1.0)\n",
            "  Downloading comm-0.2.2-py3-none-any.whl.metadata (3.7 kB)\n",
            "Requirement already satisfied: debugpy>=1.6.5 in /usr/local/lib/python3.10/dist-packages (from ipykernel->jupyter->fynesse==0.1.0) (1.8.0)\n",
            "Requirement already satisfied: matplotlib-inline>=0.1 in /usr/local/lib/python3.10/dist-packages (from ipykernel->jupyter->fynesse==0.1.0) (0.1.7)\n",
            "Requirement already satisfied: nest-asyncio in /usr/local/lib/python3.10/dist-packages (from ipykernel->jupyter->fynesse==0.1.0) (1.6.0)\n",
            "Requirement already satisfied: psutil in /usr/local/lib/python3.10/dist-packages (from ipykernel->jupyter->fynesse==0.1.0) (5.9.5)\n",
            "Requirement already satisfied: pyzmq>=24 in /usr/local/lib/python3.10/dist-packages (from ipykernel->jupyter->fynesse==0.1.0) (24.0.1)\n",
            "Requirement already satisfied: beautifulsoup4 in /usr/local/lib/python3.10/dist-packages (from nbconvert->jupyter->fynesse==0.1.0) (4.12.3)\n",
            "Requirement already satisfied: bleach!=5.0.0 in /usr/local/lib/python3.10/dist-packages (from nbconvert->jupyter->fynesse==0.1.0) (6.2.0)\n",
            "Requirement already satisfied: defusedxml in /usr/local/lib/python3.10/dist-packages (from nbconvert->jupyter->fynesse==0.1.0) (0.7.1)\n",
            "Requirement already satisfied: jupyterlab-pygments in /usr/local/lib/python3.10/dist-packages (from nbconvert->jupyter->fynesse==0.1.0) (0.3.0)\n",
            "Requirement already satisfied: markupsafe>=2.0 in /usr/local/lib/python3.10/dist-packages (from nbconvert->jupyter->fynesse==0.1.0) (3.0.2)\n",
            "Requirement already satisfied: mistune<4,>=2.0.3 in /usr/local/lib/python3.10/dist-packages (from nbconvert->jupyter->fynesse==0.1.0) (3.0.2)\n",
            "Requirement already satisfied: nbclient>=0.5.0 in /usr/local/lib/python3.10/dist-packages (from nbconvert->jupyter->fynesse==0.1.0) (0.10.0)\n",
            "Requirement already satisfied: nbformat>=5.7 in /usr/local/lib/python3.10/dist-packages (from nbconvert->jupyter->fynesse==0.1.0) (5.10.4)\n",
            "Requirement already satisfied: pandocfilters>=1.4.1 in /usr/local/lib/python3.10/dist-packages (from nbconvert->jupyter->fynesse==0.1.0) (1.5.1)\n",
            "Requirement already satisfied: tinycss2 in /usr/local/lib/python3.10/dist-packages (from nbconvert->jupyter->fynesse==0.1.0) (1.4.0)\n",
            "Requirement already satisfied: argon2-cffi in /usr/local/lib/python3.10/dist-packages (from notebook->jupyter->fynesse==0.1.0) (23.1.0)\n",
            "Requirement already satisfied: Send2Trash>=1.8.0 in /usr/local/lib/python3.10/dist-packages (from notebook->jupyter->fynesse==0.1.0) (1.8.3)\n",
            "Requirement already satisfied: terminado>=0.8.3 in /usr/local/lib/python3.10/dist-packages (from notebook->jupyter->fynesse==0.1.0) (0.18.1)\n",
            "Requirement already satisfied: prometheus-client in /usr/local/lib/python3.10/dist-packages (from notebook->jupyter->fynesse==0.1.0) (0.21.0)\n",
            "Requirement already satisfied: nbclassic>=0.4.7 in /usr/local/lib/python3.10/dist-packages (from notebook->jupyter->fynesse==0.1.0) (1.1.0)\n",
            "Requirement already satisfied: typing-extensions>=4.0.0 in /usr/local/lib/python3.10/dist-packages (from async-lru>=1.0.0->jupyterlab->jupyter->fynesse==0.1.0) (4.12.2)\n",
            "Requirement already satisfied: webencodings in /usr/local/lib/python3.10/dist-packages (from bleach!=5.0.0->nbconvert->jupyter->fynesse==0.1.0) (0.5.1)\n",
            "Requirement already satisfied: anyio in /usr/local/lib/python3.10/dist-packages (from httpx>=0.25.0->jupyterlab->jupyter->fynesse==0.1.0) (3.7.1)\n",
            "Requirement already satisfied: httpcore==1.* in /usr/local/lib/python3.10/dist-packages (from httpx>=0.25.0->jupyterlab->jupyter->fynesse==0.1.0) (1.0.7)\n",
            "Requirement already satisfied: sniffio in /usr/local/lib/python3.10/dist-packages (from httpx>=0.25.0->jupyterlab->jupyter->fynesse==0.1.0) (1.3.1)\n",
            "Requirement already satisfied: h11<0.15,>=0.13 in /usr/local/lib/python3.10/dist-packages (from httpcore==1.*->httpx>=0.25.0->jupyterlab->jupyter->fynesse==0.1.0) (0.14.0)\n",
            "Collecting jedi>=0.16 (from ipython>=5.0.0->ipykernel->jupyter->fynesse==0.1.0)\n",
            "  Downloading jedi-0.19.2-py2.py3-none-any.whl.metadata (22 kB)\n",
            "Requirement already satisfied: decorator in /usr/local/lib/python3.10/dist-packages (from ipython>=5.0.0->ipykernel->jupyter->fynesse==0.1.0) (4.4.2)\n",
            "Requirement already satisfied: pickleshare in /usr/local/lib/python3.10/dist-packages (from ipython>=5.0.0->ipykernel->jupyter->fynesse==0.1.0) (0.7.5)\n",
            "Requirement already satisfied: backcall in /usr/local/lib/python3.10/dist-packages (from ipython>=5.0.0->ipykernel->jupyter->fynesse==0.1.0) (0.2.0)\n",
            "Requirement already satisfied: pexpect>4.3 in /usr/local/lib/python3.10/dist-packages (from ipython>=5.0.0->ipykernel->jupyter->fynesse==0.1.0) (4.9.0)\n",
            "Requirement already satisfied: platformdirs>=2.5 in /usr/local/lib/python3.10/dist-packages (from jupyter-core->jupyterlab->jupyter->fynesse==0.1.0) (4.3.6)\n",
            "Collecting jupyter-client (from jupyter-console->jupyter->fynesse==0.1.0)\n",
            "  Downloading jupyter_client-7.4.9-py3-none-any.whl.metadata (8.5 kB)\n",
            "Collecting jupyter-events>=0.9.0 (from jupyter-server<3,>=2.4.0->jupyterlab->jupyter->fynesse==0.1.0)\n",
            "  Downloading jupyter_events-0.10.0-py3-none-any.whl.metadata (5.9 kB)\n",
            "Collecting jupyter-server-terminals>=0.4.4 (from jupyter-server<3,>=2.4.0->jupyterlab->jupyter->fynesse==0.1.0)\n",
            "  Downloading jupyter_server_terminals-0.5.3-py3-none-any.whl.metadata (5.6 kB)\n",
            "Collecting overrides>=5.0 (from jupyter-server<3,>=2.4.0->jupyterlab->jupyter->fynesse==0.1.0)\n",
            "  Downloading overrides-7.7.0-py3-none-any.whl.metadata (5.8 kB)\n",
            "Requirement already satisfied: websocket-client>=1.7 in /usr/local/lib/python3.10/dist-packages (from jupyter-server<3,>=2.4.0->jupyterlab->jupyter->fynesse==0.1.0) (1.8.0)\n",
            "Requirement already satisfied: argon2-cffi-bindings in /usr/local/lib/python3.10/dist-packages (from argon2-cffi->notebook->jupyter->fynesse==0.1.0) (21.2.0)\n",
            "Requirement already satisfied: entrypoints in /usr/local/lib/python3.10/dist-packages (from jupyter-client->jupyter-console->jupyter->fynesse==0.1.0) (0.4)\n",
            "Requirement already satisfied: babel>=2.10 in /usr/local/lib/python3.10/dist-packages (from jupyterlab-server<3,>=2.27.1->jupyterlab->jupyter->fynesse==0.1.0) (2.16.0)\n",
            "Collecting json5>=0.9.0 (from jupyterlab-server<3,>=2.27.1->jupyterlab->jupyter->fynesse==0.1.0)\n",
            "  Downloading json5-0.10.0-py3-none-any.whl.metadata (34 kB)\n",
            "Requirement already satisfied: jsonschema>=4.18.0 in /usr/local/lib/python3.10/dist-packages (from jupyterlab-server<3,>=2.27.1->jupyterlab->jupyter->fynesse==0.1.0) (4.23.0)\n",
            "Requirement already satisfied: fastjsonschema>=2.15 in /usr/local/lib/python3.10/dist-packages (from nbformat>=5.7->nbconvert->jupyter->fynesse==0.1.0) (2.20.0)\n",
            "Requirement already satisfied: wcwidth in /usr/local/lib/python3.10/dist-packages (from prompt-toolkit!=3.0.0,!=3.0.1,<3.1.0,>=2.0.0->jupyter-console->jupyter->fynesse==0.1.0) (0.2.13)\n",
            "Requirement already satisfied: ptyprocess in /usr/local/lib/python3.10/dist-packages (from terminado>=0.8.3->notebook->jupyter->fynesse==0.1.0) (0.7.0)\n",
            "Requirement already satisfied: soupsieve>1.2 in /usr/local/lib/python3.10/dist-packages (from beautifulsoup4->nbconvert->jupyter->fynesse==0.1.0) (2.6)\n",
            "Requirement already satisfied: exceptiongroup in /usr/local/lib/python3.10/dist-packages (from anyio->httpx>=0.25.0->jupyterlab->jupyter->fynesse==0.1.0) (1.2.2)\n",
            "Requirement already satisfied: parso<0.9.0,>=0.8.4 in /usr/local/lib/python3.10/dist-packages (from jedi>=0.16->ipython>=5.0.0->ipykernel->jupyter->fynesse==0.1.0) (0.8.4)\n",
            "Requirement already satisfied: attrs>=22.2.0 in /usr/local/lib/python3.10/dist-packages (from jsonschema>=4.18.0->jupyterlab-server<3,>=2.27.1->jupyterlab->jupyter->fynesse==0.1.0) (24.2.0)\n",
            "Requirement already satisfied: jsonschema-specifications>=2023.03.6 in /usr/local/lib/python3.10/dist-packages (from jsonschema>=4.18.0->jupyterlab-server<3,>=2.27.1->jupyterlab->jupyter->fynesse==0.1.0) (2024.10.1)\n",
            "Requirement already satisfied: referencing>=0.28.4 in /usr/local/lib/python3.10/dist-packages (from jsonschema>=4.18.0->jupyterlab-server<3,>=2.27.1->jupyterlab->jupyter->fynesse==0.1.0) (0.35.1)\n",
            "Requirement already satisfied: rpds-py>=0.7.1 in /usr/local/lib/python3.10/dist-packages (from jsonschema>=4.18.0->jupyterlab-server<3,>=2.27.1->jupyterlab->jupyter->fynesse==0.1.0) (0.21.0)\n",
            "Collecting python-json-logger>=2.0.4 (from jupyter-events>=0.9.0->jupyter-server<3,>=2.4.0->jupyterlab->jupyter->fynesse==0.1.0)\n",
            "  Downloading python_json_logger-2.0.7-py3-none-any.whl.metadata (6.5 kB)\n",
            "Requirement already satisfied: pyyaml>=5.3 in /usr/local/lib/python3.10/dist-packages (from jupyter-events>=0.9.0->jupyter-server<3,>=2.4.0->jupyterlab->jupyter->fynesse==0.1.0) (6.0.2)\n",
            "Collecting rfc3339-validator (from jupyter-events>=0.9.0->jupyter-server<3,>=2.4.0->jupyterlab->jupyter->fynesse==0.1.0)\n",
            "  Downloading rfc3339_validator-0.1.4-py2.py3-none-any.whl.metadata (1.5 kB)\n",
            "Collecting rfc3986-validator>=0.1.1 (from jupyter-events>=0.9.0->jupyter-server<3,>=2.4.0->jupyterlab->jupyter->fynesse==0.1.0)\n",
            "  Downloading rfc3986_validator-0.1.1-py2.py3-none-any.whl.metadata (1.7 kB)\n",
            "Requirement already satisfied: cffi>=1.0.1 in /usr/local/lib/python3.10/dist-packages (from argon2-cffi-bindings->argon2-cffi->notebook->jupyter->fynesse==0.1.0) (1.17.1)\n",
            "Requirement already satisfied: pycparser in /usr/local/lib/python3.10/dist-packages (from cffi>=1.0.1->argon2-cffi-bindings->argon2-cffi->notebook->jupyter->fynesse==0.1.0) (2.22)\n",
            "Collecting fqdn (from jsonschema[format-nongpl]>=4.18.0->jupyter-events>=0.9.0->jupyter-server<3,>=2.4.0->jupyterlab->jupyter->fynesse==0.1.0)\n",
            "  Downloading fqdn-1.5.1-py3-none-any.whl.metadata (1.4 kB)\n",
            "Collecting isoduration (from jsonschema[format-nongpl]>=4.18.0->jupyter-events>=0.9.0->jupyter-server<3,>=2.4.0->jupyterlab->jupyter->fynesse==0.1.0)\n",
            "  Downloading isoduration-20.11.0-py3-none-any.whl.metadata (5.7 kB)\n",
            "Requirement already satisfied: jsonpointer>1.13 in /usr/local/lib/python3.10/dist-packages (from jsonschema[format-nongpl]>=4.18.0->jupyter-events>=0.9.0->jupyter-server<3,>=2.4.0->jupyterlab->jupyter->fynesse==0.1.0) (3.0.0)\n",
            "Collecting uri-template (from jsonschema[format-nongpl]>=4.18.0->jupyter-events>=0.9.0->jupyter-server<3,>=2.4.0->jupyterlab->jupyter->fynesse==0.1.0)\n",
            "  Downloading uri_template-1.3.0-py3-none-any.whl.metadata (8.8 kB)\n",
            "Requirement already satisfied: webcolors>=24.6.0 in /usr/local/lib/python3.10/dist-packages (from jsonschema[format-nongpl]>=4.18.0->jupyter-events>=0.9.0->jupyter-server<3,>=2.4.0->jupyterlab->jupyter->fynesse==0.1.0) (24.11.1)\n",
            "Collecting arrow>=0.15.0 (from isoduration->jsonschema[format-nongpl]>=4.18.0->jupyter-events>=0.9.0->jupyter-server<3,>=2.4.0->jupyterlab->jupyter->fynesse==0.1.0)\n",
            "  Downloading arrow-1.3.0-py3-none-any.whl.metadata (7.5 kB)\n",
            "Collecting types-python-dateutil>=2.8.10 (from arrow>=0.15.0->isoduration->jsonschema[format-nongpl]>=4.18.0->jupyter-events>=0.9.0->jupyter-server<3,>=2.4.0->jupyterlab->jupyter->fynesse==0.1.0)\n",
            "  Downloading types_python_dateutil-2.9.0.20241003-py3-none-any.whl.metadata (1.9 kB)\n",
            "Downloading jupyter-1.1.1-py2.py3-none-any.whl (2.7 kB)\n",
            "Downloading osmnx-2.0.0-py3-none-any.whl (99 kB)\n",
            "\u001b[2K   \u001b[90m━━━━━━━━━━━━━━━━━━━━━━━━━━━━━━━━━━━━━━━━\u001b[0m \u001b[32m99.4/99.4 kB\u001b[0m \u001b[31m3.8 MB/s\u001b[0m eta \u001b[36m0:00:00\u001b[0m\n",
            "\u001b[?25hDownloading PyMySQL-1.1.1-py3-none-any.whl (44 kB)\n",
            "\u001b[2K   \u001b[90m━━━━━━━━━━━━━━━━━━━━━━━━━━━━━━━━━━━━━━━━\u001b[0m \u001b[32m45.0/45.0 kB\u001b[0m \u001b[31m2.1 MB/s\u001b[0m eta \u001b[36m0:00:00\u001b[0m\n",
            "\u001b[?25hDownloading jupyterlab-4.3.1-py3-none-any.whl (11.7 MB)\n",
            "\u001b[2K   \u001b[90m━━━━━━━━━━━━━━━━━━━━━━━━━━━━━━━━━━━━━━━━\u001b[0m \u001b[32m11.7/11.7 MB\u001b[0m \u001b[31m47.1 MB/s\u001b[0m eta \u001b[36m0:00:00\u001b[0m\n",
            "\u001b[?25hDownloading ipykernel-6.29.5-py3-none-any.whl (117 kB)\n",
            "\u001b[2K   \u001b[90m━━━━━━━━━━━━━━━━━━━━━━━━━━━━━━━━━━━━━━━━\u001b[0m \u001b[32m117.2/117.2 kB\u001b[0m \u001b[31m8.7 MB/s\u001b[0m eta \u001b[36m0:00:00\u001b[0m\n",
            "\u001b[?25hDownloading async_lru-2.0.4-py3-none-any.whl (6.1 kB)\n",
            "Downloading comm-0.2.2-py3-none-any.whl (7.2 kB)\n",
            "Downloading jupyter_lsp-2.2.5-py3-none-any.whl (69 kB)\n",
            "\u001b[2K   \u001b[90m━━━━━━━━━━━━━━━━━━━━━━━━━━━━━━━━━━━━━━━━\u001b[0m \u001b[32m69.1/69.1 kB\u001b[0m \u001b[31m4.5 MB/s\u001b[0m eta \u001b[36m0:00:00\u001b[0m\n",
            "\u001b[?25hDownloading jupyter_server-2.14.2-py3-none-any.whl (383 kB)\n",
            "\u001b[2K   \u001b[90m━━━━━━━━━━━━━━━━━━━━━━━━━━━━━━━━━━━━━━━━\u001b[0m \u001b[32m383.6/383.6 kB\u001b[0m \u001b[31m16.4 MB/s\u001b[0m eta \u001b[36m0:00:00\u001b[0m\n",
            "\u001b[?25hDownloading jupyter_client-7.4.9-py3-none-any.whl (133 kB)\n",
            "\u001b[2K   \u001b[90m━━━━━━━━━━━━━━━━━━━━━━━━━━━━━━━━━━━━━━━━\u001b[0m \u001b[32m133.5/133.5 kB\u001b[0m \u001b[31m8.0 MB/s\u001b[0m eta \u001b[36m0:00:00\u001b[0m\n",
            "\u001b[?25hDownloading jupyterlab_server-2.27.3-py3-none-any.whl (59 kB)\n",
            "\u001b[2K   \u001b[90m━━━━━━━━━━━━━━━━━━━━━━━━━━━━━━━━━━━━━━━━\u001b[0m \u001b[32m59.7/59.7 kB\u001b[0m \u001b[31m3.9 MB/s\u001b[0m eta \u001b[36m0:00:00\u001b[0m\n",
            "\u001b[?25hDownloading jedi-0.19.2-py2.py3-none-any.whl (1.6 MB)\n",
            "\u001b[2K   \u001b[90m━━━━━━━━━━━━━━━━━━━━━━━━━━━━━━━━━━━━━━━━\u001b[0m \u001b[32m1.6/1.6 MB\u001b[0m \u001b[31m29.0 MB/s\u001b[0m eta \u001b[36m0:00:00\u001b[0m\n",
            "\u001b[?25hDownloading json5-0.10.0-py3-none-any.whl (34 kB)\n",
            "Downloading jupyter_events-0.10.0-py3-none-any.whl (18 kB)\n",
            "Downloading jupyter_server_terminals-0.5.3-py3-none-any.whl (13 kB)\n",
            "Downloading overrides-7.7.0-py3-none-any.whl (17 kB)\n",
            "Downloading python_json_logger-2.0.7-py3-none-any.whl (8.1 kB)\n",
            "Downloading rfc3986_validator-0.1.1-py2.py3-none-any.whl (4.2 kB)\n",
            "Downloading rfc3339_validator-0.1.4-py2.py3-none-any.whl (3.5 kB)\n",
            "Downloading fqdn-1.5.1-py3-none-any.whl (9.1 kB)\n",
            "Downloading isoduration-20.11.0-py3-none-any.whl (11 kB)\n",
            "Downloading uri_template-1.3.0-py3-none-any.whl (11 kB)\n",
            "Downloading arrow-1.3.0-py3-none-any.whl (66 kB)\n",
            "\u001b[2K   \u001b[90m━━━━━━━━━━━━━━━━━━━━━━━━━━━━━━━━━━━━━━━━\u001b[0m \u001b[32m66.4/66.4 kB\u001b[0m \u001b[31m4.5 MB/s\u001b[0m eta \u001b[36m0:00:00\u001b[0m\n",
            "\u001b[?25hDownloading types_python_dateutil-2.9.0.20241003-py3-none-any.whl (9.7 kB)\n",
            "Building wheels for collected packages: fynesse\n",
            "  Building wheel for fynesse (setup.py) ... \u001b[?25l\u001b[?25hdone\n",
            "  Created wheel for fynesse: filename=fynesse-0.1.0-py3-none-any.whl size=9693 sha256=455b9a28e9b5b7500fb5118b69ed2b080dea14ef86f4ce03023b6c8e148e55fd\n",
            "  Stored in directory: /tmp/pip-ephem-wheel-cache-nghsfagi/wheels/3a/47/24/1dda4db77bb19fc147a769025628efb9fe3fa786bea54062fe\n",
            "Successfully built fynesse\n",
            "Installing collected packages: uri-template, types-python-dateutil, rfc3986-validator, rfc3339-validator, python-json-logger, pymysql, overrides, json5, jedi, fqdn, comm, async-lru, jupyter-server-terminals, jupyter-client, arrow, isoduration, ipykernel, osmnx, jupyter-events, jupyter-server, jupyterlab-server, jupyter-lsp, jupyterlab, jupyter, fynesse\n",
            "  Attempting uninstall: jupyter-client\n",
            "    Found existing installation: jupyter-client 6.1.12\n",
            "    Uninstalling jupyter-client-6.1.12:\n",
            "      Successfully uninstalled jupyter-client-6.1.12\n",
            "  Attempting uninstall: ipykernel\n",
            "    Found existing installation: ipykernel 5.5.6\n",
            "    Uninstalling ipykernel-5.5.6:\n",
            "      Successfully uninstalled ipykernel-5.5.6\n",
            "  Attempting uninstall: jupyter-server\n",
            "    Found existing installation: jupyter-server 1.24.0\n",
            "    Uninstalling jupyter-server-1.24.0:\n",
            "      Successfully uninstalled jupyter-server-1.24.0\n",
            "\u001b[31mERROR: pip's dependency resolver does not currently take into account all the packages that are installed. This behaviour is the source of the following dependency conflicts.\n",
            "google-colab 1.0.0 requires ipykernel==5.5.6, but you have ipykernel 6.29.5 which is incompatible.\u001b[0m\u001b[31m\n",
            "\u001b[0mSuccessfully installed arrow-1.3.0 async-lru-2.0.4 comm-0.2.2 fqdn-1.5.1 fynesse-0.1.0 ipykernel-6.29.5 isoduration-20.11.0 jedi-0.19.2 json5-0.10.0 jupyter-1.1.1 jupyter-client-7.4.9 jupyter-events-0.10.0 jupyter-lsp-2.2.5 jupyter-server-2.14.2 jupyter-server-terminals-0.5.3 jupyterlab-4.3.1 jupyterlab-server-2.27.3 osmnx-2.0.0 overrides-7.7.0 pymysql-1.1.1 python-json-logger-2.0.7 rfc3339-validator-0.1.4 rfc3986-validator-0.1.1 types-python-dateutil-2.9.0.20241003 uri-template-1.3.0\n"
          ]
        }
      ],
      "source": [
        "#%pip uninstall fynesse -y\n",
        "%pip install git+https://github.com/JDS289/jd2016_ads_2024.git"
      ]
    },
    {
      "cell_type": "code",
      "execution_count": 2,
      "metadata": {
        "id": "3x_sHEuXn08a"
      },
      "outputs": [],
      "source": [
        "import pandas as pd\n",
        "import numpy as np\n",
        "import osmnx as ox\n",
        "import requests\n",
        "import os\n",
        "import pandas as pd\n",
        "import fynesse"
      ]
    },
    {
      "cell_type": "code",
      "execution_count": 3,
      "metadata": {
        "colab": {
          "base_uri": "https://localhost:8080/"
        },
        "id": "zb4p6V8_376U",
        "outputId": "e292e13e-0635-4a91-f832-1176edb678ae"
      },
      "outputs": [
        {
          "output_type": "stream",
          "name": "stdout",
          "text": [
            "Connection established!\n"
          ]
        }
      ],
      "source": [
        "conn = fynesse.access.create_connection(\"admin\", \"ayT2adBkqim\", \"database-ads-jd2016.cgrre17yxw11.eu-west-2.rds.amazonaws.com\", \"ads_2024\")"
      ]
    },
    {
      "cell_type": "code",
      "execution_count": 4,
      "metadata": {
        "id": "Y2cTv6jifgim"
      },
      "outputs": [],
      "source": [
        "cur = conn.cursor()"
      ]
    },
    {
      "cell_type": "code",
      "execution_count": null,
      "metadata": {
        "colab": {
          "base_uri": "https://localhost:8080/"
        },
        "id": "mBwpJqJT6m6J",
        "outputId": "75ab48de-5027-44c0-b81f-d8ac0b0f0358"
      },
      "outputs": [
        {
          "output_type": "stream",
          "name": "stdout",
          "text": [
            "('E00000001', 159, 80, 38, 13, 9, 3, 5, 5, 4, 2, Decimal('0.0126'))\n",
            "('E00000003', 222, 96, 58, 8, 26, 2, 5, 2, 5, 20, Decimal('0.0901'))\n",
            "('E00000005', 103, 37, 28, 8, 21, 0, 3, 1, 1, 4, Decimal('0.0388'))\n",
            "('E00000007', 140, 62, 39, 5, 11, 3, 3, 1, 6, 10, Decimal('0.0714'))\n",
            "('E00000010', 170, 34, 45, 17, 27, 7, 10, 14, 11, 5, Decimal('0.0294'))\n"
          ]
        }
      ],
      "source": [
        "cur.execute(\"SELECT *, (l15 / total) FROM `census2021_ts062_oa` LIMIT 5;\")\n",
        "\n",
        "print(*cur.fetchall(), sep=\"\\n\")"
      ]
    },
    {
      "cell_type": "code",
      "execution_count": null,
      "metadata": {
        "id": "HdIZMcfTNopG"
      },
      "outputs": [],
      "source": [
        "# To access OSM data, I downloaded united_kingdom-latest.osm.pbf from https://download.openstreetmap.fr/extracts/europe,\n",
        "# then decompressed to .osm using Osmosis (https://wiki.openstreetmap.org/wiki/Osmosis)."
      ]
    },
    {
      "cell_type": "code",
      "execution_count": null,
      "metadata": {
        "id": "VscFvIFkIPgo"
      },
      "outputs": [],
      "source": [
        "import json\n",
        "\n",
        "with open('oa_boundaries.geojson') as f:\n",
        "  d = json.load(f)"
      ]
    },
    {
      "cell_type": "code",
      "source": [],
      "metadata": {
        "id": "IAsz6W3wbkrH"
      },
      "execution_count": 26,
      "outputs": []
    },
    {
      "cell_type": "code",
      "source": [
        "print(*list(d.values())[2][:100], sep=\"\\n\")"
      ],
      "metadata": {
        "colab": {
          "base_uri": "https://localhost:8080/"
        },
        "id": "1RWT6M-2kGha",
        "outputId": "8ce59424-df1d-4e8d-e5be-3b7f21bf5ded"
      },
      "execution_count": 27,
      "outputs": [
        {
          "output_type": "stream",
          "name": "stdout",
          "text": [
            "{'type': 'Feature', 'id': 1, 'geometry': {'type': 'Polygon', 'coordinates': [[[51.519759, -0.094505], [51.520069, -0.095791], [51.520325, -0.096046], [51.520241, -0.09651], [51.520274, -0.096516], [51.520502, -0.095268], [51.520594, -0.094771], [51.520663, -0.094389], [51.519759, -0.094505]]]}, 'properties': {'FID': 1, 'OA21CD': 'E00000001', 'LSOA21CD': 'E01000001', 'LSOA21NM': 'City of London 001A', 'LSOA21NMW': ' ', 'BNG_E': 532250, 'BNG_N': 181864, 'LAT': 51.52022, 'LONG': -0.09523, 'GlobalID': '3a44dd3d-5082-4a09-9b9c-3a5fadc811ed'}}\n",
            "{'type': 'Feature', 'id': 2, 'geometry': {'type': 'Polygon', 'coordinates': [[[51.520069, -0.095791], [51.519623, -0.096138], [51.519329, -0.096301], [51.519718, -0.096634], [51.519679, -0.097048], [51.520241, -0.09651], [51.520325, -0.096046], [51.520069, -0.095791]]]}, 'properties': {'FID': 2, 'OA21CD': 'E00000003', 'LSOA21CD': 'E01000001', 'LSOA21NM': 'City of London 001A', 'LSOA21NMW': ' ', 'BNG_E': 532171, 'BNG_N': 181819, 'LAT': 51.51983, 'LONG': -0.09638, 'GlobalID': 'f1216dc8-14d1-4857-9230-cab0641758fb'}}\n",
            "{'type': 'Feature', 'id': 3, 'geometry': {'type': 'Polygon', 'coordinates': [[[51.519329, -0.096301], [51.518789, -0.095761], [51.518472, -0.096031], [51.51862, -0.097135], [51.519679, -0.097048], [51.519718, -0.096634], [51.519329, -0.096301]]]}, 'properties': {'FID': 3, 'OA21CD': 'E00000005', 'LSOA21CD': 'E01000001', 'LSOA21NM': 'City of London 001A', 'LSOA21NMW': ' ', 'BNG_E': 532166, 'BNG_N': 181722, 'LAT': 51.51896, 'LONG': -0.09649, 'GlobalID': '44d6f70f-549c-4288-9b6d-de2adbf02582'}}\n",
            "{'type': 'Feature', 'id': 4, 'geometry': {'type': 'Polygon', 'coordinates': [[[51.518472, -0.096031], [51.518237, -0.095084], [51.516753, -0.095934], [51.516587, -0.094943], [51.51544, -0.095481], [51.514967, -0.095797], [51.514841, -0.096589], [51.515537, -0.097983], [51.5166, -0.097854], [51.516768, -0.099749], [51.51745, -0.099669], [51.517759, -0.099169], [51.517897, -0.0982], [51.517546, -0.098044], [51.51768, -0.097588], [51.518001, -0.097035], [51.51862, -0.097135], [51.518472, -0.096031]]]}, 'properties': {'FID': 4, 'OA21CD': 'E00000007', 'LSOA21CD': 'E01000001', 'LSOA21NM': 'City of London 001A', 'LSOA21NMW': ' ', 'BNG_E': 532088, 'BNG_N': 181473, 'LAT': 51.51674, 'LONG': -0.09771, 'GlobalID': '4dd683e1-9a5c-46cf-9e19-8465c8fbb6cb'}}\n",
            "{'type': 'Feature', 'id': 5, 'geometry': {'type': 'Polygon', 'coordinates': [[[51.522668, -0.096914], [51.522172, -0.097492], [51.522918, -0.09772], [51.522668, -0.096914]]]}, 'properties': {'FID': 5, 'OA21CD': 'E00000010', 'LSOA21CD': 'E01000003', 'LSOA21NM': 'City of London 001C', 'LSOA21NMW': ' ', 'BNG_E': 532092, 'BNG_N': 182114, 'LAT': 51.5225, 'LONG': -0.09741, 'GlobalID': '7476781f-8fe4-4c9b-bde1-0eecbd146dff'}}\n",
            "{'type': 'Feature', 'id': 6, 'geometry': {'type': 'Polygon', 'coordinates': [[[51.520522, -0.095278], [51.520502, -0.095268], [51.520274, -0.096516], [51.521571, -0.097286], [51.52163, -0.096492], [51.520917, -0.096159], [51.520522, -0.095278]]]}, 'properties': {'FID': 6, 'OA21CD': 'E00000013', 'LSOA21CD': 'E01000003', 'LSOA21NM': 'City of London 001C', 'LSOA21NMW': ' ', 'BNG_E': 532177, 'BNG_N': 181926, 'LAT': 51.52079, 'LONG': -0.09625, 'GlobalID': 'bb65163a-10b5-453c-ad07-4778027554c4'}}\n",
            "{'type': 'Feature', 'id': 7, 'geometry': {'type': 'Polygon', 'coordinates': [[[51.519986, -0.092525], [51.519372, -0.09104], [51.518567, -0.091506], [51.518945, -0.093028], [51.518049, -0.093372], [51.518489, -0.094766], [51.518237, -0.095084], [51.519287, -0.095085], [51.519759, -0.094505], [51.520663, -0.094389], [51.520594, -0.094771], [51.520776, -0.093922], [51.52091, -0.093052], [51.519986, -0.092525]]]}, 'properties': {'FID': 7, 'OA21CD': 'E00000018', 'LSOA21CD': 'E01000002', 'LSOA21NM': 'City of London 001B', 'LSOA21NMW': ' ', 'BNG_E': 532397, 'BNG_N': 181793, 'LAT': 51.51954, 'LONG': -0.09314, 'GlobalID': '0056db34-f840-4dae-a89c-d2fab8a304bf'}}\n",
            "{'type': 'Feature', 'id': 8, 'geometry': {'type': 'Polygon', 'coordinates': [[[51.519983, -0.089946], [51.519517, -0.090198], [51.519372, -0.09104], [51.519986, -0.092525], [51.51973, -0.091082], [51.520817, -0.090585], [51.520687, -0.089695], [51.519983, -0.089946]]]}, 'properties': {'FID': 8, 'OA21CD': 'E00000019', 'LSOA21CD': 'E01000002', 'LSOA21NM': 'City of London 001B', 'LSOA21NMW': ' ', 'BNG_E': 532587, 'BNG_N': 181856, 'LAT': 51.52007, 'LONG': -0.09037, 'GlobalID': '3553c9c4-23fb-4ab4-819d-2bd74a4ac47e'}}\n",
            "{'type': 'Feature', 'id': 9, 'geometry': {'type': 'Polygon', 'coordinates': [[[51.518567, -0.091506], [51.519372, -0.09104], [51.519517, -0.090198], [51.518093, -0.091197], [51.518567, -0.091506]]]}, 'properties': {'FID': 9, 'OA21CD': 'E00000020', 'LSOA21CD': 'E01000002', 'LSOA21NM': 'City of London 001B', 'LSOA21NMW': ' ', 'BNG_E': 532559, 'BNG_N': 181730, 'LAT': 51.51894, 'LONG': -0.09083, 'GlobalID': 'd44a3efc-e733-4e56-8ca6-22e8e066f039'}}\n",
            "{'type': 'Feature', 'id': 10, 'geometry': {'type': 'Polygon', 'coordinates': [[[51.519411, -0.088129], [51.517516, -0.089291], [51.517477, -0.09012], [51.51708, -0.09031], [51.517262, -0.090806], [51.517539, -0.090687], [51.517648, -0.09142], [51.515831, -0.092416], [51.514093, -0.094032], [51.514237, -0.094779], [51.514527, -0.094692], [51.51459, -0.095227], [51.515278, -0.095035], [51.51544, -0.095481], [51.516587, -0.094943], [51.516753, -0.095934], [51.518237, -0.095084], [51.518489, -0.094766], [51.518049, -0.093372], [51.518945, -0.093028], [51.518567, -0.091506], [51.518093, -0.091197], [51.519517, -0.090198], [51.519983, -0.089946], [51.519411, -0.088129]]]}, 'properties': {'FID': 10, 'OA21CD': 'E00000021', 'LSOA21CD': 'E01000002', 'LSOA21NM': 'City of London 001B', 'LSOA21NMW': ' ', 'BNG_E': 532371, 'BNG_N': 181517, 'LAT': 51.51707, 'LONG': -0.09361, 'GlobalID': '6145f900-2aaf-4138-99fb-444d02630445'}}\n",
            "{'type': 'Feature', 'id': 11, 'geometry': {'type': 'Polygon', 'coordinates': [[[51.523053, -0.095097], [51.522676, -0.095512], [51.522566, -0.096383], [51.522668, -0.096914], [51.522918, -0.09772], [51.52325, -0.096786], [51.522821, -0.096471], [51.523053, -0.095097]]]}, 'properties': {'FID': 11, 'OA21CD': 'E00000022', 'LSOA21CD': 'E01000003', 'LSOA21NM': 'City of London 001C', 'LSOA21NMW': ' ', 'BNG_E': 532114, 'BNG_N': 182161, 'LAT': 51.52292, 'LONG': -0.09707, 'GlobalID': '0a6bb66f-9d58-4063-b3a4-525a1d3d7563'}}\n",
            "{'type': 'Feature', 'id': 12, 'geometry': {'type': 'Polygon', 'coordinates': [[[51.522046, -0.094559], [51.521461, -0.094339], [51.521391, -0.095381], [51.521709, -0.095499], [51.522209, -0.095483], [51.522207, -0.096434], [51.522566, -0.096383], [51.522676, -0.095512], [51.523053, -0.095097], [51.522046, -0.094559]]]}, 'properties': {'FID': 12, 'OA21CD': 'E00000023', 'LSOA21CD': 'E01000003', 'LSOA21NM': 'City of London 001C', 'LSOA21NMW': ' ', 'BNG_E': 532236, 'BNG_N': 182105, 'LAT': 51.52239, 'LONG': -0.09534, 'GlobalID': '5716f2b7-ee52-48e6-812f-9eef886af5cf'}}\n",
            "{'type': 'Feature', 'id': 13, 'geometry': {'type': 'Polygon', 'coordinates': [[[51.51544, -0.095481], [51.515278, -0.095035], [51.51459, -0.095227], [51.514527, -0.094692], [51.514237, -0.094779], [51.513893, -0.095399], [51.514013, -0.09644], [51.513381, -0.096656], [51.513417, -0.097076], [51.512274, -0.097378], [51.51188, -0.097763], [51.511853, -0.098594], [51.510682, -0.098944], [51.510815, -0.099832], [51.510825, -0.099899], [51.51085, -0.104572], [51.513584, -0.104307], [51.513754, -0.102231], [51.516245, -0.101585], [51.516768, -0.099749], [51.5166, -0.097854], [51.515537, -0.097983], [51.514841, -0.096589], [51.514967, -0.095797], [51.51544, -0.095481]]]}, 'properties': {'FID': 13, 'OA21CD': 'E00000024', 'LSOA21CD': 'E01032739', 'LSOA21NM': 'City of London 001F', 'LSOA21NMW': ' ', 'BNG_E': 531966, 'BNG_N': 181139, 'LAT': 51.51377, 'LONG': -0.09959, 'GlobalID': '68170f22-2901-4e33-b23f-befbe3748d77'}}\n",
            "{'type': 'Feature', 'id': 14, 'geometry': {'type': 'Polygon', 'coordinates': [[[51.513584, -0.104307], [51.51085, -0.104572], [51.510871, -0.108485], [51.510833, -0.111485], [51.511654, -0.111504], [51.51265, -0.112497], [51.513162, -0.111722], [51.513658, -0.111927], [51.513827, -0.111056], [51.514129, -0.109477], [51.515397, -0.109496], [51.515258, -0.10868], [51.51549, -0.108022], [51.515046, -0.107373], [51.515685, -0.10735], [51.515806, -0.104766], [51.51437, -0.104364], [51.514182, -0.104992], [51.513591, -0.105173], [51.513584, -0.104307]]]}, 'properties': {'FID': 14, 'OA21CD': 'E00000025', 'LSOA21CD': 'E01032740', 'LSOA21NM': 'City of London 001G', 'LSOA21NMW': ' ', 'BNG_E': 531384, 'BNG_N': 181072, 'LAT': 51.5133, 'LONG': -0.108, 'GlobalID': 'e18372c9-ebe5-476f-8d3a-46a1465300d7'}}\n",
            "{'type': 'Feature', 'id': 15, 'geometry': {'type': 'Polygon', 'coordinates': [[[51.518095, -0.110672], [51.517905, -0.109407], [51.517523, -0.109805], [51.516819, -0.109585], [51.516466, -0.111291], [51.516069, -0.110403], [51.51604, -0.109253], [51.515397, -0.109496], [51.514129, -0.109477], [51.513827, -0.111056], [51.515223, -0.111553], [51.518117, -0.113841], [51.518149, -0.111225], [51.518095, -0.110672]]]}, 'properties': {'FID': 15, 'OA21CD': 'E00000028', 'LSOA21CD': 'E01032740', 'LSOA21NM': 'City of London 001G', 'LSOA21NMW': ' ', 'BNG_E': 531129, 'BNG_N': 181451, 'LAT': 51.51677, 'LONG': -0.11153, 'GlobalID': '6d59d101-ab01-40f4-9158-982ec7eb27f4'}}\n",
            "{'type': 'Feature', 'id': 16, 'geometry': {'type': 'Polygon', 'coordinates': [[[51.515623, -0.077619], [51.515543, -0.077486], [51.515178, -0.076716], [51.515829, -0.075824], [51.514453, -0.073969], [51.513548, -0.073447], [51.512811, -0.075243], [51.512571, -0.073191], [51.512049, -0.0731], [51.510805, -0.072764], [51.510188, -0.072728], [51.510002, -0.07323], [51.509735, -0.075532], [51.510477, -0.076173], [51.513432, -0.076442], [51.515673, -0.080036], [51.516322, -0.079149], [51.515623, -0.077619]]]}, 'properties': {'FID': 16, 'OA21CD': 'E00000029', 'LSOA21CD': 'E01000005', 'LSOA21NM': 'City of London 001E', 'LSOA21NMW': ' ', 'BNG_E': 533581, 'BNG_N': 181249, 'LAT': 51.51438, 'LONG': -0.07629, 'GlobalID': '0640761d-0751-40b2-ba5f-3da2c25d9538'}}\n",
            "{'type': 'Feature', 'id': 17, 'geometry': {'type': 'Polygon', 'coordinates': [[[51.517396, -0.077371], [51.515895, -0.075918], [51.515829, -0.075824], [51.515178, -0.076716], [51.515543, -0.077486], [51.515719, -0.076733], [51.515997, -0.076901], [51.515623, -0.077619], [51.516322, -0.079149], [51.517489, -0.078225], [51.517396, -0.077371]]]}, 'properties': {'FID': 17, 'OA21CD': 'E00000030', 'LSOA21CD': 'E01000005', 'LSOA21NM': 'City of London 001E', 'LSOA21NMW': ' ', 'BNG_E': 533495, 'BNG_N': 181489, 'LAT': 51.51655, 'LONG': -0.07743, 'GlobalID': '940aa4c4-d6b9-4f15-ae57-01e7b8b0c775'}}\n",
            "{'type': 'Feature', 'id': 18, 'geometry': {'type': 'Polygon', 'coordinates': [[[51.515543, -0.077486], [51.515623, -0.077619], [51.515997, -0.076901], [51.515719, -0.076733], [51.515543, -0.077486]]]}, 'properties': {'FID': 18, 'OA21CD': 'E00000031', 'LSOA21CD': 'E01000005', 'LSOA21NM': 'City of London 001E', 'LSOA21NMW': ' ', 'BNG_E': 533525, 'BNG_N': 181402, 'LAT': 51.51577, 'LONG': -0.07703, 'GlobalID': '4d79da72-3c78-46e0-a549-5af8d46ca544'}}\n",
            "{'type': 'Feature', 'id': 19, 'geometry': {'type': 'Polygon', 'coordinates': [[[51.512571, -0.073191], [51.512811, -0.075243], [51.513548, -0.073447], [51.512571, -0.073191]]]}, 'properties': {'FID': 19, 'OA21CD': 'E00000032', 'LSOA21CD': 'E01000005', 'LSOA21NM': 'City of London 001E', 'LSOA21NMW': ' ', 'BNG_E': 533755, 'BNG_N': 181108, 'LAT': 51.51307, 'LONG': -0.07383, 'GlobalID': 'd1114437-c3f5-4c94-84a3-6ffe65e771a2'}}\n",
            "{'type': 'Feature', 'id': 20, 'geometry': {'type': 'Polygon', 'coordinates': [[[51.541826, 0.084186], [51.541089, 0.083182], [51.541108, 0.083125], [51.542077, 0.081361], [51.542744, 0.082346], [51.541826, 0.084186]]]}, 'properties': {'FID': 20, 'OA21CD': 'E00000037', 'LSOA21CD': 'E01000009', 'LSOA21NM': 'Barking and Dagenham 016B', 'LSOA21NMW': ' ', 'BNG_E': 544539, 'BNG_N': 184613, 'LAT': 51.54191, 'LONG': 0.0829, 'GlobalID': 'ff2c0897-8484-42e4-ac65-438da12eb521'}}\n",
            "{'type': 'Feature', 'id': 21, 'geometry': {'type': 'Polygon', 'coordinates': [[[51.542494, 0.084747], [51.541826, 0.084186], [51.542744, 0.082346], [51.542077, 0.081361], [51.542243, 0.081022], [51.542394, 0.080753], [51.543128, 0.081585], [51.543499, 0.082721], [51.542494, 0.084747]]]}, 'properties': {'FID': 21, 'OA21CD': 'E00000038', 'LSOA21CD': 'E01000011', 'LSOA21NM': 'Barking and Dagenham 016C', 'LSOA21NMW': ' ', 'BNG_E': 544579, 'BNG_N': 184697, 'LAT': 51.54265, 'LONG': 0.083511, 'GlobalID': '592f384c-5cbe-4db7-bde4-4eb1d163f5c0'}}\n",
            "{'type': 'Feature', 'id': 22, 'geometry': {'type': 'Polygon', 'coordinates': [[[51.543827, 0.070882], [51.543059, 0.070722], [51.542894, 0.070245], [51.542552, 0.070873], [51.542572, 0.070039], [51.542148, 0.069898], [51.541677, 0.069216], [51.542061, 0.068901], [51.542524, 0.069311], [51.543313, 0.06924], [51.543715, 0.069398], [51.54396, 0.069687], [51.544065, 0.069684], [51.544068, 0.069684], [51.543827, 0.070882]]]}, 'properties': {'FID': 22, 'OA21CD': 'E00000039', 'LSOA21CD': 'E01000012', 'LSOA21NM': 'Barking and Dagenham 015D', 'LSOA21NMW': ' ', 'BNG_E': 543642, 'BNG_N': 184721, 'LAT': 51.54311, 'LONG': 0.070019, 'GlobalID': 'c024727f-5c34-4adb-b65c-7cae064aa873'}}\n",
            "{'type': 'Feature', 'id': 23, 'geometry': {'type': 'Polygon', 'coordinates': [[[51.541226, 0.077597], [51.540939, 0.077254], [51.54083, 0.076746], [51.540519, 0.075692], [51.539886, 0.076004], [51.538638, 0.076514], [51.538402, 0.075502], [51.539501, 0.075219], [51.539398, 0.074732], [51.539836, 0.075051], [51.541097, 0.07414], [51.541498, 0.073051], [51.541004, 0.073434], [51.540781, 0.072717], [51.541433, 0.072624], [51.541899, 0.073499], [51.541553, 0.073852], [51.542221, 0.075361], [51.541226, 0.077597]]]}, 'properties': {'FID': 23, 'OA21CD': 'E00000040', 'LSOA21CD': 'E01000007', 'LSOA21NM': 'Barking and Dagenham 015A', 'LSOA21NMW': ' ', 'BNG_E': 543999, 'BNG_N': 184498, 'LAT': 51.54101, 'LONG': 0.075072, 'GlobalID': '0364bc8c-cb70-4f29-bfe0-44d4e69a5f60'}}\n",
            "{'type': 'Feature', 'id': 24, 'geometry': {'type': 'Polygon', 'coordinates': [[[51.541798, 0.086419], [51.541776, 0.086455], [51.541539, 0.086121], [51.541252, 0.086499], [51.540357, 0.085069], [51.540562, 0.084558], [51.54016, 0.084018], [51.540684, 0.083022], [51.541089, 0.083182], [51.541826, 0.084186], [51.542494, 0.084747], [51.541798, 0.086419]]]}, 'properties': {'FID': 24, 'OA21CD': 'E00000041', 'LSOA21CD': 'E01000009', 'LSOA21NM': 'Barking and Dagenham 016B', 'LSOA21NMW': ' ', 'BNG_E': 544686, 'BNG_N': 184551, 'LAT': 51.54131, 'LONG': 0.084993, 'GlobalID': '8fd760cd-2910-47b1-9386-ba49213473c7'}}\n",
            "{'type': 'Feature', 'id': 25, 'geometry': {'type': 'Polygon', 'coordinates': [[[51.542077, 0.081361], [51.541108, 0.083125], [51.540821, 0.082102], [51.541116, 0.080674], [51.541699, 0.080253], [51.541899, 0.08051], [51.542243, 0.081022], [51.542077, 0.081361]]]}, 'properties': {'FID': 25, 'OA21CD': 'E00000042', 'LSOA21CD': 'E01000009', 'LSOA21NM': 'Barking and Dagenham 016B', 'LSOA21NMW': ' ', 'BNG_E': 544442, 'BNG_N': 184569, 'LAT': 51.54154, 'LONG': 0.081484, 'GlobalID': '692ddce4-07ad-421a-8da9-33ed8c20bdd9'}}\n",
            "{'type': 'Feature', 'id': 26, 'geometry': {'type': 'Polygon', 'coordinates': [[[51.541694, 0.071355], [51.54151, 0.070611], [51.540994, 0.070821], [51.540739, 0.070292], [51.540458, 0.069804], [51.540845, 0.069899], [51.541677, 0.069216], [51.542148, 0.069898], [51.54237, 0.070584], [51.541797, 0.071688], [51.541694, 0.071355]]]}, 'properties': {'FID': 26, 'OA21CD': 'E00000043', 'LSOA21CD': 'E01000008', 'LSOA21NM': 'Barking and Dagenham 015B', 'LSOA21NMW': ' ', 'BNG_E': 543678, 'BNG_N': 184549, 'LAT': 51.54155, 'LONG': 0.070467, 'GlobalID': 'b19bd593-dfd2-4fd7-9c55-34de5f75848c'}}\n",
            "{'type': 'Feature', 'id': 27, 'geometry': {'type': 'Polygon', 'coordinates': [[[51.542672, 0.073893], [51.542214, 0.073199], [51.54166, 0.072293], [51.541694, 0.071355], [51.541797, 0.071688], [51.54237, 0.070584], [51.542148, 0.069898], [51.542572, 0.070039], [51.542552, 0.070873], [51.542578, 0.072224], [51.543127, 0.072455], [51.542672, 0.073893]]]}, 'properties': {'FID': 27, 'OA21CD': 'E00000045', 'LSOA21CD': 'E01000012', 'LSOA21NM': 'Barking and Dagenham 015D', 'LSOA21NMW': ' ', 'BNG_E': 543787, 'BNG_N': 184639, 'LAT': 51.54234, 'LONG': 0.072075, 'GlobalID': '62813dca-1f22-4a0f-9400-c0142477819e'}}\n",
            "{'type': 'Feature', 'id': 28, 'geometry': {'type': 'Polygon', 'coordinates': [[[51.541341, 0.079648], [51.540939, 0.077254], [51.541226, 0.077597], [51.541418, 0.077832], [51.541855, 0.07703], [51.542565, 0.077117], [51.542792, 0.077741], [51.541341, 0.079648]]]}, 'properties': {'FID': 28, 'OA21CD': 'E00000046', 'LSOA21CD': 'E01000007', 'LSOA21NM': 'Barking and Dagenham 015A', 'LSOA21NMW': ' ', 'BNG_E': 544202, 'BNG_N': 184597, 'LAT': 51.54185, 'LONG': 0.078038, 'GlobalID': '910698a7-5391-4ea5-b3a7-d78b6f5d8ea8'}}\n",
            "{'type': 'Feature', 'id': 29, 'geometry': {'type': 'Polygon', 'coordinates': [[[51.541899, 0.073499], [51.541433, 0.072624], [51.540994, 0.070821], [51.54151, 0.070611], [51.541694, 0.071355], [51.54166, 0.072293], [51.542214, 0.073199], [51.541899, 0.073499]]]}, 'properties': {'FID': 29, 'OA21CD': 'E00000048', 'LSOA21CD': 'E01000008', 'LSOA21NM': 'Barking and Dagenham 015B', 'LSOA21NMW': ' ', 'BNG_E': 543805, 'BNG_N': 184557, 'LAT': 51.54159, 'LONG': 0.072301, 'GlobalID': '7032aa0a-cfb7-4235-8d13-940376dbb203'}}\n",
            "{'type': 'Feature', 'id': 30, 'geometry': {'type': 'Polygon', 'coordinates': [[[51.540581, 0.088524], [51.539445, 0.086783], [51.540357, 0.085069], [51.541252, 0.086499], [51.541539, 0.086121], [51.541776, 0.086455], [51.540581, 0.088524]]]}, 'properties': {'FID': 30, 'OA21CD': 'E00000049', 'LSOA21CD': 'E01000006', 'LSOA21NM': 'Barking and Dagenham 016A', 'LSOA21NMW': ' ', 'BNG_E': 544816, 'BNG_N': 184464, 'LAT': 51.5405, 'LONG': 0.086831, 'GlobalID': 'ac036246-84d3-4fe9-96d4-1d529fb6f7b5'}}\n",
            "{'type': 'Feature', 'id': 31, 'geometry': {'type': 'Polygon', 'coordinates': [[[51.540781, 0.072717], [51.540181, 0.072951], [51.540026, 0.072169], [51.54002, 0.071356], [51.540739, 0.070292], [51.540994, 0.070821], [51.541433, 0.072624], [51.540781, 0.072717]]]}, 'properties': {'FID': 31, 'OA21CD': 'E00000050', 'LSOA21CD': 'E01000008', 'LSOA21NM': 'Barking and Dagenham 015B', 'LSOA21NMW': ' ', 'BNG_E': 543753, 'BNG_N': 184459, 'LAT': 51.54073, 'LONG': 0.071511, 'GlobalID': 'd5b4822e-3e3c-4c4b-a61b-6b0fd712c2f0'}}\n",
            "{'type': 'Feature', 'id': 32, 'geometry': {'type': 'Polygon', 'coordinates': [[[51.540357, 0.085069], [51.539445, 0.086783], [51.539014, 0.08619], [51.539179, 0.085774], [51.539925, 0.084424], [51.539227, 0.08338], [51.539904, 0.082068], [51.540684, 0.083022], [51.54016, 0.084018], [51.540562, 0.084558], [51.540357, 0.085069]]]}, 'properties': {'FID': 32, 'OA21CD': 'E00000051', 'LSOA21CD': 'E01000009', 'LSOA21NM': 'Barking and Dagenham 016B', 'LSOA21NMW': ' ', 'BNG_E': 544566, 'BNG_N': 184387, 'LAT': 51.53987, 'LONG': 0.083197, 'GlobalID': '5eb7e47e-5764-434f-9086-6fe321ad901e'}}\n",
            "{'type': 'Feature', 'id': 33, 'geometry': {'type': 'Polygon', 'coordinates': [[[51.539398, 0.074732], [51.53887, 0.073614], [51.538789, 0.073042], [51.539126, 0.072969], [51.538962, 0.071909], [51.540026, 0.072169], [51.540181, 0.072951], [51.540781, 0.072717], [51.541004, 0.073434], [51.541498, 0.073051], [51.541097, 0.07414], [51.539836, 0.075051], [51.539398, 0.074732]]]}, 'properties': {'FID': 33, 'OA21CD': 'E00000052', 'LSOA21CD': 'E01000007', 'LSOA21NM': 'Barking and Dagenham 015A', 'LSOA21NMW': ' ', 'BNG_E': 543896, 'BNG_N': 184392, 'LAT': 51.54009, 'LONG': 0.073544, 'GlobalID': '8bfa48a7-4860-401f-9856-c5b51c493385'}}\n",
            "{'type': 'Feature', 'id': 34, 'geometry': {'type': 'Polygon', 'coordinates': [[[51.538883, 0.088419], [51.538203, 0.088332], [51.537875, 0.086943], [51.538154, 0.085119], [51.538362, 0.085314], [51.538521, 0.084918], [51.539179, 0.085774], [51.539014, 0.08619], [51.539445, 0.086783], [51.538866, 0.087769], [51.538883, 0.088419]]]}, 'properties': {'FID': 34, 'OA21CD': 'E00000053', 'LSOA21CD': 'E01000006', 'LSOA21NM': 'Barking and Dagenham 016A', 'LSOA21NMW': ' ', 'BNG_E': 544821, 'BNG_N': 184259, 'LAT': 51.53866, 'LONG': 0.086818, 'GlobalID': 'fb612396-000a-47ec-bcf1-c58e2fdcc4ae'}}\n",
            "{'type': 'Feature', 'id': 35, 'geometry': {'type': 'Polygon', 'coordinates': [[[51.539179, 0.085774], [51.538521, 0.084918], [51.538362, 0.085314], [51.538154, 0.085119], [51.537896, 0.084972], [51.539127, 0.081558], [51.539306, 0.081334], [51.539904, 0.082068], [51.539227, 0.08338], [51.539925, 0.084424], [51.539179, 0.085774]]]}, 'properties': {'FID': 35, 'OA21CD': 'E00000054', 'LSOA21CD': 'E01000009', 'LSOA21NM': 'Barking and Dagenham 016B', 'LSOA21NMW': ' ', 'BNG_E': 544608, 'BNG_N': 184283, 'LAT': 51.53893, 'LONG': 0.083759, 'GlobalID': '5df2ccb0-8cf4-4865-83d4-4cf12f4f7748'}}\n",
            "{'type': 'Feature', 'id': 36, 'geometry': {'type': 'Polygon', 'coordinates': [[[51.539961, 0.089616], [51.539112, 0.091106], [51.539085, 0.091152], [51.538883, 0.088419], [51.538866, 0.087769], [51.539445, 0.086783], [51.540581, 0.088524], [51.539961, 0.089616]]]}, 'properties': {'FID': 36, 'OA21CD': 'E00000055', 'LSOA21CD': 'E01000006', 'LSOA21NM': 'Barking and Dagenham 016A', 'LSOA21NMW': ' ', 'BNG_E': 544951, 'BNG_N': 184377, 'LAT': 51.53968, 'LONG': 0.08874, 'GlobalID': '231b4498-9b24-4c05-a4bc-f9b83ef61ebc'}}\n",
            "{'type': 'Feature', 'id': 37, 'geometry': {'type': 'MultiPolygon', 'coordinates': [[[[51.540739, 0.070292], [51.54002, 0.071356], [51.540026, 0.072169], [51.538962, 0.071909], [51.538404, 0.072015], [51.53769, 0.072529], [51.537235, 0.071307], [51.537225, 0.07128], [51.537227, 0.071278], [51.537278, 0.071255], [51.539096, 0.070424], [51.538782, 0.069649], [51.538974, 0.06944], [51.540458, 0.069804], [51.540739, 0.070292]]], [[[51.543715, 0.069398], [51.543313, 0.06924], [51.543562, 0.069217], [51.543715, 0.069398]]], [[[51.536221, 0.068581], [51.536155, 0.06803], [51.537337, 0.069081], [51.538145, 0.068279], [51.539857, 0.066928], [51.541147, 0.066693], [51.544287, 0.068282], [51.544414, 0.068327], [51.544156, 0.069317], [51.544153, 0.069317], [51.544044, 0.069313], [51.54209, 0.068563], [51.541404, 0.068982], [51.540744, 0.068424], [51.540279, 0.069372], [51.538837, 0.069031], [51.538458, 0.070467], [51.537197, 0.070976], [51.537142, 0.070998], [51.537125, 0.071011], [51.536221, 0.068581]]]]}, 'properties': {'FID': 37, 'OA21CD': 'E00000056', 'LSOA21CD': 'E01000008', 'LSOA21NM': 'Barking and Dagenham 015B', 'LSOA21NMW': ' ', 'BNG_E': 543575, 'BNG_N': 184273, 'LAT': 51.5391, 'LONG': 0.068871, 'GlobalID': '3975d653-4e87-47a3-8d9a-26b3a3077e3c'}}\n",
            "{'type': 'Feature', 'id': 38, 'geometry': {'type': 'Polygon', 'coordinates': [[[51.538402, 0.075502], [51.538301, 0.074459], [51.53877, 0.074506], [51.538337, 0.07333], [51.538404, 0.072015], [51.538962, 0.071909], [51.539126, 0.072969], [51.538789, 0.073042], [51.53887, 0.073614], [51.539398, 0.074732], [51.539501, 0.075219], [51.538402, 0.075502]]]}, 'properties': {'FID': 38, 'OA21CD': 'E00000057', 'LSOA21CD': 'E01034474', 'LSOA21NM': 'Barking and Dagenham 015F', 'LSOA21NMW': ' ', 'BNG_E': 543964, 'BNG_N': 184262, 'LAT': 51.5389, 'LONG': 0.074471, 'GlobalID': '394c4d6f-0d81-4f29-8168-9ff3c550edc5'}}\n",
            "{'type': 'Feature', 'id': 39, 'geometry': {'type': 'Polygon', 'coordinates': [[[51.537551, 0.092074], [51.537392, 0.089621], [51.537585, 0.086524], [51.537896, 0.084972], [51.538154, 0.085119], [51.537875, 0.086943], [51.538203, 0.088332], [51.538334, 0.09147], [51.537551, 0.092074]]]}, 'properties': {'FID': 39, 'OA21CD': 'E00000059', 'LSOA21CD': 'E01000006', 'LSOA21NM': 'Barking and Dagenham 016A', 'LSOA21NMW': ' ', 'BNG_E': 545015, 'BNG_N': 184176, 'LAT': 51.53786, 'LONG': 0.08958, 'GlobalID': '84b7bac8-29dc-49d1-9e6b-7082bdbca41f'}}\n",
            "{'type': 'Feature', 'id': 40, 'geometry': {'type': 'Polygon', 'coordinates': [[[51.537871, 0.093257], [51.537671, 0.093599], [51.537591, 0.092582], [51.537551, 0.092074], [51.538334, 0.09147], [51.538203, 0.088332], [51.538883, 0.088419], [51.539085, 0.091152], [51.537871, 0.093257]]]}, 'properties': {'FID': 40, 'OA21CD': 'E00000060', 'LSOA21CD': 'E01000006', 'LSOA21NM': 'Barking and Dagenham 016A', 'LSOA21NMW': ' ', 'BNG_E': 545037, 'BNG_N': 184231, 'LAT': 51.53835, 'LONG': 0.089919, 'GlobalID': 'c2a93dc9-ba6f-4042-98b4-0addd8ad2843'}}\n",
            "{'type': 'Feature', 'id': 41, 'geometry': {'type': 'Polygon', 'coordinates': [[[51.538402, 0.075502], [51.538638, 0.076514], [51.538008, 0.077354], [51.537876, 0.076959], [51.537697, 0.07608], [51.537564, 0.073505], [51.537235, 0.071307], [51.53769, 0.072529], [51.538404, 0.072015], [51.538337, 0.07333], [51.53877, 0.074506], [51.538301, 0.074459], [51.538402, 0.075502]]]}, 'properties': {'FID': 41, 'OA21CD': 'E00000061', 'LSOA21CD': 'E01034474', 'LSOA21NM': 'Barking and Dagenham 015F', 'LSOA21NMW': ' ', 'BNG_E': 543981, 'BNG_N': 184159, 'LAT': 51.53797, 'LONG': 0.074674, 'GlobalID': '117ce665-e8c6-4c7f-9895-4412eeae0079'}}\n",
            "{'type': 'Feature', 'id': 42, 'geometry': {'type': 'Polygon', 'coordinates': [[[51.53656, 0.08453], [51.536145, 0.083624], [51.535727, 0.082587], [51.535696, 0.082511], [51.536276, 0.082104], [51.537217, 0.082295], [51.53722, 0.083633], [51.53656, 0.08453]]]}, 'properties': {'FID': 42, 'OA21CD': 'E00000063', 'LSOA21CD': 'E01034473', 'LSOA21NM': 'Barking and Dagenham 015E', 'LSOA21NMW': ' ', 'BNG_E': 544579, 'BNG_N': 184008, 'LAT': 51.53646, 'LONG': 0.083228, 'GlobalID': '0902e43f-720a-4ac9-aa1b-5a24d6dbc360'}}\n",
            "{'type': 'Feature', 'id': 43, 'geometry': {'type': 'Polygon', 'coordinates': [[[51.543499, 0.082721], [51.543128, 0.081585], [51.543743, 0.080325], [51.543572, 0.078638], [51.544089, 0.077948], [51.544582, 0.079378], [51.544795, 0.08011], [51.543499, 0.082721]]]}, 'properties': {'FID': 43, 'OA21CD': 'E00000064', 'LSOA21CD': 'E01000011', 'LSOA21NM': 'Barking and Dagenham 016C', 'LSOA21NMW': ' ', 'BNG_E': 544328, 'BNG_N': 184837, 'LAT': 51.54398, 'LONG': 0.079952, 'GlobalID': 'edc23cc5-dd3f-4b14-8ab1-266b792b266f'}}\n",
            "{'type': 'Feature', 'id': 44, 'geometry': {'type': 'Polygon', 'coordinates': [[[51.543128, 0.081585], [51.542394, 0.080753], [51.542243, 0.081022], [51.541899, 0.08051], [51.543277, 0.078642], [51.543572, 0.078638], [51.543743, 0.080325], [51.543128, 0.081585]]]}, 'properties': {'FID': 44, 'OA21CD': 'E00000066', 'LSOA21CD': 'E01000011', 'LSOA21NM': 'Barking and Dagenham 016C', 'LSOA21NMW': ' ', 'BNG_E': 544343, 'BNG_N': 184732, 'LAT': 51.54303, 'LONG': 0.080125, 'GlobalID': '2852c917-e974-4a6d-ba32-cf8d02749bea'}}\n",
            "{'type': 'Feature', 'id': 45, 'geometry': {'type': 'Polygon', 'coordinates': [[[51.543267, 0.074733], [51.543239, 0.074745], [51.543111, 0.073925], [51.542672, 0.073893], [51.543127, 0.072455], [51.542578, 0.072224], [51.542552, 0.070873], [51.542894, 0.070245], [51.543059, 0.070722], [51.543827, 0.070882], [51.54364, 0.071457], [51.543894, 0.074352], [51.543267, 0.074733]]]}, 'properties': {'FID': 45, 'OA21CD': 'E00000067', 'LSOA21CD': 'E01000012', 'LSOA21NM': 'Barking and Dagenham 015D', 'LSOA21NMW': ' ', 'BNG_E': 543813, 'BNG_N': 184738, 'LAT': 51.54322, 'LONG': 0.07249, 'GlobalID': '244a0734-f6f1-4efa-9a9f-8178020728b5'}}\n",
            "{'type': 'Feature', 'id': 46, 'geometry': {'type': 'Polygon', 'coordinates': [[[51.541899, 0.08051], [51.541699, 0.080253], [51.541341, 0.079648], [51.542792, 0.077741], [51.543277, 0.078642], [51.541899, 0.08051]]]}, 'properties': {'FID': 46, 'OA21CD': 'E00000068', 'LSOA21CD': 'E01000011', 'LSOA21NM': 'Barking and Dagenham 016C', 'LSOA21NMW': ' ', 'BNG_E': 544278, 'BNG_N': 184652, 'LAT': 51.54233, 'LONG': 0.079155, 'GlobalID': '3b17ec2e-f34d-45a5-beb3-017512bc630e'}}\n",
            "{'type': 'Feature', 'id': 47, 'geometry': {'type': 'Polygon', 'coordinates': [[[51.542895, 0.077193], [51.542565, 0.077117], [51.541855, 0.07703], [51.541418, 0.077832], [51.541226, 0.077597], [51.542221, 0.075361], [51.541553, 0.073852], [51.541899, 0.073499], [51.542214, 0.073199], [51.542672, 0.073893], [51.543111, 0.073925], [51.543239, 0.074745], [51.542338, 0.075667], [51.542895, 0.077193]]]}, 'properties': {'FID': 47, 'OA21CD': 'E00000069', 'LSOA21CD': 'E01000012', 'LSOA21NM': 'Barking and Dagenham 015D', 'LSOA21NMW': ' ', 'BNG_E': 544011, 'BNG_N': 184637, 'LAT': 51.54226, 'LONG': 0.075302, 'GlobalID': 'de7ed2f5-f4ad-4fa1-a267-a3eb3d0d93ae'}}\n",
            "{'type': 'Feature', 'id': 48, 'geometry': {'type': 'Polygon', 'coordinates': [[[51.548676, 0.153604], [51.548555, 0.152588], [51.548961, 0.152355], [51.548991, 0.151642], [51.550282, 0.15135], [51.550877, 0.151819], [51.550974, 0.151232], [51.551276, 0.151771], [51.550957, 0.153367], [51.548676, 0.153604]]]}, 'properties': {'FID': 48, 'OA21CD': 'E00000070', 'LSOA21CD': 'E01000016', 'LSOA21NM': 'Barking and Dagenham 009B', 'LSOA21NMW': ' ', 'BNG_E': 549335, 'BNG_N': 185638, 'LAT': 51.54987, 'LONG': 0.152443, 'GlobalID': 'cdc54c76-0eec-4aaf-9fd9-9df979fc2023'}}\n",
            "{'type': 'Feature', 'id': 49, 'geometry': {'type': 'Polygon', 'coordinates': [[[51.545632, 0.154091], [51.54488, 0.154316], [51.54462, 0.153739], [51.544104, 0.153863], [51.543871, 0.152713], [51.54406, 0.151922], [51.544498, 0.151816], [51.544652, 0.152327], [51.545813, 0.152079], [51.545883, 0.152758], [51.545982, 0.153701], [51.545632, 0.154091]]]}, 'properties': {'FID': 49, 'OA21CD': 'E00000071', 'LSOA21CD': 'E01000015', 'LSOA21NM': 'Barking and Dagenham 009A', 'LSOA21NMW': ' ', 'BNG_E': 549397, 'BNG_N': 185091, 'LAT': 51.54494, 'LONG': 0.153104, 'GlobalID': 'ae39045e-c642-418d-a6f2-fef264b487d4'}}\n",
            "{'type': 'Feature', 'id': 50, 'geometry': {'type': 'Polygon', 'coordinates': [[[51.549604, 0.147527], [51.54928, 0.14703], [51.549879, 0.145985], [51.549829, 0.145188], [51.550377, 0.145157], [51.550647, 0.144514], [51.551086, 0.145103], [51.551151, 0.147415], [51.549604, 0.147527]]]}, 'properties': {'FID': 50, 'OA21CD': 'E00000072', 'LSOA21CD': 'E01000017', 'LSOA21NM': 'Barking and Dagenham 009C', 'LSOA21NMW': ' ', 'BNG_E': 548912, 'BNG_N': 185665, 'LAT': 51.55023, 'LONG': 0.146358, 'GlobalID': 'cc386f32-53ec-4030-a1da-d14690522111'}}\n",
            "{'type': 'Feature', 'id': 51, 'geometry': {'type': 'Polygon', 'coordinates': [[[51.549619, 0.150259], [51.549672, 0.149236], [51.550019, 0.148944], [51.549604, 0.147527], [51.551151, 0.147415], [51.551279, 0.149682], [51.550907, 0.150319], [51.549619, 0.150259]]]}, 'properties': {'FID': 51, 'OA21CD': 'E00000073', 'LSOA21CD': 'E01000017', 'LSOA21NM': 'Barking and Dagenham 009C', 'LSOA21NMW': ' ', 'BNG_E': 549086, 'BNG_N': 185693, 'LAT': 51.55043, 'LONG': 0.148877, 'GlobalID': '4bfb1b03-aeb2-42f3-a910-ff7c071b12ab'}}\n",
            "{'type': 'Feature', 'id': 52, 'geometry': {'type': 'Polygon', 'coordinates': [[[51.551276, 0.151771], [51.550974, 0.151232], [51.550877, 0.151819], [51.550282, 0.15135], [51.548991, 0.151642], [51.548344, 0.150822], [51.549619, 0.150259], [51.550907, 0.150319], [51.551279, 0.149682], [51.551313, 0.15177], [51.551276, 0.151771]]]}, 'properties': {'FID': 52, 'OA21CD': 'E00000074', 'LSOA21CD': 'E01000016', 'LSOA21NM': 'Barking and Dagenham 009B', 'LSOA21NMW': ' ', 'BNG_E': 549217, 'BNG_N': 185638, 'LAT': 51.5499, 'LONG': 0.150742, 'GlobalID': 'd46c0a9c-78af-4f67-961c-32cf10a1566c'}}\n",
            "{'type': 'Feature', 'id': 53, 'geometry': {'type': 'Polygon', 'coordinates': [[[51.549829, 0.145188], [51.54949, 0.1453], [51.549288, 0.144101], [51.549725, 0.144071], [51.549854, 0.143457], [51.54934, 0.143357], [51.548601, 0.143777], [51.548138, 0.145643], [51.547583, 0.145755], [51.548403, 0.143288], [51.548636, 0.143107], [51.549456, 0.142888], [51.550962, 0.142772], [51.551086, 0.145103], [51.550647, 0.144514], [51.550377, 0.145157], [51.549829, 0.145188]]]}, 'properties': {'FID': 53, 'OA21CD': 'E00000075', 'LSOA21CD': 'E01000017', 'LSOA21NM': 'Barking and Dagenham 009C', 'LSOA21NMW': ' ', 'BNG_E': 548777, 'BNG_N': 185663, 'LAT': 51.55024, 'LONG': 0.144411, 'GlobalID': '4e0c47c9-7ffc-433a-b44e-2e03d0029b58'}}\n",
            "{'type': 'Feature', 'id': 54, 'geometry': {'type': 'Polygon', 'coordinates': [[[51.549619, 0.150259], [51.548344, 0.150822], [51.54774, 0.149732], [51.548252, 0.149713], [51.547777, 0.148823], [51.548288, 0.148083], [51.549324, 0.14808], [51.549334, 0.1491], [51.549672, 0.149236], [51.549619, 0.150259]]]}, 'properties': {'FID': 54, 'OA21CD': 'E00000076', 'LSOA21CD': 'E01000016', 'LSOA21NM': 'Barking and Dagenham 009B', 'LSOA21NMW': ' ', 'BNG_E': 549132, 'BNG_N': 185512, 'LAT': 51.54879, 'LONG': 0.149464, 'GlobalID': 'cdda69ad-099e-4cae-a733-43693291ffc7'}}\n",
            "{'type': 'Feature', 'id': 55, 'geometry': {'type': 'Polygon', 'coordinates': [[[51.545925, 0.147828], [51.545876, 0.147053], [51.546457, 0.146446], [51.547268, 0.145506], [51.547583, 0.145755], [51.548138, 0.145643], [51.548946, 0.146479], [51.54897, 0.147062], [51.548208, 0.147015], [51.547804, 0.147687], [51.545925, 0.147828]]]}, 'properties': {'FID': 55, 'OA21CD': 'E00000077', 'LSOA21CD': 'E01000017', 'LSOA21NM': 'Barking and Dagenham 009C', 'LSOA21NMW': ' ', 'BNG_E': 548947, 'BNG_N': 185385, 'LAT': 51.5477, 'LONG': 0.146744, 'GlobalID': '3071d775-c2c6-4892-9d3e-b6b3361cc94d'}}\n",
            "{'type': 'Feature', 'id': 56, 'geometry': {'type': 'Polygon', 'coordinates': [[[51.54928, 0.14703], [51.54897, 0.147062], [51.548946, 0.146479], [51.548138, 0.145643], [51.548601, 0.143777], [51.54934, 0.143357], [51.549854, 0.143457], [51.549725, 0.144071], [51.549288, 0.144101], [51.54949, 0.1453], [51.549829, 0.145188], [51.549879, 0.145985], [51.54928, 0.14703]]]}, 'properties': {'FID': 56, 'OA21CD': 'E00000078', 'LSOA21CD': 'E01000017', 'LSOA21NM': 'Barking and Dagenham 009C', 'LSOA21NMW': ' ', 'BNG_E': 548845, 'BNG_N': 185528, 'LAT': 51.54901, 'LONG': 0.145334, 'GlobalID': '129301b6-da61-451a-aaa7-8c21a85f76b9'}}\n",
            "{'type': 'Feature', 'id': 57, 'geometry': {'type': 'Polygon', 'coordinates': [[[51.548676, 0.153604], [51.547897, 0.153804], [51.547981, 0.152504], [51.547231, 0.151195], [51.547211, 0.150486], [51.54643, 0.150573], [51.546192, 0.149647], [51.547402, 0.149213], [51.54774, 0.149732], [51.548344, 0.150822], [51.548991, 0.151642], [51.548961, 0.152355], [51.548555, 0.152588], [51.548676, 0.153604]]]}, 'properties': {'FID': 57, 'OA21CD': 'E00000079', 'LSOA21CD': 'E01000018', 'LSOA21NM': 'Barking and Dagenham 009D', 'LSOA21NMW': ' ', 'BNG_E': 549226, 'BNG_N': 185380, 'LAT': 51.54758, 'LONG': 0.150762, 'GlobalID': 'cb6d4a9a-2349-4f78-b5d8-b71e0f5932d1'}}\n",
            "{'type': 'Feature', 'id': 58, 'geometry': {'type': 'Polygon', 'coordinates': [[[51.545313, 0.159707], [51.544485, 0.160372], [51.54388, 0.1615], [51.543311, 0.161512], [51.543143, 0.160646], [51.54269, 0.158085], [51.543981, 0.157015], [51.54482, 0.157837], [51.545355, 0.157291], [51.545832, 0.157618], [51.546213, 0.156818], [51.547008, 0.156726], [51.54666, 0.156097], [51.547478, 0.15457], [51.547549, 0.154473], [51.54828, 0.155765], [51.548347, 0.156699], [51.548307, 0.157226], [51.547749, 0.15729], [51.547773, 0.158526], [51.54641, 0.158765], [51.545313, 0.159707]]]}, 'properties': {'FID': 58, 'OA21CD': 'E00000080', 'LSOA21CD': 'E01000015', 'LSOA21NM': 'Barking and Dagenham 009A', 'LSOA21NMW': ' ', 'BNG_E': 549737, 'BNG_N': 185146, 'LAT': 51.54535, 'LONG': 0.158027, 'GlobalID': '8f32c6c6-4a7a-4960-9a1b-d3daa9705f0a'}}\n",
            "{'type': 'Feature', 'id': 59, 'geometry': {'type': 'Polygon', 'coordinates': [[[51.549672, 0.149236], [51.549334, 0.1491], [51.549324, 0.14808], [51.548288, 0.148083], [51.547777, 0.148823], [51.548252, 0.149713], [51.54774, 0.149732], [51.547402, 0.149213], [51.547388, 0.14839], [51.546304, 0.148478], [51.545915, 0.147926], [51.545925, 0.147828], [51.547804, 0.147687], [51.548208, 0.147015], [51.54897, 0.147062], [51.54928, 0.14703], [51.549604, 0.147527], [51.550019, 0.148944], [51.549672, 0.149236]]]}, 'properties': {'FID': 59, 'OA21CD': 'E00000081', 'LSOA21CD': 'E01000016', 'LSOA21NM': 'Barking and Dagenham 009B', 'LSOA21NMW': ' ', 'BNG_E': 549060, 'BNG_N': 185273, 'LAT': 51.54667, 'LONG': 0.148325, 'GlobalID': '0481392a-b64c-4ae9-8e23-73ddb089087f'}}\n",
            "{'type': 'Feature', 'id': 60, 'geometry': {'type': 'Polygon', 'coordinates': [[[51.547897, 0.153804], [51.547549, 0.154473], [51.547478, 0.15457], [51.547019, 0.153826], [51.545982, 0.153701], [51.545883, 0.152758], [51.54634, 0.152083], [51.54687, 0.151914], [51.547231, 0.151195], [51.547981, 0.152504], [51.547897, 0.153804]]]}, 'properties': {'FID': 60, 'OA21CD': 'E00000082', 'LSOA21CD': 'E01000018', 'LSOA21NM': 'Barking and Dagenham 009D', 'LSOA21NMW': ' ', 'BNG_E': 549376, 'BNG_N': 185302, 'LAT': 51.54684, 'LONG': 0.152891, 'GlobalID': '473a9778-b4bf-4b31-b670-0ad67b2df44f'}}\n",
            "{'type': 'Feature', 'id': 61, 'geometry': {'type': 'Polygon', 'coordinates': [[[51.547231, 0.151195], [51.54687, 0.151914], [51.54634, 0.152083], [51.546318, 0.151344], [51.545524, 0.150767], [51.545778, 0.150179], [51.54558, 0.148497], [51.545915, 0.147926], [51.546304, 0.148478], [51.547388, 0.14839], [51.547402, 0.149213], [51.546192, 0.149647], [51.54643, 0.150573], [51.547211, 0.150486], [51.547231, 0.151195]]]}, 'properties': {'FID': 61, 'OA21CD': 'E00000083', 'LSOA21CD': 'E01000018', 'LSOA21NM': 'Barking and Dagenham 009D', 'LSOA21NMW': ' ', 'BNG_E': 549267, 'BNG_N': 185257, 'LAT': 51.54647, 'LONG': 0.151301, 'GlobalID': 'b94e8e12-fc58-4fff-bc04-839fbe43fb31'}}\n",
            "{'type': 'Feature', 'id': 62, 'geometry': {'type': 'Polygon', 'coordinates': [[[51.544866, 0.15663], [51.544496, 0.156393], [51.544573, 0.155234], [51.544189, 0.154929], [51.543794, 0.15523], [51.543351, 0.154276], [51.543239, 0.152858], [51.543871, 0.152713], [51.544104, 0.153863], [51.54462, 0.153739], [51.54488, 0.154316], [51.545632, 0.154091], [51.545748, 0.154713], [51.544866, 0.15663]]]}, 'properties': {'FID': 62, 'OA21CD': 'E00000084', 'LSOA21CD': 'E01000015', 'LSOA21NM': 'Barking and Dagenham 009A', 'LSOA21NMW': ' ', 'BNG_E': 549508, 'BNG_N': 185056, 'LAT': 51.5446, 'LONG': 0.154689, 'GlobalID': '4a08ff65-1eab-4ce7-b70b-cb4a1812f4c5'}}\n",
            "{'type': 'Feature', 'id': 63, 'geometry': {'type': 'Polygon', 'coordinates': [[[51.546368, 0.14459], [51.546005, 0.144729], [51.544908, 0.143766], [51.544768, 0.142973], [51.545083, 0.142065], [51.545325, 0.142295], [51.54549, 0.141902], [51.546621, 0.142949], [51.546368, 0.14459]]]}, 'properties': {'FID': 63, 'OA21CD': 'E00000085', 'LSOA21CD': 'E01000014', 'LSOA21NM': 'Barking and Dagenham 013B', 'LSOA21NMW': ' ', 'BNG_E': 548718, 'BNG_N': 185153, 'LAT': 51.54568, 'LONG': 0.143346, 'GlobalID': 'ff21ec09-8af8-4ff5-8a05-36832035a2c8'}}\n",
            "{'type': 'Feature', 'id': 64, 'geometry': {'type': 'Polygon', 'coordinates': [[[51.545876, 0.147053], [51.545791, 0.14604], [51.545357, 0.14675], [51.544645, 0.146803], [51.543952, 0.146216], [51.544183, 0.145777], [51.545361, 0.14619], [51.545692, 0.14564], [51.54473, 0.144509], [51.544908, 0.143766], [51.546005, 0.144729], [51.546368, 0.14459], [51.546155, 0.14601], [51.546457, 0.146446], [51.545876, 0.147053]]]}, 'properties': {'FID': 64, 'OA21CD': 'E00000086', 'LSOA21CD': 'E01000014', 'LSOA21NM': 'Barking and Dagenham 013B', 'LSOA21NMW': ' ', 'BNG_E': 548867, 'BNG_N': 185196, 'LAT': 51.54602, 'LONG': 0.145511, 'GlobalID': '99a3b2cb-744d-47cc-be89-c9f5938cd622'}}\n",
            "{'type': 'Feature', 'id': 65, 'geometry': {'type': 'Polygon', 'coordinates': [[[51.545915, 0.147926], [51.54558, 0.148497], [51.545115, 0.148082], [51.544768, 0.148614], [51.544245, 0.147924], [51.544268, 0.147286], [51.543629, 0.147346], [51.543952, 0.146216], [51.544645, 0.146803], [51.545357, 0.14675], [51.545791, 0.14604], [51.545876, 0.147053], [51.545925, 0.147828], [51.545915, 0.147926]]]}, 'properties': {'FID': 65, 'OA21CD': 'E00000087', 'LSOA21CD': 'E01000014', 'LSOA21NM': 'Barking and Dagenham 013B', 'LSOA21NMW': ' ', 'BNG_E': 548997, 'BNG_N': 185054, 'LAT': 51.54471, 'LONG': 0.147324, 'GlobalID': '5f86b0b8-a57d-49f2-8ffd-36967b7f3493'}}\n",
            "{'type': 'Feature', 'id': 66, 'geometry': {'type': 'Polygon', 'coordinates': [[[51.545524, 0.150767], [51.544701, 0.151131], [51.544616, 0.150099], [51.544177, 0.150142], [51.544009, 0.149564], [51.544245, 0.147924], [51.544768, 0.148614], [51.545115, 0.148082], [51.54558, 0.148497], [51.545778, 0.150179], [51.545524, 0.150767]]]}, 'properties': {'FID': 66, 'OA21CD': 'E00000088', 'LSOA21CD': 'E01000018', 'LSOA21NM': 'Barking and Dagenham 009D', 'LSOA21NMW': ' ', 'BNG_E': 549171, 'BNG_N': 185079, 'LAT': 51.54489, 'LONG': 0.149842, 'GlobalID': '3024cfb4-a391-498d-8b40-53bbb9fdbdf8'}}\n",
            "{'type': 'Feature', 'id': 67, 'geometry': {'type': 'Polygon', 'coordinates': [[[51.545355, 0.157291], [51.544866, 0.15663], [51.545748, 0.154713], [51.545632, 0.154091], [51.545982, 0.153701], [51.547019, 0.153826], [51.547478, 0.15457], [51.54666, 0.156097], [51.547008, 0.156726], [51.546213, 0.156818], [51.545832, 0.157618], [51.545355, 0.157291]]]}, 'properties': {'FID': 67, 'OA21CD': 'E00000089', 'LSOA21CD': 'E01000018', 'LSOA21NM': 'Barking and Dagenham 009D', 'LSOA21NMW': ' ', 'BNG_E': 549548, 'BNG_N': 185233, 'LAT': 51.54618, 'LONG': 0.15534, 'GlobalID': '46d3fc10-820a-4988-912c-df2030bf5e42'}}\n",
            "{'type': 'Feature', 'id': 68, 'geometry': {'type': 'Polygon', 'coordinates': [[[51.543952, 0.146216], [51.543466, 0.145772], [51.54347, 0.144829], [51.543848, 0.144164], [51.544295, 0.143173], [51.544768, 0.142973], [51.544908, 0.143766], [51.54473, 0.144509], [51.545692, 0.14564], [51.545361, 0.14619], [51.544183, 0.145777], [51.543952, 0.146216]]]}, 'properties': {'FID': 68, 'OA21CD': 'E00000090', 'LSOA21CD': 'E01000013', 'LSOA21NM': 'Barking and Dagenham 013A', 'LSOA21NMW': ' ', 'BNG_E': 548809, 'BNG_N': 185036, 'LAT': 51.5446, 'LONG': 0.144608, 'GlobalID': 'ebf66404-9265-4712-a361-6dd2fc2297e7'}}\n",
            "{'type': 'Feature', 'id': 69, 'geometry': {'type': 'Polygon', 'coordinates': [[[51.54269, 0.158085], [51.542539, 0.157197], [51.542255, 0.155253], [51.543351, 0.154276], [51.543794, 0.15523], [51.544189, 0.154929], [51.544573, 0.155234], [51.544496, 0.156393], [51.544866, 0.15663], [51.545355, 0.157291], [51.54482, 0.157837], [51.543981, 0.157015], [51.54269, 0.158085]]]}, 'properties': {'FID': 69, 'OA21CD': 'E00000091', 'LSOA21CD': 'E01000015', 'LSOA21NM': 'Barking and Dagenham 009A', 'LSOA21NMW': ' ', 'BNG_E': 549619, 'BNG_N': 184931, 'LAT': 51.54344, 'LONG': 0.156235, 'GlobalID': '483dde54-5eed-4775-aaf3-8047638fc045'}}\n",
            "{'type': 'Feature', 'id': 70, 'geometry': {'type': 'Polygon', 'coordinates': [[[51.545083, 0.142065], [51.544768, 0.142973], [51.544295, 0.143173], [51.543848, 0.144164], [51.543253, 0.143853], [51.542805, 0.142573], [51.542304, 0.142574], [51.541758, 0.140559], [51.541462, 0.137386], [51.542014, 0.136777], [51.541617, 0.133913], [51.541881, 0.134189], [51.543772, 0.131886], [51.544232, 0.136746], [51.545673, 0.138575], [51.544539, 0.141549], [51.545083, 0.142065]]]}, 'properties': {'FID': 70, 'OA21CD': 'E00000092', 'LSOA21CD': 'E01000014', 'LSOA21NM': 'Barking and Dagenham 013B', 'LSOA21NMW': ' ', 'BNG_E': 548350, 'BNG_N': 184906, 'LAT': 51.54355, 'LONG': 0.137938, 'GlobalID': 'f6c05bae-683a-41f6-b83b-ea3dc8ec77dc'}}\n",
            "{'type': 'Feature', 'id': 71, 'geometry': {'type': 'Polygon', 'coordinates': [[[51.544245, 0.147924], [51.544009, 0.149564], [51.543054, 0.149742], [51.54291, 0.150292], [51.541724, 0.149835], [51.541597, 0.147903], [51.541553, 0.147213], [51.543629, 0.147346], [51.544268, 0.147286], [51.544245, 0.147924]]]}, 'properties': {'FID': 71, 'OA21CD': 'E00000093', 'LSOA21CD': 'E01000013', 'LSOA21NM': 'Barking and Dagenham 013A', 'LSOA21NMW': ' ', 'BNG_E': 549099, 'BNG_N': 184854, 'LAT': 51.54289, 'LONG': 0.14871, 'GlobalID': '85f90528-ef35-4329-98c1-eab8e68c5fc5'}}\n",
            "{'type': 'Feature', 'id': 72, 'geometry': {'type': 'Polygon', 'coordinates': [[[51.545883, 0.152758], [51.545813, 0.152079], [51.544652, 0.152327], [51.544498, 0.151816], [51.54406, 0.151922], [51.543984, 0.151418], [51.543031, 0.151603], [51.54291, 0.150292], [51.543054, 0.149742], [51.544009, 0.149564], [51.544177, 0.150142], [51.544616, 0.150099], [51.544701, 0.151131], [51.545524, 0.150767], [51.546318, 0.151344], [51.54634, 0.152083], [51.545883, 0.152758]]]}, 'properties': {'FID': 72, 'OA21CD': 'E00000094', 'LSOA21CD': 'E01000013', 'LSOA21NM': 'Barking and Dagenham 013A', 'LSOA21NMW': ' ', 'BNG_E': 549264, 'BNG_N': 184965, 'LAT': 51.54384, 'LONG': 0.151134, 'GlobalID': 'd12081d7-2361-4041-aedf-455f8e105c59'}}\n",
            "{'type': 'Feature', 'id': 73, 'geometry': {'type': 'Polygon', 'coordinates': [[[51.543871, 0.152713], [51.543239, 0.152858], [51.543351, 0.154276], [51.542255, 0.155253], [51.542236, 0.155106], [51.541861, 0.151686], [51.541784, 0.15068], [51.541724, 0.149835], [51.54291, 0.150292], [51.543031, 0.151603], [51.543984, 0.151418], [51.54406, 0.151922], [51.543871, 0.152713]]]}, 'properties': {'FID': 73, 'OA21CD': 'E00000095', 'LSOA21CD': 'E01000015', 'LSOA21NM': 'Barking and Dagenham 009A', 'LSOA21NMW': ' ', 'BNG_E': 549379, 'BNG_N': 184860, 'LAT': 51.54287, 'LONG': 0.152747, 'GlobalID': '0b42dd2c-e11f-4ce1-b44d-49356299b64d'}}\n",
            "{'type': 'Feature', 'id': 74, 'geometry': {'type': 'Polygon', 'coordinates': [[[51.543629, 0.147346], [51.541553, 0.147213], [51.541324, 0.143659], [51.541284, 0.143043], [51.54191, 0.143044], [51.542232, 0.143634], [51.542318, 0.144162], [51.542019, 0.144687], [51.542515, 0.145677], [51.543253, 0.146126], [51.543466, 0.145772], [51.543952, 0.146216], [51.543629, 0.147346]]]}, 'properties': {'FID': 74, 'OA21CD': 'E00000096', 'LSOA21CD': 'E01000013', 'LSOA21NM': 'Barking and Dagenham 013A', 'LSOA21NMW': ' ', 'BNG_E': 548867, 'BNG_N': 184736, 'LAT': 51.54189, 'LONG': 0.145317, 'GlobalID': '197eaa7f-93d3-42f9-a29e-c3048ed77488'}}\n",
            "{'type': 'Feature', 'id': 75, 'geometry': {'type': 'Polygon', 'coordinates': [[[51.543466, 0.145772], [51.543253, 0.146126], [51.542515, 0.145677], [51.542019, 0.144687], [51.542318, 0.144162], [51.542232, 0.143634], [51.54191, 0.143044], [51.541284, 0.143043], [51.541134, 0.14057], [51.541758, 0.140559], [51.542304, 0.142574], [51.542805, 0.142573], [51.543253, 0.143853], [51.543848, 0.144164], [51.54347, 0.144829], [51.543466, 0.145772]]]}, 'properties': {'FID': 75, 'OA21CD': 'E00000097', 'LSOA21CD': 'E01000013', 'LSOA21NM': 'Barking and Dagenham 013A', 'LSOA21NMW': ' ', 'BNG_E': 548779, 'BNG_N': 184796, 'LAT': 51.54245, 'LONG': 0.144074, 'GlobalID': '718e1e34-02dc-4810-abdc-a1caf8abd6b0'}}\n",
            "{'type': 'Feature', 'id': 76, 'geometry': {'type': 'Polygon', 'coordinates': [[[51.541462, 0.137386], [51.540917, 0.137314], [51.540887, 0.136848], [51.540719, 0.134222], [51.540716, 0.134178], [51.541617, 0.133913], [51.542014, 0.136777], [51.541462, 0.137386]]]}, 'properties': {'FID': 76, 'OA21CD': 'E00000098', 'LSOA21CD': 'E01000014', 'LSOA21NM': 'Barking and Dagenham 013B', 'LSOA21NMW': ' ', 'BNG_E': 548201, 'BNG_N': 184657, 'LAT': 51.54136, 'LONG': 0.135687, 'GlobalID': '382f6c16-27bd-465d-a26a-3f60a6fa69e1'}}\n",
            "{'type': 'Feature', 'id': 77, 'geometry': {'type': 'Polygon', 'coordinates': [[[51.541134, 0.14057], [51.541115, 0.140228], [51.540917, 0.137314], [51.541462, 0.137386], [51.541758, 0.140559], [51.541134, 0.14057]]]}, 'properties': {'FID': 77, 'OA21CD': 'E00000099', 'LSOA21CD': 'E01000014', 'LSOA21NM': 'Barking and Dagenham 013B', 'LSOA21NMW': ' ', 'BNG_E': 548431, 'BNG_N': 184661, 'LAT': 51.54133, 'LONG': 0.139002, 'GlobalID': 'd9beae8e-cf79-4239-8ac1-27261d029386'}}\n",
            "{'type': 'Feature', 'id': 78, 'geometry': {'type': 'Polygon', 'coordinates': [[[51.551019, 0.156349], [51.548714, 0.156454], [51.548347, 0.156699], [51.54828, 0.155765], [51.547549, 0.154473], [51.547897, 0.153804], [51.548676, 0.153604], [51.550957, 0.153367], [51.551276, 0.151771], [51.551313, 0.15177], [51.551337, 0.152581], [51.551019, 0.156349]]]}, 'properties': {'FID': 78, 'OA21CD': 'E00000100', 'LSOA21CD': 'E01000016', 'LSOA21NM': 'Barking and Dagenham 009B', 'LSOA21NMW': ' ', 'BNG_E': 549461, 'BNG_N': 185601, 'LAT': 51.54951, 'LONG': 0.154243, 'GlobalID': 'b633b856-92b4-4a30-b515-0987d45fb946'}}\n",
            "{'type': 'Feature', 'id': 79, 'geometry': {'type': 'Polygon', 'coordinates': [[[51.552726, 0.12134], [51.552223, 0.121399], [51.551929, 0.118904], [51.551582, 0.119292], [51.551243, 0.118798], [51.551418, 0.11729], [51.551515, 0.116157], [51.551935, 0.117001], [51.55251, 0.116882], [51.552571, 0.119422], [51.553184, 0.119361], [51.55325, 0.120298], [51.552753, 0.120383], [51.552726, 0.12134]]]}, 'properties': {'FID': 79, 'OA21CD': 'E00000101', 'LSOA21CD': 'E01000024', 'LSOA21NM': 'Barking and Dagenham 008D', 'LSOA21NMW': ' ', 'BNG_E': 547022, 'BNG_N': 185836, 'LAT': 51.55226, 'LONG': 0.11919, 'GlobalID': 'a2ba84b9-9e1c-4a60-a6dc-522d056123fa'}}\n",
            "{'type': 'Feature', 'id': 80, 'geometry': {'type': 'Polygon', 'coordinates': [[[51.551439, 0.124304], [51.551302, 0.124375], [51.55123, 0.123586], [51.551096, 0.120471], [51.551243, 0.118798], [51.551582, 0.119292], [51.551929, 0.118904], [51.552223, 0.121399], [51.552726, 0.12134], [51.552812, 0.122191], [51.552213, 0.122348], [51.552535, 0.123135], [51.552224, 0.122672], [51.551887, 0.123297], [51.55162, 0.123062], [51.551509, 0.123918], [51.551705, 0.124085], [51.551439, 0.124304]]]}, 'properties': {'FID': 80, 'OA21CD': 'E00000102', 'LSOA21CD': 'E01000024', 'LSOA21NM': 'Barking and Dagenham 008D', 'LSOA21NMW': ' ', 'BNG_E': 547163, 'BNG_N': 185806, 'LAT': 51.55195, 'LONG': 0.12121, 'GlobalID': 'bed93773-0b58-4066-94a1-93b195ac7b20'}}\n",
            "{'type': 'Feature', 'id': 81, 'geometry': {'type': 'Polygon', 'coordinates': [[[51.562251, 0.124102], [51.5633, 0.120271], [51.563625, 0.121963], [51.564174, 0.124787], [51.562251, 0.124102]]]}, 'properties': {'FID': 81, 'OA21CD': 'E00000103', 'LSOA21CD': 'E01032580', 'LSOA21NM': 'Barking and Dagenham 023F', 'LSOA21NMW': ' ', 'BNG_E': 547203, 'BNG_N': 187064, 'LAT': 51.56324, 'LONG': 0.122312, 'GlobalID': '14612969-dfce-422a-a633-a381a07be74a'}}\n",
            "{'type': 'Feature', 'id': 82, 'geometry': {'type': 'Polygon', 'coordinates': [[[51.558717, 0.121879], [51.556425, 0.119284], [51.55526, 0.117512], [51.5559, 0.117221], [51.555887, 0.116207], [51.556892, 0.117151], [51.557388, 0.117133], [51.557348, 0.118938], [51.558541, 0.120488], [51.558654, 0.119781], [51.559156, 0.119932], [51.559431, 0.120796], [51.559175, 0.121656], [51.558717, 0.121879]]]}, 'properties': {'FID': 82, 'OA21CD': 'E00000104', 'LSOA21CD': 'E01000019', 'LSOA21NM': 'Barking and Dagenham 023A', 'LSOA21NMW': ' ', 'BNG_E': 546994, 'BNG_N': 186348, 'LAT': 51.55687, 'LONG': 0.119, 'GlobalID': 'e7ff4dad-92a1-4859-a1da-1734c3ee95f1'}}\n",
            "{'type': 'Feature', 'id': 83, 'geometry': {'type': 'Polygon', 'coordinates': [[[51.56191, 0.122107], [51.561486, 0.121318], [51.560642, 0.121765], [51.560363, 0.121272], [51.560827, 0.119993], [51.56054, 0.119496], [51.560789, 0.118589], [51.561466, 0.11905], [51.562493, 0.11975], [51.562316, 0.12093], [51.56251, 0.12154], [51.56191, 0.122107]]]}, 'properties': {'FID': 83, 'OA21CD': 'E00000106', 'LSOA21CD': 'E01032580', 'LSOA21NM': 'Barking and Dagenham 023F', 'LSOA21NMW': ' ', 'BNG_E': 547075, 'BNG_N': 186875, 'LAT': 51.56158, 'LONG': 0.120388, 'GlobalID': '5a378143-f043-42d4-9155-80b2f2616292'}}\n",
            "{'type': 'Feature', 'id': 84, 'geometry': {'type': 'Polygon', 'coordinates': [[[51.561802, 0.124474], [51.560159, 0.12514], [51.560152, 0.125108], [51.560454, 0.12432], [51.560204, 0.123086], [51.560547, 0.122723], [51.560333, 0.122236], [51.560642, 0.121765], [51.561486, 0.121318], [51.56191, 0.122107], [51.561585, 0.124048], [51.561802, 0.124474]]]}, 'properties': {'FID': 84, 'OA21CD': 'E00000107', 'LSOA21CD': 'E01032580', 'LSOA21NM': 'Barking and Dagenham 023F', 'LSOA21NMW': ' ', 'BNG_E': 547278, 'BNG_N': 186820, 'LAT': 51.56103, 'LONG': 0.123291, 'GlobalID': '08a31349-1a83-4f70-99a2-37c0ed65d4ab'}}\n",
            "{'type': 'Feature', 'id': 85, 'geometry': {'type': 'Polygon', 'coordinates': [[[51.560152, 0.125108], [51.559741, 0.124804], [51.559937, 0.122881], [51.559284, 0.122657], [51.559238, 0.124361], [51.558662, 0.124512], [51.558463, 0.122761], [51.558717, 0.121879], [51.559175, 0.121656], [51.559431, 0.120796], [51.560363, 0.121272], [51.560642, 0.121765], [51.560333, 0.122236], [51.560547, 0.122723], [51.560204, 0.123086], [51.560454, 0.12432], [51.560152, 0.125108]]]}, 'properties': {'FID': 85, 'OA21CD': 'E00000108', 'LSOA21CD': 'E01000019', 'LSOA21NM': 'Barking and Dagenham 023A', 'LSOA21NMW': ' ', 'BNG_E': 547172, 'BNG_N': 186653, 'LAT': 51.55956, 'LONG': 0.121693, 'GlobalID': 'b8ddd046-4cec-40a2-9c1d-c2d2768a4a1d'}}\n",
            "{'type': 'Feature', 'id': 86, 'geometry': {'type': 'Polygon', 'coordinates': [[[51.560363, 0.121272], [51.559431, 0.120796], [51.559156, 0.119932], [51.558654, 0.119781], [51.559163, 0.117478], [51.560789, 0.118589], [51.56054, 0.119496], [51.560827, 0.119993], [51.560363, 0.121272]]]}, 'properties': {'FID': 86, 'OA21CD': 'E00000109', 'LSOA21CD': 'E01000019', 'LSOA21NM': 'Barking and Dagenham 023A', 'LSOA21NMW': ' ', 'BNG_E': 547014, 'BNG_N': 186657, 'LAT': 51.55964, 'LONG': 0.119417, 'GlobalID': '2819749f-883a-4e9c-a3f7-76772241145c'}}\n",
            "{'type': 'Feature', 'id': 87, 'geometry': {'type': 'Polygon', 'coordinates': [[[51.558439, 0.126387], [51.558308, 0.126507], [51.558119, 0.124463], [51.557911, 0.122451], [51.558463, 0.122761], [51.558662, 0.124512], [51.559238, 0.124361], [51.559284, 0.122657], [51.559937, 0.122881], [51.559741, 0.124804], [51.560152, 0.125108], [51.560159, 0.12514], [51.558439, 0.126387]]]}, 'properties': {'FID': 87, 'OA21CD': 'E00000110', 'LSOA21CD': 'E01000020', 'LSOA21NM': 'Barking and Dagenham 023B', 'LSOA21NMW': ' ', 'BNG_E': 547370, 'BNG_N': 186637, 'LAT': 51.55936, 'LONG': 0.124541, 'GlobalID': '18d1055b-9e8c-4790-92ae-6ac265d323b3'}}\n",
            "{'type': 'Feature', 'id': 88, 'geometry': {'type': 'Polygon', 'coordinates': [[[51.557873, 0.126964], [51.556749, 0.12768], [51.556684, 0.126718], [51.556186, 0.125679], [51.557056, 0.12417], [51.557506, 0.12382], [51.558119, 0.124463], [51.558308, 0.126507], [51.557873, 0.126964]]]}, 'properties': {'FID': 88, 'OA21CD': 'E00000111', 'LSOA21CD': 'E01000020', 'LSOA21NM': 'Barking and Dagenham 023B', 'LSOA21NMW': ' ', 'BNG_E': 547458, 'BNG_N': 186404, 'LAT': 51.55725, 'LONG': 0.125712, 'GlobalID': '535b4a07-f31d-4cca-bd7d-12b94af5862c'}}\n",
            "{'type': 'Feature', 'id': 89, 'geometry': {'type': 'Polygon', 'coordinates': [[[51.556892, 0.117151], [51.555887, 0.116207], [51.555319, 0.116256], [51.556889, 0.113163], [51.557318, 0.113329], [51.556892, 0.117151]]]}, 'properties': {'FID': 89, 'OA21CD': 'E00000112', 'LSOA21CD': 'E01000021', 'LSOA21NM': 'Barking and Dagenham 008A', 'LSOA21NMW': ' ', 'BNG_E': 546739, 'BNG_N': 186278, 'LAT': 51.5563, 'LONG': 0.115295, 'GlobalID': 'cd9053b8-46dc-4ee6-bce5-9b6285da9340'}}\n",
            "{'type': 'Feature', 'id': 90, 'geometry': {'type': 'Polygon', 'coordinates': [[[51.556749, 0.12768], [51.555607, 0.127129], [51.555454, 0.127027], [51.555374, 0.126378], [51.554638, 0.126042], [51.554823, 0.125701], [51.554635, 0.125154], [51.554874, 0.124684], [51.555458, 0.125035], [51.5565, 0.123355], [51.557004, 0.123358], [51.557056, 0.12417], [51.556186, 0.125679], [51.556684, 0.126718], [51.556749, 0.12768]]]}, 'properties': {'FID': 90, 'OA21CD': 'E00000113', 'LSOA21CD': 'E01000020', 'LSOA21NM': 'Barking and Dagenham 023B', 'LSOA21NMW': ' ', 'BNG_E': 547474, 'BNG_N': 186246, 'LAT': 51.55582, 'LONG': 0.125876, 'GlobalID': 'b910b24f-b2d0-4572-9fbb-efcfee3627ba'}}\n",
            "{'type': 'Feature', 'id': 91, 'geometry': {'type': 'Polygon', 'coordinates': [[[51.557056, 0.12417], [51.557004, 0.123358], [51.5565, 0.123355], [51.555458, 0.125035], [51.554874, 0.124684], [51.555232, 0.12353], [51.555612, 0.123273], [51.555413, 0.122694], [51.555771, 0.122101], [51.556214, 0.122688], [51.556698, 0.121951], [51.557557, 0.122792], [51.557911, 0.122451], [51.558119, 0.124463], [51.557506, 0.12382], [51.557056, 0.12417]]]}, 'properties': {'FID': 91, 'OA21CD': 'E00000114', 'LSOA21CD': 'E01000020', 'LSOA21NM': 'Barking and Dagenham 023B', 'LSOA21NMW': ' ', 'BNG_E': 547310, 'BNG_N': 186437, 'LAT': 51.55758, 'LONG': 0.123592, 'GlobalID': '8b6f1bc9-9cb6-4195-9cc7-ed6cbf44d12f'}}\n",
            "{'type': 'Feature', 'id': 92, 'geometry': {'type': 'Polygon', 'coordinates': [[[51.558463, 0.122761], [51.557911, 0.122451], [51.557557, 0.122792], [51.556698, 0.121951], [51.556214, 0.122688], [51.555771, 0.122101], [51.555222, 0.121005], [51.555646, 0.120978], [51.555858, 0.120413], [51.556425, 0.119284], [51.558717, 0.121879], [51.558463, 0.122761]]]}, 'properties': {'FID': 92, 'OA21CD': 'E00000115', 'LSOA21CD': 'E01000019', 'LSOA21NM': 'Barking and Dagenham 023A', 'LSOA21NMW': ' ', 'BNG_E': 547137, 'BNG_N': 186335, 'LAT': 51.55671, 'LONG': 0.121056, 'GlobalID': '2932ce89-1a13-4323-aff4-e568b6278a7c'}}\n",
            "{'type': 'Feature', 'id': 93, 'geometry': {'type': 'Polygon', 'coordinates': [[[51.555232, 0.12353], [51.554261, 0.122376], [51.553585, 0.122498], [51.553325, 0.12299], [51.552812, 0.122191], [51.552726, 0.12134], [51.552753, 0.120383], [51.55325, 0.120298], [51.553856, 0.120521], [51.55389, 0.121162], [51.554328, 0.121114], [51.555413, 0.122694], [51.555612, 0.123273], [51.555232, 0.12353]]]}, 'properties': {'FID': 93, 'OA21CD': 'E00000116', 'LSOA21CD': 'E01000022', 'LSOA21NM': 'Barking and Dagenham 008B', 'LSOA21NMW': ' ', 'BNG_E': 547204, 'BNG_N': 186011, 'LAT': 51.55378, 'LONG': 0.121886, 'GlobalID': '5c2a7183-928e-4fa4-91c9-73802a8b3f33'}}\n",
            "{'type': 'Feature', 'id': 94, 'geometry': {'type': 'Polygon', 'coordinates': [[[51.555858, 0.120413], [51.555164, 0.11988], [51.554455, 0.118565], [51.554254, 0.118329], [51.554817, 0.117224], [51.55526, 0.117512], [51.556425, 0.119284], [51.555858, 0.120413]]]}, 'properties': {'FID': 94, 'OA21CD': 'E00000117', 'LSOA21CD': 'E01000021', 'LSOA21NM': 'Barking and Dagenham 008A', 'LSOA21NMW': ' ', 'BNG_E': 546988, 'BNG_N': 186188, 'LAT': 51.55543, 'LONG': 0.118847, 'GlobalID': 'ca7a5f30-7546-4c96-a967-3c453519b765'}}\n",
            "{'type': 'Feature', 'id': 95, 'geometry': {'type': 'Polygon', 'coordinates': [[[51.555319, 0.116256], [51.554969, 0.116338], [51.554831, 0.115764], [51.554149, 0.116201], [51.553324, 0.115226], [51.553168, 0.114951], [51.553592, 0.114767], [51.553548, 0.114033], [51.553985, 0.114018], [51.554295, 0.1134], [51.555304, 0.114741], [51.55652, 0.112725], [51.556889, 0.113163], [51.555319, 0.116256]]]}, 'properties': {'FID': 95, 'OA21CD': 'E00000118', 'LSOA21CD': 'E01000021', 'LSOA21NM': 'Barking and Dagenham 008A', 'LSOA21NMW': ' ', 'BNG_E': 546690, 'BNG_N': 186059, 'LAT': 51.55435, 'LONG': 0.114498, 'GlobalID': '7bebb20d-c091-4af8-8ee3-802c4e0196e3'}}\n",
            "{'type': 'Feature', 'id': 96, 'geometry': {'type': 'Polygon', 'coordinates': [[[51.55526, 0.117512], [51.554817, 0.117224], [51.554254, 0.118329], [51.552793, 0.116395], [51.553324, 0.115226], [51.554149, 0.116201], [51.554831, 0.115764], [51.554969, 0.116338], [51.555319, 0.116256], [51.555887, 0.116207], [51.5559, 0.117221], [51.55526, 0.117512]]]}, 'properties': {'FID': 96, 'OA21CD': 'E00000119', 'LSOA21CD': 'E01000021', 'LSOA21NM': 'Barking and Dagenham 008A', 'LSOA21NMW': ' ', 'BNG_E': 546852, 'BNG_N': 186075, 'LAT': 51.55445, 'LONG': 0.116839, 'GlobalID': '5c4c5cc5-5fee-44b2-8dd9-1bd1c52329de'}}\n",
            "{'type': 'Feature', 'id': 97, 'geometry': {'type': 'Polygon', 'coordinates': [[[51.555771, 0.122101], [51.555413, 0.122694], [51.554328, 0.121114], [51.55389, 0.121162], [51.553856, 0.120521], [51.554293, 0.119776], [51.554053, 0.118888], [51.554455, 0.118565], [51.555164, 0.11988], [51.555858, 0.120413], [51.555646, 0.120978], [51.555222, 0.121005], [51.555771, 0.122101]]]}, 'properties': {'FID': 97, 'OA21CD': 'E00000120', 'LSOA21CD': 'E01000022', 'LSOA21NM': 'Barking and Dagenham 008B', 'LSOA21NMW': ' ', 'BNG_E': 547115, 'BNG_N': 186122, 'LAT': 51.5548, 'LONG': 0.12065, 'GlobalID': '243ec190-28ac-4daf-b6af-e167187583a0'}}\n",
            "{'type': 'Feature', 'id': 98, 'geometry': {'type': 'Polygon', 'coordinates': [[[51.552793, 0.116395], [51.55251, 0.116882], [51.551935, 0.117001], [51.551515, 0.116157], [51.551418, 0.11729], [51.550929, 0.116452], [51.551201, 0.114475], [51.55154, 0.113854], [51.552757, 0.114412], [51.553168, 0.114951], [51.553324, 0.115226], [51.552793, 0.116395]]]}, 'properties': {'FID': 98, 'OA21CD': 'E00000121', 'LSOA21CD': 'E01000021', 'LSOA21NM': 'Barking and Dagenham 008A', 'LSOA21NMW': ' ', 'BNG_E': 546775, 'BNG_N': 185815, 'LAT': 51.55213, 'LONG': 0.115621, 'GlobalID': 'b084ad48-c575-475b-a3aa-1c01d82f9d29'}}\n",
            "{'type': 'Feature', 'id': 99, 'geometry': {'type': 'Polygon', 'coordinates': [[[51.553856, 0.120521], [51.55325, 0.120298], [51.553184, 0.119361], [51.552571, 0.119422], [51.55251, 0.116882], [51.552793, 0.116395], [51.554254, 0.118329], [51.554455, 0.118565], [51.554053, 0.118888], [51.554293, 0.119776], [51.553856, 0.120521]]]}, 'properties': {'FID': 99, 'OA21CD': 'E00000122', 'LSOA21CD': 'E01000022', 'LSOA21NM': 'Barking and Dagenham 008B', 'LSOA21NMW': ' ', 'BNG_E': 546970, 'BNG_N': 185969, 'LAT': 51.55347, 'LONG': 0.118496, 'GlobalID': '5d5bc37d-e6ce-42d0-88dc-e143d1452b16'}}\n",
            "{'type': 'Feature', 'id': 100, 'geometry': {'type': 'Polygon', 'coordinates': [[[51.553241, 0.125143], [51.551439, 0.124304], [51.551705, 0.124085], [51.551509, 0.123918], [51.55162, 0.123062], [51.551887, 0.123297], [51.552224, 0.122672], [51.552535, 0.123135], [51.552213, 0.122348], [51.552812, 0.122191], [51.553325, 0.12299], [51.552985, 0.123903], [51.553651, 0.124049], [51.554019, 0.125185], [51.554635, 0.125154], [51.554823, 0.125701], [51.554638, 0.126042], [51.555374, 0.126378], [51.555454, 0.127027], [51.553241, 0.125143]]]}, 'properties': {'FID': 100, 'OA21CD': 'E00000123', 'LSOA21CD': 'E01000020', 'LSOA21NM': 'Barking and Dagenham 023B', 'LSOA21NMW': ' ', 'BNG_E': 547394, 'BNG_N': 185925, 'LAT': 51.55296, 'LONG': 0.124589, 'GlobalID': 'bac5b502-39f3-4514-a7c4-692b4a9a8434'}}\n"
          ]
        }
      ]
    },
    {
      "cell_type": "code",
      "source": [
        "oa_boundaries = []\n",
        "\n",
        "for oa in list(d.values())[2]:\n",
        "  oa_boundaries.append((oa['properties']['OA21CD'], oa['geometry']))\n",
        "\n",
        "#"
      ],
      "metadata": {
        "id": "DWxxvBs3mU6L"
      },
      "execution_count": 12,
      "outputs": []
    },
    {
      "cell_type": "code",
      "source": [
        "oa_boundaries[:10]"
      ],
      "metadata": {
        "colab": {
          "base_uri": "https://localhost:8080/"
        },
        "id": "jsCeEcyFrODu",
        "outputId": "569816ec-0872-4777-c832-03f5e3018d08"
      },
      "execution_count": 13,
      "outputs": [
        {
          "output_type": "execute_result",
          "data": {
            "text/plain": [
              "[('E00000001',\n",
              "  {'type': 'Polygon',\n",
              "   'coordinates': [[[51.519759, -0.094505],\n",
              "     [51.520069, -0.095791],\n",
              "     [51.520325, -0.096046],\n",
              "     [51.520241, -0.09651],\n",
              "     [51.520274, -0.096516],\n",
              "     [51.520502, -0.095268],\n",
              "     [51.520594, -0.094771],\n",
              "     [51.520663, -0.094389],\n",
              "     [51.519759, -0.094505]]]}),\n",
              " ('E00000003',\n",
              "  {'type': 'Polygon',\n",
              "   'coordinates': [[[51.520069, -0.095791],\n",
              "     [51.519623, -0.096138],\n",
              "     [51.519329, -0.096301],\n",
              "     [51.519718, -0.096634],\n",
              "     [51.519679, -0.097048],\n",
              "     [51.520241, -0.09651],\n",
              "     [51.520325, -0.096046],\n",
              "     [51.520069, -0.095791]]]}),\n",
              " ('E00000005',\n",
              "  {'type': 'Polygon',\n",
              "   'coordinates': [[[51.519329, -0.096301],\n",
              "     [51.518789, -0.095761],\n",
              "     [51.518472, -0.096031],\n",
              "     [51.51862, -0.097135],\n",
              "     [51.519679, -0.097048],\n",
              "     [51.519718, -0.096634],\n",
              "     [51.519329, -0.096301]]]}),\n",
              " ('E00000007',\n",
              "  {'type': 'Polygon',\n",
              "   'coordinates': [[[51.518472, -0.096031],\n",
              "     [51.518237, -0.095084],\n",
              "     [51.516753, -0.095934],\n",
              "     [51.516587, -0.094943],\n",
              "     [51.51544, -0.095481],\n",
              "     [51.514967, -0.095797],\n",
              "     [51.514841, -0.096589],\n",
              "     [51.515537, -0.097983],\n",
              "     [51.5166, -0.097854],\n",
              "     [51.516768, -0.099749],\n",
              "     [51.51745, -0.099669],\n",
              "     [51.517759, -0.099169],\n",
              "     [51.517897, -0.0982],\n",
              "     [51.517546, -0.098044],\n",
              "     [51.51768, -0.097588],\n",
              "     [51.518001, -0.097035],\n",
              "     [51.51862, -0.097135],\n",
              "     [51.518472, -0.096031]]]}),\n",
              " ('E00000010',\n",
              "  {'type': 'Polygon',\n",
              "   'coordinates': [[[51.522668, -0.096914],\n",
              "     [51.522172, -0.097492],\n",
              "     [51.522918, -0.09772],\n",
              "     [51.522668, -0.096914]]]}),\n",
              " ('E00000013',\n",
              "  {'type': 'Polygon',\n",
              "   'coordinates': [[[51.520522, -0.095278],\n",
              "     [51.520502, -0.095268],\n",
              "     [51.520274, -0.096516],\n",
              "     [51.521571, -0.097286],\n",
              "     [51.52163, -0.096492],\n",
              "     [51.520917, -0.096159],\n",
              "     [51.520522, -0.095278]]]}),\n",
              " ('E00000018',\n",
              "  {'type': 'Polygon',\n",
              "   'coordinates': [[[51.519986, -0.092525],\n",
              "     [51.519372, -0.09104],\n",
              "     [51.518567, -0.091506],\n",
              "     [51.518945, -0.093028],\n",
              "     [51.518049, -0.093372],\n",
              "     [51.518489, -0.094766],\n",
              "     [51.518237, -0.095084],\n",
              "     [51.519287, -0.095085],\n",
              "     [51.519759, -0.094505],\n",
              "     [51.520663, -0.094389],\n",
              "     [51.520594, -0.094771],\n",
              "     [51.520776, -0.093922],\n",
              "     [51.52091, -0.093052],\n",
              "     [51.519986, -0.092525]]]}),\n",
              " ('E00000019',\n",
              "  {'type': 'Polygon',\n",
              "   'coordinates': [[[51.519983, -0.089946],\n",
              "     [51.519517, -0.090198],\n",
              "     [51.519372, -0.09104],\n",
              "     [51.519986, -0.092525],\n",
              "     [51.51973, -0.091082],\n",
              "     [51.520817, -0.090585],\n",
              "     [51.520687, -0.089695],\n",
              "     [51.519983, -0.089946]]]}),\n",
              " ('E00000020',\n",
              "  {'type': 'Polygon',\n",
              "   'coordinates': [[[51.518567, -0.091506],\n",
              "     [51.519372, -0.09104],\n",
              "     [51.519517, -0.090198],\n",
              "     [51.518093, -0.091197],\n",
              "     [51.518567, -0.091506]]]}),\n",
              " ('E00000021',\n",
              "  {'type': 'Polygon',\n",
              "   'coordinates': [[[51.519411, -0.088129],\n",
              "     [51.517516, -0.089291],\n",
              "     [51.517477, -0.09012],\n",
              "     [51.51708, -0.09031],\n",
              "     [51.517262, -0.090806],\n",
              "     [51.517539, -0.090687],\n",
              "     [51.517648, -0.09142],\n",
              "     [51.515831, -0.092416],\n",
              "     [51.514093, -0.094032],\n",
              "     [51.514237, -0.094779],\n",
              "     [51.514527, -0.094692],\n",
              "     [51.51459, -0.095227],\n",
              "     [51.515278, -0.095035],\n",
              "     [51.51544, -0.095481],\n",
              "     [51.516587, -0.094943],\n",
              "     [51.516753, -0.095934],\n",
              "     [51.518237, -0.095084],\n",
              "     [51.518489, -0.094766],\n",
              "     [51.518049, -0.093372],\n",
              "     [51.518945, -0.093028],\n",
              "     [51.518567, -0.091506],\n",
              "     [51.518093, -0.091197],\n",
              "     [51.519517, -0.090198],\n",
              "     [51.519983, -0.089946],\n",
              "     [51.519411, -0.088129]]]})]"
            ]
          },
          "metadata": {},
          "execution_count": 13
        }
      ]
    },
    {
      "cell_type": "code",
      "source": [
        "%load_ext sql"
      ],
      "metadata": {
        "id": "ipdQMx_2xwsQ"
      },
      "execution_count": 15,
      "outputs": []
    },
    {
      "cell_type": "code",
      "source": [],
      "metadata": {
        "id": "Clcnq7jb9iI9"
      },
      "execution_count": null,
      "outputs": []
    },
    {
      "cell_type": "markdown",
      "metadata": {
        "id": "W2VWvBvC7MRW"
      },
      "source": [
        "Write a short paragraph summarising what you did in the Access stage."
      ]
    },
    {
      "cell_type": "markdown",
      "metadata": {
        "id": "MIweGJKkn1LW"
      },
      "source": [
        "## Assess"
      ]
    },
    {
      "cell_type": "code",
      "execution_count": null,
      "metadata": {
        "id": "FUy3b7lin2wU"
      },
      "outputs": [],
      "source": []
    },
    {
      "cell_type": "markdown",
      "metadata": {
        "id": "Kr5-wBZs1BDT"
      },
      "source": [
        "Write a short paragraph summarising what you did in the Assess stage."
      ]
    },
    {
      "cell_type": "code",
      "execution_count": null,
      "metadata": {
        "id": "RpzpG97O1JTs"
      },
      "outputs": [],
      "source": [
        "# TODO: your answer here"
      ]
    },
    {
      "cell_type": "markdown",
      "metadata": {
        "id": "TIzv84Kcn3Dj"
      },
      "source": [
        "## Address"
      ]
    },
    {
      "cell_type": "code",
      "execution_count": null,
      "metadata": {
        "id": "P9GQVzaBn-YC"
      },
      "outputs": [],
      "source": []
    },
    {
      "cell_type": "code",
      "execution_count": null,
      "metadata": {
        "id": "Ukm6s3Fyn57t"
      },
      "outputs": [],
      "source": [
        "def estimate_students(latitude: float, longitude: float) -> float:\n",
        "    \"\"\"\n",
        "    Args:\n",
        "    latitude (float): The latitude coordinate.\n",
        "    longitude (float): The longitude coordinate.\n",
        "\n",
        "    Returns:\n",
        "    float: Estimated share of students in that area (value between 0 and 1).\n",
        "    \"\"\"\n",
        "    # TODO: implement\n",
        "    return NotImplementedError\n",
        "\n",
        "\n",
        "def estimate_something(latitude: float, longitude: float) -> float:\n",
        "    #TODO: rename function\n",
        "    \"\"\"\n",
        "    Args:\n",
        "    latitude (float): The latitude coordinate.\n",
        "    longitude (float): The longitude coordinate.\n",
        "\n",
        "    Returns:\n",
        "    float: Estimated value, percentage, probability, etc\n",
        "    \"\"\"\n",
        "    # TODO: implement\n",
        "    return NotImplementedError"
      ]
    },
    {
      "cell_type": "markdown",
      "metadata": {
        "id": "ktZ4NrcU1NsX"
      },
      "source": [
        "Write a short paragraph summarising what you did in the Address stage."
      ]
    },
    {
      "cell_type": "code",
      "execution_count": null,
      "metadata": {
        "id": "WQVi5mRF1R7V"
      },
      "outputs": [],
      "source": [
        "# TODO: your answer here"
      ]
    },
    {
      "cell_type": "markdown",
      "metadata": {
        "id": "M03wH58P5V3K"
      },
      "source": [
        "## Discussion"
      ]
    },
    {
      "cell_type": "markdown",
      "metadata": {
        "id": "0OlifPaO6Twy"
      },
      "source": [
        "#### Story and structure"
      ]
    },
    {
      "cell_type": "code",
      "execution_count": null,
      "metadata": {
        "id": "vHe7s9WP8vc_"
      },
      "outputs": [],
      "source": [
        "# Marks awarded for inline explanation and structure, no need for answers here. Go over your notebook to make sure you explain what you did and why."
      ]
    },
    {
      "cell_type": "markdown",
      "metadata": {
        "id": "nQXOZrmh6ZkH"
      },
      "source": [
        "#### Design decisions"
      ]
    },
    {
      "cell_type": "code",
      "execution_count": null,
      "metadata": {
        "id": "VZpLGlIQ6WOB"
      },
      "outputs": [],
      "source": [
        "# TODO: your answer here"
      ]
    },
    {
      "cell_type": "markdown",
      "metadata": {
        "id": "uXTy0gCJ7FqJ"
      },
      "source": [
        "#### Comparison"
      ]
    },
    {
      "cell_type": "code",
      "execution_count": null,
      "metadata": {
        "id": "StIuDGx26YT3"
      },
      "outputs": [],
      "source": [
        "# TODO: your answer here"
      ]
    },
    {
      "cell_type": "markdown",
      "metadata": {
        "id": "DRnOzM_Y7Jt7"
      },
      "source": [
        "#### Reusability"
      ]
    },
    {
      "cell_type": "code",
      "execution_count": null,
      "metadata": {
        "id": "XNin895_6YgZ"
      },
      "outputs": [],
      "source": [
        "# TODO: your answer here"
      ]
    },
    {
      "cell_type": "markdown",
      "metadata": {
        "id": "_L96aZiR4WVL"
      },
      "source": [
        "# Task 2: miniproject (13 marks)"
      ]
    },
    {
      "cell_type": "markdown",
      "metadata": {
        "id": "6i81p_90A1at"
      },
      "source": [
        "We expect your miniproject to be more advanced than the example project, and that's why we allocated more marks to it. The first 7 marks will be allocated similarly to Task 1.\n",
        "\n",
        "6 remaining points are *bonus* - they will be allocated for going far beyond what you did in Task 1, either in data access, assess, address or story."
      ]
    },
    {
      "cell_type": "markdown",
      "metadata": {
        "id": "USNwRwBaCzOC"
      },
      "source": [
        "#### Choosing your topic\n",
        "\n",
        "You are given a lot of flexibility in choosing a miniproject topic.\n",
        "\n",
        "Some hints:\n",
        "- Your project should be based on the Census, Price Paid, OSM and Election datasets.\n",
        "- It's a good idea to pick something that you are interested in.\n",
        "- Bear in mind there are no marks dedicated to your overall prediction accuracy, so there is no advantage to picking 'easy' topics. It is perfectly ok to not reach significant predictive power, as long as you followed the proper process.\n",
        "\n",
        "Some guidelines:\n",
        "- Do not make a miniproject that furthers discriminatory rhetoric. In general, avoid topics that could be insensitive. If in doubt, message Radzim Sendyka (and *cc* Christian Cabrera) to discuss if this applies to your idea.\n",
        "- Please avoid any projects that would require approval from the ethics comittee.\n",
        "- Pick the scope of your projects that will allow you to show your skills. Some projects might not be challenging enough while others might be hard to make any progress in. Don't be scared to report negative results.\n",
        "\n",
        "Please email Radzim Sendyka (and *cc* Christian Cabrera) with your project idea when you begin working on it, so we can let you know about any potential concerns (eg. potentially insensive, too off-topic, too simple, too complex) as soon as we can. You can change the topic up to the submission deadline, but let us know again in cases of major changes."
      ]
    },
    {
      "cell_type": "markdown",
      "metadata": {
        "id": "pwjwzdgvAGI-"
      },
      "source": [
        "Most of the advice from Task 1 still applies, particularly around using an online relational database, structuring your notebook, fynesse, access-assess-address, data readiness levels, hints."
      ]
    },
    {
      "cell_type": "markdown",
      "metadata": {
        "id": "9i6X92QHnuAT"
      },
      "source": [
        "Sources you may want to include in your data include:\n",
        "\n",
        "  - UK Census Data\n",
        "    - UK Census 2021 data [here](https://www.ons.gov.uk/search?topics=9731,6646,3845,9497,4262,4128,7755,4994,6885,9724,7367&filter=datasets) or [here](https://www.nomisweb.co.uk/sources/census_2021_bulk).\n",
        "    - Historical Census data [here](https://www.ons.gov.uk/census/historiccensusdata).\n",
        "    - Geographic coordinates of Census Output Areas [here](https://www.data.gov.uk/dataset/4d4e021d-fe98-4a0e-88e2-3ead84538537/output-areas-december-2021-boundaries-ew-bgc-v2).\n",
        "  - Spatial data\n",
        "    - You should already have a connection to OpenStreetMaps.\n",
        "    - You might want to also download the entire map for England (or more) [here](https://download.openstreetmap.fr/extracts/) or [here](https://wiki.openstreetmap.org/wiki/Planet.osm).\n",
        "  - Election data\n",
        "    - Recent Election Results data [here](https://commonslibrary.parliament.uk/research-briefings/cbp-10009/)\n",
        "    - Historical Election Results data [here](https://commonslibrary.parliament.uk/research-briefings/cbp-8647/#fullreport).\n",
        "    - Lookup reference between Output Areas and Parliamentary Constituencies [here](https://geoportal.statistics.gov.uk/datasets/5968b5b2c0f14dd29ba277beaae6dec3_0/explore).\n",
        "  - Price Paid Data\n",
        "    - You should have this data already in your database.\n",
        "  - OSM\n",
        "    - You should know how to access this data from previous practicals."
      ]
    },
    {
      "cell_type": "markdown",
      "metadata": {
        "id": "C0etneFRoDRx"
      },
      "source": [
        "Example ideas:\n",
        "\n",
        "- Are areas correlated in terms of census results? If so, find the areas that are leading change, and the ones that are following.\n",
        "- Which historical census variables used to predict election results in the past, but don't seem related anymore?\n",
        "- Census results are only updated once a decade, but new roads and houses are built every year. Can census results, for example those relating to travel, be predicted from basic map information, such as street networks?\n",
        "- Building new houses is our best way of tackling the housing crisis. Use the information on new builds in the house prices dataset to explore what factors drive new developments, and make predictions for where the next houses will be built.\n",
        "- House styles differ a lot between regions and inhabitants. Can you make any predictions about the house or area simply from looking at it's geometric shape and orientation?\n",
        "\n",
        "Note that the ideas are just a starting point question. You should include more in-depth investigations into the data, validate your findings where applicable, and prepare visualisations."
      ]
    },
    {
      "cell_type": "markdown",
      "metadata": {
        "id": "8lW1FTFyBFFr"
      },
      "source": [
        "## Title and description"
      ]
    },
    {
      "cell_type": "code",
      "execution_count": null,
      "metadata": {
        "id": "k225EcHeA_aV"
      },
      "outputs": [],
      "source": [
        "# TODO: title your miniproject"
      ]
    },
    {
      "cell_type": "code",
      "execution_count": null,
      "metadata": {
        "id": "gtVWDrKcBIVJ"
      },
      "outputs": [],
      "source": [
        "# TODO: provide a very brief description of the goals of your miniproject"
      ]
    },
    {
      "cell_type": "markdown",
      "metadata": {
        "id": "6UH7IY3aBml-"
      },
      "source": [
        "## TODO: Your Project Goes Here"
      ]
    },
    {
      "cell_type": "code",
      "execution_count": null,
      "metadata": {
        "id": "fBlEztj4ZqqN"
      },
      "outputs": [],
      "source": []
    },
    {
      "cell_type": "markdown",
      "metadata": {
        "id": "jjIIXwV2HYFT"
      },
      "source": [
        "## Conclusions\n",
        "\n",
        "The below code is for marking purpuses only, and not part of your project. It helps us gather the data we need without asking you for database credentials, and scouring github pages. This is mandatory. If the code does not work for you, let us know immediately."
      ]
    },
    {
      "cell_type": "markdown",
      "metadata": {
        "id": "9ccS8vrjHbh3"
      },
      "source": [
        "1) Please re-run the code from Practical 1 to help us see the contents of your database. We recommend you include all data sources there, but some smaller inputs are fine to use as files."
      ]
    },
    {
      "cell_type": "code",
      "execution_count": null,
      "metadata": {
        "id": "XNLYfO92HZ_G",
        "colab": {
          "base_uri": "https://localhost:8080/"
        },
        "outputId": "0ba55989-77b2-4206-a298-aef842c339e4"
      },
      "outputs": [
        {
          "output_type": "stream",
          "name": "stderr",
          "text": [
            "UsageError: Line magic function `%sql` not found.\n"
          ]
        }
      ],
      "source": [
        "tables = %sql SHOW TABLES;\n",
        "\n",
        "for row in tables:\n",
        "    table_name = row[0]\n",
        "    print(f\"\\nTable: {table_name}\")\n",
        "\n",
        "    table_status = %sql SHOW TABLE STATUS LIKE '{table_name}';\n",
        "    approx_row_count = table_status[0][4] if table_status else 'Unable to fetch row count'\n",
        "    print(\"\\nApprox Row Count:\", approx_row_count//100000/10, \"M\")\n",
        "\n",
        "    first_5_rows = %sql SELECT * FROM `{table_name}` LIMIT 5;\n",
        "    print(first_5_rows)\n",
        "\n",
        "    indices = %sql SHOW INDEX FROM `{table_name}`;\n",
        "    if indices:\n",
        "        print(\"\\nIndices:\")\n",
        "        for index in indices:\n",
        "            print(f\" - {index[2]} ({index[10]}): Column {index[4]}\")\n",
        "    else:\n",
        "        print(\"\\nNo indices set on this table.\")"
      ]
    },
    {
      "cell_type": "markdown",
      "metadata": {
        "id": "E8r6UgTsHmms"
      },
      "source": [
        "2) Please paste a link to your fynesse library below, and make sure it's publically accessible. Also run the code below, and make sure it worked, printing out the contents of your library."
      ]
    },
    {
      "cell_type": "code",
      "execution_count": null,
      "metadata": {
        "id": "CqbzdvzhJTMN"
      },
      "outputs": [],
      "source": [
        "fynesse_url = '<your-url-library-here>'"
      ]
    },
    {
      "cell_type": "code",
      "execution_count": null,
      "metadata": {
        "id": "2h-g3gEhHq0b"
      },
      "outputs": [],
      "source": [
        "import fynesse\n",
        "import os\n",
        "\n",
        "print('FYNESSE STRUCTURE:')\n",
        "package_path = os.path.dirname(fynesse.__file__)\n",
        "for root, dirs, files in os.walk(package_path):\n",
        "    level = root.replace(package_path, '').count(os.sep)\n",
        "    indent = ' ' * 4 * level\n",
        "    print(f\"{indent}{os.path.basename(root)}/\")\n",
        "    sub_indent = ' ' * 4 * (level + 1)\n",
        "    for f in files:\n",
        "        print(f\"{sub_indent}{f}\")\n",
        "\n",
        "print('FILE CONTENTS')\n",
        "for root, dirs, files in os.walk(package_path):\n",
        "    for file in files:\n",
        "        file_path = os.path.join(root, file)\n",
        "        print(f\"--- Contents of {file_path} ---\\n\")\n",
        "        try:\n",
        "            with open(file_path, \"r\", encoding=\"utf-8\") as f:\n",
        "                print(f.read())\n",
        "        except Exception as e:\n",
        "            print(f\"Could not read {file_path}: {e}\")\n",
        "        print(\"\\n\" + \"-\" * 50 + \"\\n\")"
      ]
    }
  ],
  "metadata": {
    "colab": {
      "provenance": [],
      "include_colab_link": true
    },
    "kernelspec": {
      "display_name": "Python 3",
      "name": "python3"
    },
    "language_info": {
      "name": "python"
    }
  },
  "nbformat": 4,
  "nbformat_minor": 0
}