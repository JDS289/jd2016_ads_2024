{
  "cells": [
    {
      "cell_type": "markdown",
      "metadata": {
        "id": "view-in-github",
        "colab_type": "text"
      },
      "source": [
        "<a href=\"https://colab.research.google.com/github/JDS289/jd2016_ads_2024/blob/main/ads_course_assessment.ipynb\" target=\"_parent\"><img src=\"https://colab.research.google.com/assets/colab-badge.svg\" alt=\"Open In Colab\"/></a>"
      ]
    },
    {
      "cell_type": "markdown",
      "metadata": {
        "id": "-tbzTphJeGlW"
      },
      "source": [
        "# Assessment for Advanced Data Science\n",
        "# *Data Pipelines*"
      ]
    },
    {
      "cell_type": "markdown",
      "metadata": {
        "id": "vVm3IV8eZPdE"
      },
      "source": [
        "## Radzim Sendyka, Christian Cabrera, Carl Henrik Ek and Neil D. Lawrence\n",
        "\n",
        "### 19 November 2024"
      ]
    },
    {
      "cell_type": "markdown",
      "metadata": {
        "id": "Evaf5gdVnE0s"
      },
      "source": [
        "Welcome to the course assessment for the Advanced Data Science unit. In this assessment, you will build two data pipelines and prediction systems.\n",
        "\n",
        "The maximum total mark for this assessment is 20. That mark is split into two miniprojects below.\n",
        "- The first miniproject is worth 7 marks.\n",
        "- The second miniproject is worth 13 marks.\n",
        "\n",
        "*The check Session for this Assessment is 03 December 2024.*"
      ]
    },
    {
      "cell_type": "markdown",
      "metadata": {
        "id": "R_gVPt8Nndjn"
      },
      "source": [
        "# Task 1 (7 marks)"
      ]
    },
    {
      "cell_type": "markdown",
      "metadata": {
        "id": "2yaFil7l34HD"
      },
      "source": [
        "This example project builds on your experience from the practicals, using Open Street Maps, and connecting them to real-world datasets.\n",
        "\n",
        "Your prediction system will be based on data from the 2021 UK Census, and Open Street Maps."
      ]
    },
    {
      "cell_type": "markdown",
      "metadata": {
        "id": "jVnzIgd3ZWt0"
      },
      "source": [
        "### Build a data pipeline and prediction system.\n",
        "\n",
        "Structure your system around the [Access-Assess-Address](https://inverseprobability.com/talks/notes/access-assess-address-a-pipeline-for-automated-data-science.html) framework for automated data science.\n",
        "Use the framework of [Data Readiness Levels](https://inverseprobability.com/publications/data-readiness-levels.html) to track the state of your datasets throughout the process.\n",
        "Visualise your data and predictions using appropriate charts and graphics.\n",
        "Remember, your notebook should tell a story.\n",
        "\n",
        "1.1. Download the data from online sources. In this task you will need:\n",
        "  - UK Census Data\n",
        "    - The UK Census data file for and Socio-economic Classification (NS SEC) [here](https://www.ons.gov.uk/datasets/TS062/editions/2021/versions/5) or [here](https://www.nomisweb.co.uk/sources/census_2021_bulk). Use the most detailed area type (Output Areas).\n",
        "    - One other UK Census data file of your choosing [here](https://www.ons.gov.uk/search?topics=9731,6646,3845,9497,4262,4128,7755,4994,6885,9724,7367&filter=datasets) or [here](https://www.nomisweb.co.uk/sources/census_2021_bulk). Use the most detailed area type available.\n",
        "    - Geographic coordinates of Census Output Areas [here](https://www.data.gov.uk/dataset/4d4e021d-fe98-4a0e-88e2-3ead84538537/output-areas-december-2021-boundaries-ew-bgc-v2).\n",
        "  - Spatial data\n",
        "    - Set up an API connection to Open Street Maps [here](https://osmnx.readthedocs.io/en/stable/). Optionally, to be able to use more data in training, you might want to also download the entire map for England (or more) [here](https://download.openstreetmap.fr/extracts/) or [here](https://wiki.openstreetmap.org/wiki/Planet.osm).\n",
        "\n",
        "1.2. Structure the data, and upload it to your AWS database.\n",
        "\n",
        "- Census datasets can be huge and unwieldy to manipulate directly in python frameworks such as pandas. As a result we will host the data in a relational database.\n",
        "\n",
        "- Using a cloud hosted database (such as MariaDB hosted on the AWS RDS service),  you will construct a database containing tables that contain per-output-area data, latitudes and longitudes of the output areas, and potentially, extracted selected open street maps features from the country-wide data file.\n",
        "\n",
        "- Make sure you set the correct indices on your data, which will allow your code to run much faster. Hint: create an index on any columns you will be looking up, and joint indices if your lookup involves multiple columns (like coordinates).\n",
        "\n",
        "You will likely find the following resources helpful.\n",
        "\n",
        "- Lecture 1, 2 and 3.\n",
        "- Lab class 1 and 2.\n",
        "\n",
        "\n",
        "- *Note, this particular dataset could probably be handled directly in pandas, but you are explicitly tasked with using a database. This is a compromise from previous iterations of this course, where students spent quite a lot of time struggling from the size of the data. This is an opportunity for you to demonstrate your skills, as well as prepare for the second part of the assessment where databases might be necessary. Approach that do not use databases where needed will be penalised during marking.*\n",
        "\n",
        "\n",
        "2.0. Explore the data.\n",
        "\n",
        "  - To make predictions you will augment your data with information obtained from Open Street Map: an open license source of mapping information. You will need to use the techniques you have learnt in the course to indentify and incorporate useful features for your prediction tasks.\n",
        "  - Look at the percentage of students (NS SEC code L15) in the individual output areas, and explore how it's related to various types of open street map features in those locations. Use the relationships you found to suggest the features to be used in a system that predicts percentage of students in a given area.\n",
        "  - Do the same for an additional census variable (e.g., the average age in a given area).\n",
        "\n",
        "3.0. Make a prediction system.\n",
        "- Use Open Street Maps to predict Socio-Economic Status - in particular, the percent of full time students, from OSM features. Your function should take as input a coordinate pair (you can assume it will be in England), and return an estimate for the share of students in that area.\n",
        "\n",
        "- Do the same for the additional census variable you selected in the previous step.\n",
        "\n",
        "Hints:\n",
        "\n",
        "  - *Some of the census data sheets are very detailed. You might want to try \"boiling them down\" to some aggregate value or selecting just the most important columns.*\n",
        "\n",
        "  - *This assignment is focused on data pipelines, rather than machine learning, so we do not expect any advanced architectures here - a linear model or similar is perfectly fine.*\n",
        "  \n",
        "  - *For data exploration, or picking your second dataset, you may find useful the [interactive map](https://www.ons.gov.uk/census/maps/) of the census data.*"
      ]
    },
    {
      "cell_type": "markdown",
      "metadata": {
        "id": "VAfdUurg4JhM"
      },
      "source": [
        "### Story.\n",
        "\n",
        "- Remember the notebook you create should tell a story, any code that is not critical to that story can safely be placed into the associated analysis library and imported for use (structured as given in the Fynesse template). Make sure your decisions are well substanciated and flow nicely throughout the notebook, with clear explanations.\n",
        "\n",
        "- Explain everything you do. Why is your question important, why you selected the datasets you did, why did you join them how you did, why did you look at the things you looked at.\n",
        "\n",
        "Make sure in your notebook you discuss the design decisions you made in your pipeline and prediction system. How did you structure your notebook? How did you track data readiness? Which aspects of your system could be improved further?\n",
        "\n",
        "Make sure you compare how you predict student population and your second chosen property. What differences are there, in the underlying data, process, and results?\n",
        "\n",
        "Make sure you discuss the reusability of your data pipeline and prediction system. What changes to the underlying data/system is it resilient to, and what isn't it? What work would need to be done to adjust it to answer questions about other statistics, or a different country, instead?"
      ]
    },
    {
      "cell_type": "markdown",
      "metadata": {
        "id": "VN8V5rhV4CNW"
      },
      "source": [
        "### Fynesse library.\n",
        "\n",
        "- Alongside your implementation you will provide a short repository overview describing how you have implemented the different parts of the project and where you have placed those parts in your code repository. You will submit your code alongside a version of this notebook that will allow your examiner to understand and reconstruct the thinking behind your analysis. This notebook is structured to help you in creating that description and allow you to understand how we will allocate the marks. You should make use of the Fynesse framework (https://github.com/lawrennd/fynesse_template) for structuring your code.\n",
        "\n",
        "- One artefact to be included in your submission is a python library structured according to the \"Access, Assess, Address\" standard for data science solutions. You will submit this library alongside your code. Use the cell below to perform the necessary installation instructions for your library.\n",
        "You should base your module on the template repository given by the Fynesse template repository. That should make it pip-installable as below.\n",
        "`%pip install git+https://github.com/lawrennd/fynesse_template.git`. You can either replace fynesse with the name you've given your analysis module or you can leave the name as fynesse if you prefer.\n",
        "\n",
        "- Remember the notebook you create should tell a story, any code that is not critical to that story can safely be placed into the associated analysis library and imported for use (structured as given in the Fynesse template). Remember to include you fynesse library in your submission."
      ]
    },
    {
      "cell_type": "markdown",
      "metadata": {
        "id": "s6_rVCxjnzLB"
      },
      "source": [
        "## Access"
      ]
    },
    {
      "cell_type": "code",
      "execution_count": 15,
      "metadata": {
        "collapsed": true,
        "id": "KjesIa7SoIYO",
        "colab": {
          "base_uri": "https://localhost:8080/"
        },
        "outputId": "30556f82-2cb0-4759-92ac-1934ba525629"
      },
      "outputs": [
        {
          "output_type": "stream",
          "name": "stdout",
          "text": [
            "Collecting git+https://github.com/JDS289/jd2016_ads_2024.git\n",
            "  Cloning https://github.com/JDS289/jd2016_ads_2024.git to /tmp/pip-req-build-8z5uy1uj\n",
            "  Running command git clone --filter=blob:none --quiet https://github.com/JDS289/jd2016_ads_2024.git /tmp/pip-req-build-8z5uy1uj\n",
            "  Resolved https://github.com/JDS289/jd2016_ads_2024.git to commit 3e3516e92e61e67dd2881ea5e664eb5d12734d57\n",
            "  Preparing metadata (setup.py) ... \u001b[?25l\u001b[?25hdone\n",
            "Requirement already satisfied: pandas in /usr/local/lib/python3.10/dist-packages (from fynesse==0.1.0) (2.2.2)\n",
            "Requirement already satisfied: numpy in /usr/local/lib/python3.10/dist-packages (from fynesse==0.1.0) (1.26.4)\n",
            "Requirement already satisfied: jupyter in /usr/local/lib/python3.10/dist-packages (from fynesse==0.1.0) (1.1.1)\n",
            "Requirement already satisfied: matplotlib in /usr/local/lib/python3.10/dist-packages (from fynesse==0.1.0) (3.8.0)\n",
            "Requirement already satisfied: pymysql in /usr/local/lib/python3.10/dist-packages (from fynesse==0.1.0) (1.1.1)\n",
            "Requirement already satisfied: osmnx in /usr/local/lib/python3.10/dist-packages (from fynesse==0.1.0) (2.0.0)\n",
            "Requirement already satisfied: notebook in /usr/local/lib/python3.10/dist-packages (from jupyter->fynesse==0.1.0) (6.5.5)\n",
            "Requirement already satisfied: jupyter-console in /usr/local/lib/python3.10/dist-packages (from jupyter->fynesse==0.1.0) (6.1.0)\n",
            "Requirement already satisfied: nbconvert in /usr/local/lib/python3.10/dist-packages (from jupyter->fynesse==0.1.0) (7.16.4)\n",
            "Requirement already satisfied: ipykernel in /usr/local/lib/python3.10/dist-packages (from jupyter->fynesse==0.1.0) (6.29.5)\n",
            "Requirement already satisfied: ipywidgets in /usr/local/lib/python3.10/dist-packages (from jupyter->fynesse==0.1.0) (7.7.1)\n",
            "Requirement already satisfied: jupyterlab in /usr/local/lib/python3.10/dist-packages (from jupyter->fynesse==0.1.0) (4.3.1)\n",
            "Requirement already satisfied: contourpy>=1.0.1 in /usr/local/lib/python3.10/dist-packages (from matplotlib->fynesse==0.1.0) (1.3.1)\n",
            "Requirement already satisfied: cycler>=0.10 in /usr/local/lib/python3.10/dist-packages (from matplotlib->fynesse==0.1.0) (0.12.1)\n",
            "Requirement already satisfied: fonttools>=4.22.0 in /usr/local/lib/python3.10/dist-packages (from matplotlib->fynesse==0.1.0) (4.55.0)\n",
            "Requirement already satisfied: kiwisolver>=1.0.1 in /usr/local/lib/python3.10/dist-packages (from matplotlib->fynesse==0.1.0) (1.4.7)\n",
            "Requirement already satisfied: packaging>=20.0 in /usr/local/lib/python3.10/dist-packages (from matplotlib->fynesse==0.1.0) (24.2)\n",
            "Requirement already satisfied: pillow>=6.2.0 in /usr/local/lib/python3.10/dist-packages (from matplotlib->fynesse==0.1.0) (11.0.0)\n",
            "Requirement already satisfied: pyparsing>=2.3.1 in /usr/local/lib/python3.10/dist-packages (from matplotlib->fynesse==0.1.0) (3.2.0)\n",
            "Requirement already satisfied: python-dateutil>=2.7 in /usr/local/lib/python3.10/dist-packages (from matplotlib->fynesse==0.1.0) (2.8.2)\n",
            "Requirement already satisfied: geopandas>=1.0 in /usr/local/lib/python3.10/dist-packages (from osmnx->fynesse==0.1.0) (1.0.1)\n",
            "Requirement already satisfied: networkx>=2.5 in /usr/local/lib/python3.10/dist-packages (from osmnx->fynesse==0.1.0) (3.4.2)\n",
            "Requirement already satisfied: requests>=2.27 in /usr/local/lib/python3.10/dist-packages (from osmnx->fynesse==0.1.0) (2.32.3)\n",
            "Requirement already satisfied: shapely>=2.0 in /usr/local/lib/python3.10/dist-packages (from osmnx->fynesse==0.1.0) (2.0.6)\n",
            "Requirement already satisfied: pytz>=2020.1 in /usr/local/lib/python3.10/dist-packages (from pandas->fynesse==0.1.0) (2024.2)\n",
            "Requirement already satisfied: tzdata>=2022.7 in /usr/local/lib/python3.10/dist-packages (from pandas->fynesse==0.1.0) (2024.2)\n",
            "Requirement already satisfied: pyogrio>=0.7.2 in /usr/local/lib/python3.10/dist-packages (from geopandas>=1.0->osmnx->fynesse==0.1.0) (0.10.0)\n",
            "Requirement already satisfied: pyproj>=3.3.0 in /usr/local/lib/python3.10/dist-packages (from geopandas>=1.0->osmnx->fynesse==0.1.0) (3.7.0)\n",
            "Requirement already satisfied: six>=1.5 in /usr/local/lib/python3.10/dist-packages (from python-dateutil>=2.7->matplotlib->fynesse==0.1.0) (1.16.0)\n",
            "Requirement already satisfied: charset-normalizer<4,>=2 in /usr/local/lib/python3.10/dist-packages (from requests>=2.27->osmnx->fynesse==0.1.0) (3.4.0)\n",
            "Requirement already satisfied: idna<4,>=2.5 in /usr/local/lib/python3.10/dist-packages (from requests>=2.27->osmnx->fynesse==0.1.0) (3.10)\n",
            "Requirement already satisfied: urllib3<3,>=1.21.1 in /usr/local/lib/python3.10/dist-packages (from requests>=2.27->osmnx->fynesse==0.1.0) (2.2.3)\n",
            "Requirement already satisfied: certifi>=2017.4.17 in /usr/local/lib/python3.10/dist-packages (from requests>=2.27->osmnx->fynesse==0.1.0) (2024.8.30)\n",
            "Requirement already satisfied: comm>=0.1.1 in /usr/local/lib/python3.10/dist-packages (from ipykernel->jupyter->fynesse==0.1.0) (0.2.2)\n",
            "Requirement already satisfied: debugpy>=1.6.5 in /usr/local/lib/python3.10/dist-packages (from ipykernel->jupyter->fynesse==0.1.0) (1.8.0)\n",
            "Requirement already satisfied: ipython>=7.23.1 in /usr/local/lib/python3.10/dist-packages (from ipykernel->jupyter->fynesse==0.1.0) (7.34.0)\n",
            "Requirement already satisfied: jupyter-client>=6.1.12 in /usr/local/lib/python3.10/dist-packages (from ipykernel->jupyter->fynesse==0.1.0) (7.4.9)\n",
            "Requirement already satisfied: jupyter-core!=5.0.*,>=4.12 in /usr/local/lib/python3.10/dist-packages (from ipykernel->jupyter->fynesse==0.1.0) (5.7.2)\n",
            "Requirement already satisfied: matplotlib-inline>=0.1 in /usr/local/lib/python3.10/dist-packages (from ipykernel->jupyter->fynesse==0.1.0) (0.1.7)\n",
            "Requirement already satisfied: nest-asyncio in /usr/local/lib/python3.10/dist-packages (from ipykernel->jupyter->fynesse==0.1.0) (1.6.0)\n",
            "Requirement already satisfied: psutil in /usr/local/lib/python3.10/dist-packages (from ipykernel->jupyter->fynesse==0.1.0) (5.9.5)\n",
            "Requirement already satisfied: pyzmq>=24 in /usr/local/lib/python3.10/dist-packages (from ipykernel->jupyter->fynesse==0.1.0) (24.0.1)\n",
            "Requirement already satisfied: tornado>=6.1 in /usr/local/lib/python3.10/dist-packages (from ipykernel->jupyter->fynesse==0.1.0) (6.3.3)\n",
            "Requirement already satisfied: traitlets>=5.4.0 in /usr/local/lib/python3.10/dist-packages (from ipykernel->jupyter->fynesse==0.1.0) (5.7.1)\n",
            "Requirement already satisfied: ipython-genutils~=0.2.0 in /usr/local/lib/python3.10/dist-packages (from ipywidgets->jupyter->fynesse==0.1.0) (0.2.0)\n",
            "Requirement already satisfied: widgetsnbextension~=3.6.0 in /usr/local/lib/python3.10/dist-packages (from ipywidgets->jupyter->fynesse==0.1.0) (3.6.10)\n",
            "Requirement already satisfied: jupyterlab-widgets>=1.0.0 in /usr/local/lib/python3.10/dist-packages (from ipywidgets->jupyter->fynesse==0.1.0) (3.0.13)\n",
            "Requirement already satisfied: prompt-toolkit!=3.0.0,!=3.0.1,<3.1.0,>=2.0.0 in /usr/local/lib/python3.10/dist-packages (from jupyter-console->jupyter->fynesse==0.1.0) (3.0.48)\n",
            "Requirement already satisfied: pygments in /usr/local/lib/python3.10/dist-packages (from jupyter-console->jupyter->fynesse==0.1.0) (2.18.0)\n",
            "Requirement already satisfied: async-lru>=1.0.0 in /usr/local/lib/python3.10/dist-packages (from jupyterlab->jupyter->fynesse==0.1.0) (2.0.4)\n",
            "Requirement already satisfied: httpx>=0.25.0 in /usr/local/lib/python3.10/dist-packages (from jupyterlab->jupyter->fynesse==0.1.0) (0.27.2)\n",
            "Requirement already satisfied: jinja2>=3.0.3 in /usr/local/lib/python3.10/dist-packages (from jupyterlab->jupyter->fynesse==0.1.0) (3.1.4)\n",
            "Requirement already satisfied: jupyter-lsp>=2.0.0 in /usr/local/lib/python3.10/dist-packages (from jupyterlab->jupyter->fynesse==0.1.0) (2.2.5)\n",
            "Requirement already satisfied: jupyter-server<3,>=2.4.0 in /usr/local/lib/python3.10/dist-packages (from jupyterlab->jupyter->fynesse==0.1.0) (2.14.2)\n",
            "Requirement already satisfied: jupyterlab-server<3,>=2.27.1 in /usr/local/lib/python3.10/dist-packages (from jupyterlab->jupyter->fynesse==0.1.0) (2.27.3)\n",
            "Requirement already satisfied: notebook-shim>=0.2 in /usr/local/lib/python3.10/dist-packages (from jupyterlab->jupyter->fynesse==0.1.0) (0.2.4)\n",
            "Requirement already satisfied: setuptools>=40.1.0 in /usr/local/lib/python3.10/dist-packages (from jupyterlab->jupyter->fynesse==0.1.0) (75.1.0)\n",
            "Requirement already satisfied: tomli>=1.2.2 in /usr/local/lib/python3.10/dist-packages (from jupyterlab->jupyter->fynesse==0.1.0) (2.1.0)\n",
            "Requirement already satisfied: beautifulsoup4 in /usr/local/lib/python3.10/dist-packages (from nbconvert->jupyter->fynesse==0.1.0) (4.12.3)\n",
            "Requirement already satisfied: bleach!=5.0.0 in /usr/local/lib/python3.10/dist-packages (from nbconvert->jupyter->fynesse==0.1.0) (6.2.0)\n",
            "Requirement already satisfied: defusedxml in /usr/local/lib/python3.10/dist-packages (from nbconvert->jupyter->fynesse==0.1.0) (0.7.1)\n",
            "Requirement already satisfied: jupyterlab-pygments in /usr/local/lib/python3.10/dist-packages (from nbconvert->jupyter->fynesse==0.1.0) (0.3.0)\n",
            "Requirement already satisfied: markupsafe>=2.0 in /usr/local/lib/python3.10/dist-packages (from nbconvert->jupyter->fynesse==0.1.0) (3.0.2)\n",
            "Requirement already satisfied: mistune<4,>=2.0.3 in /usr/local/lib/python3.10/dist-packages (from nbconvert->jupyter->fynesse==0.1.0) (3.0.2)\n",
            "Requirement already satisfied: nbclient>=0.5.0 in /usr/local/lib/python3.10/dist-packages (from nbconvert->jupyter->fynesse==0.1.0) (0.10.0)\n",
            "Requirement already satisfied: nbformat>=5.7 in /usr/local/lib/python3.10/dist-packages (from nbconvert->jupyter->fynesse==0.1.0) (5.10.4)\n",
            "Requirement already satisfied: pandocfilters>=1.4.1 in /usr/local/lib/python3.10/dist-packages (from nbconvert->jupyter->fynesse==0.1.0) (1.5.1)\n",
            "Requirement already satisfied: tinycss2 in /usr/local/lib/python3.10/dist-packages (from nbconvert->jupyter->fynesse==0.1.0) (1.4.0)\n",
            "Requirement already satisfied: argon2-cffi in /usr/local/lib/python3.10/dist-packages (from notebook->jupyter->fynesse==0.1.0) (23.1.0)\n",
            "Requirement already satisfied: Send2Trash>=1.8.0 in /usr/local/lib/python3.10/dist-packages (from notebook->jupyter->fynesse==0.1.0) (1.8.3)\n",
            "Requirement already satisfied: terminado>=0.8.3 in /usr/local/lib/python3.10/dist-packages (from notebook->jupyter->fynesse==0.1.0) (0.18.1)\n",
            "Requirement already satisfied: prometheus-client in /usr/local/lib/python3.10/dist-packages (from notebook->jupyter->fynesse==0.1.0) (0.21.0)\n",
            "Requirement already satisfied: nbclassic>=0.4.7 in /usr/local/lib/python3.10/dist-packages (from notebook->jupyter->fynesse==0.1.0) (1.1.0)\n",
            "Requirement already satisfied: typing-extensions>=4.0.0 in /usr/local/lib/python3.10/dist-packages (from async-lru>=1.0.0->jupyterlab->jupyter->fynesse==0.1.0) (4.12.2)\n",
            "Requirement already satisfied: webencodings in /usr/local/lib/python3.10/dist-packages (from bleach!=5.0.0->nbconvert->jupyter->fynesse==0.1.0) (0.5.1)\n",
            "Requirement already satisfied: anyio in /usr/local/lib/python3.10/dist-packages (from httpx>=0.25.0->jupyterlab->jupyter->fynesse==0.1.0) (3.7.1)\n",
            "Requirement already satisfied: httpcore==1.* in /usr/local/lib/python3.10/dist-packages (from httpx>=0.25.0->jupyterlab->jupyter->fynesse==0.1.0) (1.0.7)\n",
            "Requirement already satisfied: sniffio in /usr/local/lib/python3.10/dist-packages (from httpx>=0.25.0->jupyterlab->jupyter->fynesse==0.1.0) (1.3.1)\n",
            "Requirement already satisfied: h11<0.15,>=0.13 in /usr/local/lib/python3.10/dist-packages (from httpcore==1.*->httpx>=0.25.0->jupyterlab->jupyter->fynesse==0.1.0) (0.14.0)\n",
            "Requirement already satisfied: jedi>=0.16 in /usr/local/lib/python3.10/dist-packages (from ipython>=7.23.1->ipykernel->jupyter->fynesse==0.1.0) (0.19.2)\n",
            "Requirement already satisfied: decorator in /usr/local/lib/python3.10/dist-packages (from ipython>=7.23.1->ipykernel->jupyter->fynesse==0.1.0) (4.4.2)\n",
            "Requirement already satisfied: pickleshare in /usr/local/lib/python3.10/dist-packages (from ipython>=7.23.1->ipykernel->jupyter->fynesse==0.1.0) (0.7.5)\n",
            "Requirement already satisfied: backcall in /usr/local/lib/python3.10/dist-packages (from ipython>=7.23.1->ipykernel->jupyter->fynesse==0.1.0) (0.2.0)\n",
            "Requirement already satisfied: pexpect>4.3 in /usr/local/lib/python3.10/dist-packages (from ipython>=7.23.1->ipykernel->jupyter->fynesse==0.1.0) (4.9.0)\n",
            "Requirement already satisfied: entrypoints in /usr/local/lib/python3.10/dist-packages (from jupyter-client>=6.1.12->ipykernel->jupyter->fynesse==0.1.0) (0.4)\n",
            "Requirement already satisfied: platformdirs>=2.5 in /usr/local/lib/python3.10/dist-packages (from jupyter-core!=5.0.*,>=4.12->ipykernel->jupyter->fynesse==0.1.0) (4.3.6)\n",
            "Requirement already satisfied: jupyter-events>=0.9.0 in /usr/local/lib/python3.10/dist-packages (from jupyter-server<3,>=2.4.0->jupyterlab->jupyter->fynesse==0.1.0) (0.10.0)\n",
            "Requirement already satisfied: jupyter-server-terminals>=0.4.4 in /usr/local/lib/python3.10/dist-packages (from jupyter-server<3,>=2.4.0->jupyterlab->jupyter->fynesse==0.1.0) (0.5.3)\n",
            "Requirement already satisfied: overrides>=5.0 in /usr/local/lib/python3.10/dist-packages (from jupyter-server<3,>=2.4.0->jupyterlab->jupyter->fynesse==0.1.0) (7.7.0)\n",
            "Requirement already satisfied: websocket-client>=1.7 in /usr/local/lib/python3.10/dist-packages (from jupyter-server<3,>=2.4.0->jupyterlab->jupyter->fynesse==0.1.0) (1.8.0)\n",
            "Requirement already satisfied: argon2-cffi-bindings in /usr/local/lib/python3.10/dist-packages (from argon2-cffi->notebook->jupyter->fynesse==0.1.0) (21.2.0)\n",
            "Requirement already satisfied: babel>=2.10 in /usr/local/lib/python3.10/dist-packages (from jupyterlab-server<3,>=2.27.1->jupyterlab->jupyter->fynesse==0.1.0) (2.16.0)\n",
            "Requirement already satisfied: json5>=0.9.0 in /usr/local/lib/python3.10/dist-packages (from jupyterlab-server<3,>=2.27.1->jupyterlab->jupyter->fynesse==0.1.0) (0.10.0)\n",
            "Requirement already satisfied: jsonschema>=4.18.0 in /usr/local/lib/python3.10/dist-packages (from jupyterlab-server<3,>=2.27.1->jupyterlab->jupyter->fynesse==0.1.0) (4.23.0)\n",
            "Requirement already satisfied: fastjsonschema>=2.15 in /usr/local/lib/python3.10/dist-packages (from nbformat>=5.7->nbconvert->jupyter->fynesse==0.1.0) (2.20.0)\n",
            "Requirement already satisfied: wcwidth in /usr/local/lib/python3.10/dist-packages (from prompt-toolkit!=3.0.0,!=3.0.1,<3.1.0,>=2.0.0->jupyter-console->jupyter->fynesse==0.1.0) (0.2.13)\n",
            "Requirement already satisfied: ptyprocess in /usr/local/lib/python3.10/dist-packages (from terminado>=0.8.3->notebook->jupyter->fynesse==0.1.0) (0.7.0)\n",
            "Requirement already satisfied: soupsieve>1.2 in /usr/local/lib/python3.10/dist-packages (from beautifulsoup4->nbconvert->jupyter->fynesse==0.1.0) (2.6)\n",
            "Requirement already satisfied: exceptiongroup in /usr/local/lib/python3.10/dist-packages (from anyio->httpx>=0.25.0->jupyterlab->jupyter->fynesse==0.1.0) (1.2.2)\n",
            "Requirement already satisfied: parso<0.9.0,>=0.8.4 in /usr/local/lib/python3.10/dist-packages (from jedi>=0.16->ipython>=7.23.1->ipykernel->jupyter->fynesse==0.1.0) (0.8.4)\n",
            "Requirement already satisfied: attrs>=22.2.0 in /usr/local/lib/python3.10/dist-packages (from jsonschema>=4.18.0->jupyterlab-server<3,>=2.27.1->jupyterlab->jupyter->fynesse==0.1.0) (24.2.0)\n",
            "Requirement already satisfied: jsonschema-specifications>=2023.03.6 in /usr/local/lib/python3.10/dist-packages (from jsonschema>=4.18.0->jupyterlab-server<3,>=2.27.1->jupyterlab->jupyter->fynesse==0.1.0) (2024.10.1)\n",
            "Requirement already satisfied: referencing>=0.28.4 in /usr/local/lib/python3.10/dist-packages (from jsonschema>=4.18.0->jupyterlab-server<3,>=2.27.1->jupyterlab->jupyter->fynesse==0.1.0) (0.35.1)\n",
            "Requirement already satisfied: rpds-py>=0.7.1 in /usr/local/lib/python3.10/dist-packages (from jsonschema>=4.18.0->jupyterlab-server<3,>=2.27.1->jupyterlab->jupyter->fynesse==0.1.0) (0.21.0)\n",
            "Requirement already satisfied: python-json-logger>=2.0.4 in /usr/local/lib/python3.10/dist-packages (from jupyter-events>=0.9.0->jupyter-server<3,>=2.4.0->jupyterlab->jupyter->fynesse==0.1.0) (2.0.7)\n",
            "Requirement already satisfied: pyyaml>=5.3 in /usr/local/lib/python3.10/dist-packages (from jupyter-events>=0.9.0->jupyter-server<3,>=2.4.0->jupyterlab->jupyter->fynesse==0.1.0) (6.0.2)\n",
            "Requirement already satisfied: rfc3339-validator in /usr/local/lib/python3.10/dist-packages (from jupyter-events>=0.9.0->jupyter-server<3,>=2.4.0->jupyterlab->jupyter->fynesse==0.1.0) (0.1.4)\n",
            "Requirement already satisfied: rfc3986-validator>=0.1.1 in /usr/local/lib/python3.10/dist-packages (from jupyter-events>=0.9.0->jupyter-server<3,>=2.4.0->jupyterlab->jupyter->fynesse==0.1.0) (0.1.1)\n",
            "Requirement already satisfied: cffi>=1.0.1 in /usr/local/lib/python3.10/dist-packages (from argon2-cffi-bindings->argon2-cffi->notebook->jupyter->fynesse==0.1.0) (1.17.1)\n",
            "Requirement already satisfied: pycparser in /usr/local/lib/python3.10/dist-packages (from cffi>=1.0.1->argon2-cffi-bindings->argon2-cffi->notebook->jupyter->fynesse==0.1.0) (2.22)\n",
            "Requirement already satisfied: fqdn in /usr/local/lib/python3.10/dist-packages (from jsonschema[format-nongpl]>=4.18.0->jupyter-events>=0.9.0->jupyter-server<3,>=2.4.0->jupyterlab->jupyter->fynesse==0.1.0) (1.5.1)\n",
            "Requirement already satisfied: isoduration in /usr/local/lib/python3.10/dist-packages (from jsonschema[format-nongpl]>=4.18.0->jupyter-events>=0.9.0->jupyter-server<3,>=2.4.0->jupyterlab->jupyter->fynesse==0.1.0) (20.11.0)\n",
            "Requirement already satisfied: jsonpointer>1.13 in /usr/local/lib/python3.10/dist-packages (from jsonschema[format-nongpl]>=4.18.0->jupyter-events>=0.9.0->jupyter-server<3,>=2.4.0->jupyterlab->jupyter->fynesse==0.1.0) (3.0.0)\n",
            "Requirement already satisfied: uri-template in /usr/local/lib/python3.10/dist-packages (from jsonschema[format-nongpl]>=4.18.0->jupyter-events>=0.9.0->jupyter-server<3,>=2.4.0->jupyterlab->jupyter->fynesse==0.1.0) (1.3.0)\n",
            "Requirement already satisfied: webcolors>=24.6.0 in /usr/local/lib/python3.10/dist-packages (from jsonschema[format-nongpl]>=4.18.0->jupyter-events>=0.9.0->jupyter-server<3,>=2.4.0->jupyterlab->jupyter->fynesse==0.1.0) (24.11.1)\n",
            "Requirement already satisfied: arrow>=0.15.0 in /usr/local/lib/python3.10/dist-packages (from isoduration->jsonschema[format-nongpl]>=4.18.0->jupyter-events>=0.9.0->jupyter-server<3,>=2.4.0->jupyterlab->jupyter->fynesse==0.1.0) (1.3.0)\n",
            "Requirement already satisfied: types-python-dateutil>=2.8.10 in /usr/local/lib/python3.10/dist-packages (from arrow>=0.15.0->isoduration->jsonschema[format-nongpl]>=4.18.0->jupyter-events>=0.9.0->jupyter-server<3,>=2.4.0->jupyterlab->jupyter->fynesse==0.1.0) (2.9.0.20241003)\n"
          ]
        }
      ],
      "source": [
        "#%pip uninstall fynesse -y\n",
        "%pip install git+https://github.com/JDS289/jd2016_ads_2024.git"
      ]
    },
    {
      "cell_type": "code",
      "execution_count": 16,
      "metadata": {
        "id": "3x_sHEuXn08a"
      },
      "outputs": [],
      "source": [
        "import pandas as pd\n",
        "import numpy as np\n",
        "import osmnx as ox\n",
        "import requests\n",
        "import os\n",
        "import pandas as pd\n",
        "import fynesse"
      ]
    },
    {
      "cell_type": "code",
      "execution_count": 17,
      "metadata": {
        "colab": {
          "base_uri": "https://localhost:8080/"
        },
        "id": "zb4p6V8_376U",
        "outputId": "d3139787-b977-4aa5-ab9c-36e84b7d5ae7"
      },
      "outputs": [
        {
          "output_type": "stream",
          "name": "stdout",
          "text": [
            "Connection established!\n"
          ]
        }
      ],
      "source": [
        "conn = fynesse.access.create_connection(\"admin\", \"ayT2adBkqim\", \"database-ads-jd2016.cgrre17yxw11.eu-west-2.rds.amazonaws.com\", \"ads_2024\")"
      ]
    },
    {
      "cell_type": "code",
      "execution_count": 18,
      "metadata": {
        "id": "Y2cTv6jifgim"
      },
      "outputs": [],
      "source": [
        "cur = conn.cursor()"
      ]
    },
    {
      "cell_type": "code",
      "execution_count": 19,
      "metadata": {
        "colab": {
          "base_uri": "https://localhost:8080/"
        },
        "id": "mBwpJqJT6m6J",
        "outputId": "75ab48de-5027-44c0-b81f-d8ac0b0f0358"
      },
      "outputs": [
        {
          "output_type": "stream",
          "name": "stdout",
          "text": [
            "('E00000001', 159, 80, 38, 13, 9, 3, 5, 5, 4, 2, Decimal('0.0126'))\n",
            "('E00000003', 222, 96, 58, 8, 26, 2, 5, 2, 5, 20, Decimal('0.0901'))\n",
            "('E00000005', 103, 37, 28, 8, 21, 0, 3, 1, 1, 4, Decimal('0.0388'))\n",
            "('E00000007', 140, 62, 39, 5, 11, 3, 3, 1, 6, 10, Decimal('0.0714'))\n",
            "('E00000010', 170, 34, 45, 17, 27, 7, 10, 14, 11, 5, Decimal('0.0294'))\n"
          ]
        }
      ],
      "source": [
        "cur.execute(\"SELECT *, (l15 / total) FROM `census2021_ts062_oa` LIMIT 5;\")\n",
        "\n",
        "print(*cur.fetchall(), sep=\"\\n\")"
      ]
    },
    {
      "cell_type": "code",
      "execution_count": 20,
      "metadata": {
        "id": "HdIZMcfTNopG"
      },
      "outputs": [],
      "source": [
        "# To access OSM data, I downloaded united_kingdom-latest.osm.pbf from https://download.openstreetmap.fr/extracts/europe,\n",
        "# then decompressed to .osm using Osmosis (https://wiki.openstreetmap.org/wiki/Osmosis)."
      ]
    },
    {
      "cell_type": "code",
      "execution_count": 97,
      "metadata": {
        "id": "VscFvIFkIPgo"
      },
      "outputs": [],
      "source": [
        "import json\n",
        "\n",
        "with open('OA_boundaries.geojson') as f:\n",
        "    d = json.load(f)"
      ]
    },
    {
      "cell_type": "code",
      "source": [
        "for key, value in list(d.items())[:2]:\n",
        "  print(f\"{key}: {value}\")"
      ],
      "metadata": {
        "id": "wdqo6anaPdI4",
        "colab": {
          "base_uri": "https://localhost:8080/"
        },
        "outputId": "1a4df08a-03c2-470d-b421-3566e48fa9e9"
      },
      "execution_count": 22,
      "outputs": [
        {
          "output_type": "stream",
          "name": "stdout",
          "text": [
            "type: FeatureCollection\n",
            "crs: {'type': 'name', 'properties': {'name': 'EPSG:27700'}}\n"
          ]
        }
      ]
    },
    {
      "cell_type": "code",
      "source": [
        "print(len(list(d.values())[2]))"
      ],
      "metadata": {
        "id": "SdBjeH2rSzIY",
        "colab": {
          "base_uri": "https://localhost:8080/"
        },
        "outputId": "4cc69b08-92b5-4aab-bd84-3a7ab102b835"
      },
      "execution_count": 23,
      "outputs": [
        {
          "output_type": "stream",
          "name": "stdout",
          "text": [
            "188880\n"
          ]
        }
      ]
    },
    {
      "cell_type": "code",
      "source": [
        "key = list(d.keys())[2]  # this is the key of BASICALLY ALL the data in d.\n",
        "\n",
        "feature_dict = list(d.values())[2][0]  # This returns all of the first Output Area, I believe.\n",
        "\n",
        "def format_pair(pair):\n",
        "    key, value = pair\n",
        "    return f\"{key}: {value}\"\n",
        "\n",
        "print(f\"{key}:\")\n",
        "print(\"    \" + \"\\n    \".join(map(format_pair, list(feature_dict.items()))))\n",
        "print(\"    .\\n\"*3)"
      ],
      "metadata": {
        "id": "nVDsBo0lP2lO",
        "colab": {
          "base_uri": "https://localhost:8080/"
        },
        "outputId": "e95d5093-466d-4210-d4a2-1be6a1506bb7"
      },
      "execution_count": 24,
      "outputs": [
        {
          "output_type": "stream",
          "name": "stdout",
          "text": [
            "features:\n",
            "    type: Feature\n",
            "    id: 1\n",
            "    geometry: {'type': 'Polygon', 'coordinates': [[[532303.492, 181814.109999999], [532213.378, 181846.192], [532194.899, 181874.263], [532162.9718, 181864.0088], [532162.491, 181867.763], [532248.3944, 181895.350199999], [532282.63, 181906.495999999], [532308.875, 181914.797], [532303.492, 181814.109999999]]]}\n",
            "    properties: {'FID': 1, 'OA21CD': 'E00000001', 'LSOA21CD': 'E01000001', 'LSOA21NM': 'City of London 001A', 'LSOA21NMW': ' ', 'BNG_E': 532250, 'BNG_N': 181864, 'LAT': 51.52022, 'LONG': -0.09523, 'GlobalID': '3a44dd3d-5082-4a09-9b9c-3a5fadc811ed'}\n",
            "    .\n",
            "    .\n",
            "    .\n",
            "\n"
          ]
        }
      ]
    },
    {
      "cell_type": "code",
      "source": [
        "from pyproj import Transformer\n",
        "transformer = Transformer.from_crs(\"epsg:27700\", \"epsg:4326\", always_xy=True)"
      ],
      "metadata": {
        "id": "WBIcBl-8f6q8"
      },
      "execution_count": 98,
      "outputs": []
    },
    {
      "cell_type": "code",
      "source": [
        "def EsNs_to_LatLng(eastings, northings):  # this also rounds a tiny amount - my quick calculations suggest this loses < 5cm\n",
        "    latLng = transformer.transform(eastings, northings)\n",
        "    return [round(latLng[1], 6), round(latLng[0], 6)]"
      ],
      "metadata": {
        "id": "fwLpwHZWhNc-"
      },
      "execution_count": 99,
      "outputs": []
    },
    {
      "cell_type": "code",
      "source": [
        "all_polygons = []\n",
        "\n",
        "counter = 0\n",
        "for oa in list(d.values())[2]:\n",
        "  if oa['geometry']['type'] == 'Polygon':\n",
        "    oa['geometry']['coordinates'] = list(map(lambda ring: list(map(lambda pair: EsNs_to_LatLng(*pair), ring)), oa['geometry']['coordinates']))\n",
        "  elif oa['geometry']['type'] == 'MultiPolygon':\n",
        "    oa['geometry']['coordinates'] = list(map(lambda poly: list(map(lambda ring: list(map(lambda pair: EsNs_to_LatLng(*pair), ring)), poly)),\n",
        "                                             oa['geometry']['coordinates']))\n",
        "\n",
        "# remember polygons can contain \"holes\" (this is where len(coordinates) > 1; in most cases it's just \"[[[..], ..., [..]]]\")"
      ],
      "metadata": {
        "id": "IAsz6W3wbkrH"
      },
      "execution_count": 100,
      "outputs": []
    },
    {
      "cell_type": "code",
      "source": [
        "print(*list(d.values())[2][:100], sep=\"\\n\")"
      ],
      "metadata": {
        "colab": {
          "base_uri": "https://localhost:8080/"
        },
        "id": "1RWT6M-2kGha",
        "outputId": "e3ba1b6d-f7b1-418f-88fa-f6139dfc486c"
      },
      "execution_count": 96,
      "outputs": [
        {
          "output_type": "stream",
          "name": "stdout",
          "text": [
            "{'type': 'Feature', 'id': 1, 'geometry': {'type': 'Polygon', 'coordinates': [[[51.519759236182225, -0.0945046659131744], [51.520068620297565, -0.09579068012362382], [51.52032520041439, -0.09604634037002796], [51.52024051577723, -0.09651008143147413], [51.52027436516585, -0.09651560043365989], [51.52050218874993, -0.095267853957871], [51.52059434063126, -0.09477052190069765], [51.52066279578679, -0.09438935727348226], [51.519759236182225, -0.0945046659131744]]]}, 'properties': {'FID': 1, 'OA21CD': 'E00000001', 'LSOA21CD': 'E01000001', 'LSOA21NM': 'City of London 001A', 'LSOA21NMW': ' ', 'BNG_E': 532250, 'BNG_N': 181864, 'LAT': 51.52022, 'LONG': -0.09523, 'GlobalID': '3a44dd3d-5082-4a09-9b9c-3a5fadc811ed'}}\n",
            "{'type': 'Feature', 'id': 2, 'geometry': {'type': 'Polygon', 'coordinates': [[[51.520068620297565, -0.09579068012362382], [51.51962346204504, -0.09613844995910564], [51.51932897182211, -0.09630075548097289], [51.51971799687421, -0.0966336727951943], [51.51967924809395, -0.09704767716817984], [51.52024051577723, -0.09651008143147413], [51.52032520041439, -0.09604634037002796], [51.520068620297565, -0.09579068012362382]]]}, 'properties': {'FID': 2, 'OA21CD': 'E00000003', 'LSOA21CD': 'E01000001', 'LSOA21NM': 'City of London 001A', 'LSOA21NMW': ' ', 'BNG_E': 532171, 'BNG_N': 181819, 'LAT': 51.51983, 'LONG': -0.09638, 'GlobalID': 'f1216dc8-14d1-4857-9230-cab0641758fb'}}\n",
            "{'type': 'Feature', 'id': 3, 'geometry': {'type': 'Polygon', 'coordinates': [[[51.51932897182211, -0.09630075548097289], [51.51878891640098, -0.0957607021083751], [51.51847174775679, -0.09603149106362262], [51.51861999866879, -0.09713475405538359], [51.51967924809395, -0.09704767716817984], [51.51971799687421, -0.0966336727951943], [51.51932897182211, -0.09630075548097289]]]}, 'properties': {'FID': 3, 'OA21CD': 'E00000005', 'LSOA21CD': 'E01000001', 'LSOA21NM': 'City of London 001A', 'LSOA21NMW': ' ', 'BNG_E': 532166, 'BNG_N': 181722, 'LAT': 51.51896, 'LONG': -0.09649, 'GlobalID': '44d6f70f-549c-4288-9b6d-de2adbf02582'}}\n",
            "{'type': 'Feature', 'id': 4, 'geometry': {'type': 'Polygon', 'coordinates': [[[51.51847174775679, -0.09603149106362262], [51.518236949208955, -0.0950836948689695], [51.51675278644927, -0.09593350360774484], [51.51658650390459, -0.09494324833381902], [51.51544001964419, -0.09548113459525043], [51.514967098211415, -0.09579719964865618], [51.51484126493452, -0.09658884334777923], [51.51553692226177, -0.0979831108732712], [51.51660002559643, -0.09785414595925207], [51.51676759455516, -0.0997488024631517], [51.517450015027585, -0.09966905850506604], [51.51775936601052, -0.09916949464912692], [51.51789733405347, -0.0982000726235393], [51.517545912100154, -0.09804355138955319], [51.517679824148814, -0.09758834020273228], [51.518000824454276, -0.0970354653778913], [51.51861999866879, -0.09713475405538359], [51.51847174775679, -0.09603149106362262]]]}, 'properties': {'FID': 4, 'OA21CD': 'E00000007', 'LSOA21CD': 'E01000001', 'LSOA21NM': 'City of London 001A', 'LSOA21NMW': ' ', 'BNG_E': 532088, 'BNG_N': 181473, 'LAT': 51.51674, 'LONG': -0.09771, 'GlobalID': '4dd683e1-9a5c-46cf-9e19-8465c8fbb6cb'}}\n",
            "{'type': 'Feature', 'id': 5, 'geometry': {'type': 'Polygon', 'coordinates': [[[51.52266770578185, -0.09691359555820284], [51.52217164570309, -0.09749204831667024], [51.522918133649654, -0.09771986072770349], [51.52266770578185, -0.09691359555820284]]]}, 'properties': {'FID': 5, 'OA21CD': 'E00000010', 'LSOA21CD': 'E01000003', 'LSOA21NM': 'City of London 001C', 'LSOA21NMW': ' ', 'BNG_E': 532092, 'BNG_N': 182114, 'LAT': 51.5225, 'LONG': -0.09741, 'GlobalID': '7476781f-8fe4-4c9b-bde1-0eecbd146dff'}}\n",
            "{'type': 'Feature', 'id': 6, 'geometry': {'type': 'Polygon', 'coordinates': [[[51.52052237299224, -0.09527768421760961], [51.52050218874993, -0.095267853957871], [51.52027436516585, -0.09651560043365989], [51.521571095488866, -0.09728574984938959], [51.52163004835819, -0.09649249854663697], [51.520917462192095, -0.0961590234467079], [51.52052237299224, -0.09527768421760961]]]}, 'properties': {'FID': 6, 'OA21CD': 'E00000013', 'LSOA21CD': 'E01000003', 'LSOA21NM': 'City of London 001C', 'LSOA21NMW': ' ', 'BNG_E': 532177, 'BNG_N': 181926, 'LAT': 51.52079, 'LONG': -0.09625, 'GlobalID': 'bb65163a-10b5-453c-ad07-4778027554c4'}}\n",
            "{'type': 'Feature', 'id': 7, 'geometry': {'type': 'Polygon', 'coordinates': [[[51.519986254692945, -0.09252468969868385], [51.51937231997323, -0.09104032463007754], [51.518567268856444, -0.09150578903557603], [51.518944739913415, -0.09302756416691745], [51.51804924673988, -0.09337238313887891], [51.518489287239824, -0.09476577777110785], [51.518236949208955, -0.0950836948689695], [51.51928667302061, -0.09508496067650477], [51.519759236182225, -0.0945046659131744], [51.52066279578679, -0.09438935727348226], [51.52059434063126, -0.09477052190069765], [51.52077563270118, -0.09392243450711697], [51.52091004594948, -0.09305200425965182], [51.519986254692945, -0.09252468969868385]]]}, 'properties': {'FID': 7, 'OA21CD': 'E00000018', 'LSOA21CD': 'E01000002', 'LSOA21NM': 'City of London 001B', 'LSOA21NMW': ' ', 'BNG_E': 532397, 'BNG_N': 181793, 'LAT': 51.51954, 'LONG': -0.09314, 'GlobalID': '0056db34-f840-4dae-a89c-d2fab8a304bf'}}\n",
            "{'type': 'Feature', 'id': 8, 'geometry': {'type': 'Polygon', 'coordinates': [[[51.519982536388724, -0.08994550049573079], [51.519517338302016, -0.09019762242815257], [51.51937231997323, -0.09104032463007754], [51.519986254692945, -0.09252468969868385], [51.51972957792407, -0.09108242249129418], [51.520817401525306, -0.09058539886834155], [51.52068731652777, -0.08969466290592745], [51.519982536388724, -0.08994550049573079]]]}, 'properties': {'FID': 8, 'OA21CD': 'E00000019', 'LSOA21CD': 'E01000002', 'LSOA21NM': 'City of London 001B', 'LSOA21NMW': ' ', 'BNG_E': 532587, 'BNG_N': 181856, 'LAT': 51.52007, 'LONG': -0.09037, 'GlobalID': '3553c9c4-23fb-4ab4-819d-2bd74a4ac47e'}}\n",
            "{'type': 'Feature', 'id': 9, 'geometry': {'type': 'Polygon', 'coordinates': [[[51.518567268856444, -0.09150578903557603], [51.51937231997323, -0.09104032463007754], [51.519517338302016, -0.09019762242815257], [51.51809325662235, -0.09119708825187921], [51.518567268856444, -0.09150578903557603]]]}, 'properties': {'FID': 9, 'OA21CD': 'E00000020', 'LSOA21CD': 'E01000002', 'LSOA21NM': 'City of London 001B', 'LSOA21NMW': ' ', 'BNG_E': 532559, 'BNG_N': 181730, 'LAT': 51.51894, 'LONG': -0.09083, 'GlobalID': 'd44a3efc-e733-4e56-8ca6-22e8e066f039'}}\n",
            "{'type': 'Feature', 'id': 10, 'geometry': {'type': 'Polygon', 'coordinates': [[[51.51941071951071, -0.08812915078150488], [51.517516202300804, -0.08929130020242736], [51.51747743284028, -0.09011989541586636], [51.517079505936266, -0.0903095016729258], [51.51726210381683, -0.0908063328484785], [51.51753892525356, -0.0906866700974208], [51.51764795147028, -0.0914198953345716], [51.51583051300082, -0.0924155870934011], [51.51409312742556, -0.0940320986988239], [51.514237338354654, -0.09477912875936921], [51.51452720542811, -0.09469227597624108], [51.51459027526567, -0.09522740507857783], [51.515277748238255, -0.09503478043017372], [51.51544001964419, -0.09548113459525043], [51.51658650390459, -0.09494324833381902], [51.51675278644927, -0.09593350360774484], [51.518236949208955, -0.0950836948689695], [51.518489287239824, -0.09476577777110785], [51.51804924673988, -0.09337238313887891], [51.518944739913415, -0.09302756416691745], [51.518567268856444, -0.09150578903557603], [51.51809325662235, -0.09119708825187921], [51.519517338302016, -0.09019762242815257], [51.519982536388724, -0.08994550049573079], [51.51941071951071, -0.08812915078150488]]]}, 'properties': {'FID': 10, 'OA21CD': 'E00000021', 'LSOA21CD': 'E01000002', 'LSOA21NM': 'City of London 001B', 'LSOA21NMW': ' ', 'BNG_E': 532371, 'BNG_N': 181517, 'LAT': 51.51707, 'LONG': -0.09361, 'GlobalID': '6145f900-2aaf-4138-99fb-444d02630445'}}\n",
            "{'type': 'Feature', 'id': 11, 'geometry': {'type': 'Polygon', 'coordinates': [[[51.52305293402914, -0.09509687221309618], [51.522675626848084, -0.09551233409184323], [51.522565836459684, -0.09638314475226266], [51.52266770578185, -0.09691359555820284], [51.522918133649654, -0.09771986072770349], [51.52324959956319, -0.09678583051583343], [51.52282121311555, -0.09647053207789731], [51.52305293402914, -0.09509687221309618]]]}, 'properties': {'FID': 11, 'OA21CD': 'E00000022', 'LSOA21CD': 'E01000003', 'LSOA21NM': 'City of London 001C', 'LSOA21NMW': ' ', 'BNG_E': 532114, 'BNG_N': 182161, 'LAT': 51.52292, 'LONG': -0.09707, 'GlobalID': '0a6bb66f-9d58-4063-b3a4-525a1d3d7563'}}\n",
            "{'type': 'Feature', 'id': 12, 'geometry': {'type': 'Polygon', 'coordinates': [[[51.522046424810256, -0.09455881754659788], [51.521460867827265, -0.0943385135704121], [51.52139113259196, -0.09538059444431504], [51.521709206696926, -0.09549903120096832], [51.5222086077274, -0.095482966669429], [51.522207464700294, -0.09643406950055242], [51.522565836459684, -0.09638314475226266], [51.522675626848084, -0.09551233409184323], [51.52305293402914, -0.09509687221309618], [51.522046424810256, -0.09455881754659788]]]}, 'properties': {'FID': 12, 'OA21CD': 'E00000023', 'LSOA21CD': 'E01000003', 'LSOA21NM': 'City of London 001C', 'LSOA21NMW': ' ', 'BNG_E': 532236, 'BNG_N': 182105, 'LAT': 51.52239, 'LONG': -0.09534, 'GlobalID': '5716f2b7-ee52-48e6-812f-9eef886af5cf'}}\n",
            "{'type': 'Feature', 'id': 13, 'geometry': {'type': 'Polygon', 'coordinates': [[[51.51544001964419, -0.09548113459525043], [51.515277748238255, -0.09503478043017372], [51.51459027526567, -0.09522740507857783], [51.51452720542811, -0.09469227597624108], [51.514237338354654, -0.09477912875936921], [51.51389346454941, -0.09539879464306132], [51.514012508406005, -0.09643963326359101], [51.51338148691761, -0.09665599258472657], [51.51341668395794, -0.09707608145675893], [51.51227446846233, -0.0973776888703003], [51.5118802217857, -0.09776302558966203], [51.511852715057074, -0.09859413977185541], [51.51068194186679, -0.09894353023772491], [51.51081540724798, -0.09983237393383979], [51.510825447092785, -0.09989923699237434], [51.510850361322525, -0.10457223221298192], [51.513583680344745, -0.10430706686756568], [51.51375424039168, -0.10223061513529981], [51.51624526411805, -0.10158478540479245], [51.51676759455516, -0.0997488024631517], [51.51660002559643, -0.09785414595925207], [51.51553692226177, -0.0979831108732712], [51.51484126493452, -0.09658884334777923], [51.514967098211415, -0.09579719964865618], [51.51544001964419, -0.09548113459525043]]]}, 'properties': {'FID': 13, 'OA21CD': 'E00000024', 'LSOA21CD': 'E01032739', 'LSOA21NM': 'City of London 001F', 'LSOA21NMW': ' ', 'BNG_E': 531966, 'BNG_N': 181139, 'LAT': 51.51377, 'LONG': -0.09959, 'GlobalID': '68170f22-2901-4e33-b23f-befbe3748d77'}}\n",
            "{'type': 'Feature', 'id': 14, 'geometry': {'type': 'Polygon', 'coordinates': [[[51.513583680344745, -0.10430706686756568], [51.510850361322525, -0.10457223221298192], [51.51087107834303, -0.10848473524134766], [51.51083272010483, -0.11148484201344906], [51.51165353086653, -0.1115035093956317], [51.51265038462154, -0.11249692636504335], [51.513161890147835, -0.1117221632838997], [51.513657958366935, -0.11192684014080785], [51.51382685812959, -0.11105627286496988], [51.51412908435445, -0.1094765185092935], [51.515396650262005, -0.10949576022381483], [51.51525760300585, -0.10867999184798506], [51.51548978593647, -0.1080217835742265], [51.515046192907874, -0.10737300235772178], [51.515685216374315, -0.10734987199164202], [51.515805912895885, -0.1047657941668149], [51.51436960839705, -0.10436421282599352], [51.51418191294479, -0.10499173822737917], [51.51359068064943, -0.10517323117454319], [51.513583680344745, -0.10430706686756568]]]}, 'properties': {'FID': 14, 'OA21CD': 'E00000025', 'LSOA21CD': 'E01032740', 'LSOA21NM': 'City of London 001G', 'LSOA21NMW': ' ', 'BNG_E': 531384, 'BNG_N': 181072, 'LAT': 51.5133, 'LONG': -0.108, 'GlobalID': 'e18372c9-ebe5-476f-8d3a-46a1465300d7'}}\n",
            "{'type': 'Feature', 'id': 15, 'geometry': {'type': 'Polygon', 'coordinates': [[[51.51809482059056, -0.11067215667046046], [51.51790488702128, -0.10940663017389436], [51.51752341917348, -0.10980472898570838], [51.51681891701936, -0.10958545495814548], [51.516465816687464, -0.11129132351144065], [51.51606871549311, -0.11040278789910214], [51.516040198636816, -0.10925291905781774], [51.515396650262005, -0.10949576022381483], [51.51412908435445, -0.1094765185092935], [51.51382685812959, -0.11105627286496988], [51.515222830963566, -0.11155316598383742], [51.51811701968943, -0.11384142298597563], [51.51814852906659, -0.1112252915658052], [51.51809482059056, -0.11067215667046046]]]}, 'properties': {'FID': 15, 'OA21CD': 'E00000028', 'LSOA21CD': 'E01032740', 'LSOA21NM': 'City of London 001G', 'LSOA21NMW': ' ', 'BNG_E': 531129, 'BNG_N': 181451, 'LAT': 51.51677, 'LONG': -0.11153, 'GlobalID': '6d59d101-ab01-40f4-9158-982ec7eb27f4'}}\n",
            "{'type': 'Feature', 'id': 16, 'geometry': {'type': 'Polygon', 'coordinates': [[[51.51562258304014, -0.07761941130399673], [51.51554329893058, -0.0774857550543205], [51.51517844578419, -0.0767158237760236], [51.51582898151257, -0.07582401710962175], [51.514452978062174, -0.07396902240431245], [51.5135477047811, -0.07344696595786165], [51.51281125043144, -0.07524303511886034], [51.51257058887144, -0.07319134863610183], [51.51204903001633, -0.07310023523331612], [51.51080490648874, -0.072764420313359], [51.51018785985247, -0.07272784446300161], [51.51000242128328, -0.07322990621378252], [51.50973543797853, -0.07553224812278922], [51.5104769637077, -0.07617255031926512], [51.51343206047993, -0.07644168853884618], [51.515673489449526, -0.08003605823182841], [51.516321807239656, -0.0791490727694386], [51.51562258304014, -0.07761941130399673]]]}, 'properties': {'FID': 16, 'OA21CD': 'E00000029', 'LSOA21CD': 'E01000005', 'LSOA21NM': 'City of London 001E', 'LSOA21NMW': ' ', 'BNG_E': 533581, 'BNG_N': 181249, 'LAT': 51.51438, 'LONG': -0.07629, 'GlobalID': '0640761d-0751-40b2-ba5f-3da2c25d9538'}}\n",
            "{'type': 'Feature', 'id': 17, 'geometry': {'type': 'Polygon', 'coordinates': [[[51.51739601968549, -0.07737099887418145], [51.51589501871235, -0.07591792794795126], [51.51582898151257, -0.07582401710962175], [51.51517844578419, -0.0767158237760236], [51.51554329893058, -0.0774857550543205], [51.51571933364381, -0.07673296338522947], [51.51599687731862, -0.07690113229588315], [51.51562258304014, -0.07761941130399673], [51.516321807239656, -0.0791490727694386], [51.51748869563961, -0.07822469893420546], [51.51739601968549, -0.07737099887418145]]]}, 'properties': {'FID': 17, 'OA21CD': 'E00000030', 'LSOA21CD': 'E01000005', 'LSOA21NM': 'City of London 001E', 'LSOA21NMW': ' ', 'BNG_E': 533495, 'BNG_N': 181489, 'LAT': 51.51655, 'LONG': -0.07743, 'GlobalID': '940aa4c4-d6b9-4f15-ae57-01e7b8b0c775'}}\n",
            "{'type': 'Feature', 'id': 18, 'geometry': {'type': 'Polygon', 'coordinates': [[[51.51554329893058, -0.0774857550543205], [51.51562258304014, -0.07761941130399673], [51.51599687731862, -0.07690113229588315], [51.51571933364381, -0.07673296338522947], [51.51554329893058, -0.0774857550543205]]]}, 'properties': {'FID': 18, 'OA21CD': 'E00000031', 'LSOA21CD': 'E01000005', 'LSOA21NM': 'City of London 001E', 'LSOA21NMW': ' ', 'BNG_E': 533525, 'BNG_N': 181402, 'LAT': 51.51577, 'LONG': -0.07703, 'GlobalID': '4d79da72-3c78-46e0-a549-5af8d46ca544'}}\n",
            "{'type': 'Feature', 'id': 19, 'geometry': {'type': 'Polygon', 'coordinates': [[[51.51257058887144, -0.07319134863610183], [51.51281125043144, -0.07524303511886034], [51.5135477047811, -0.07344696595786165], [51.51257058887144, -0.07319134863610183]]]}, 'properties': {'FID': 19, 'OA21CD': 'E00000032', 'LSOA21CD': 'E01000005', 'LSOA21NM': 'City of London 001E', 'LSOA21NMW': ' ', 'BNG_E': 533755, 'BNG_N': 181108, 'LAT': 51.51307, 'LONG': -0.07383, 'GlobalID': 'd1114437-c3f5-4c94-84a3-6ffe65e771a2'}}\n",
            "{'type': 'Feature', 'id': 20, 'geometry': {'type': 'Polygon', 'coordinates': [[[51.54182601927995, 0.08418584577698303], [51.5410892384961, 0.08318174335650454], [51.54110823298778, 0.083124925736982], [51.5420768220341, 0.0813609696434646], [51.54274404018075, 0.08234639963694891], [51.54182601927995, 0.08418584577698303]]]}, 'properties': {'FID': 20, 'OA21CD': 'E00000037', 'LSOA21CD': 'E01000009', 'LSOA21NM': 'Barking and Dagenham 016B', 'LSOA21NMW': ' ', 'BNG_E': 544539, 'BNG_N': 184613, 'LAT': 51.54191, 'LONG': 0.0829, 'GlobalID': 'ff2c0897-8484-42e4-ac65-438da12eb521'}}\n",
            "{'type': 'Feature', 'id': 21, 'geometry': {'type': 'Polygon', 'coordinates': [[[51.542494180072076, 0.08474656326531484], [51.54182601927995, 0.08418584577698303], [51.54274404018075, 0.08234639963694891], [51.5420768220341, 0.0813609696434646], [51.54224317555713, 0.08102205222899816], [51.54239368664195, 0.08075339318424218], [51.54312825517415, 0.08158453771637893], [51.543498836931484, 0.08272071624991867], [51.542494180072076, 0.08474656326531484]]]}, 'properties': {'FID': 21, 'OA21CD': 'E00000038', 'LSOA21CD': 'E01000011', 'LSOA21NM': 'Barking and Dagenham 016C', 'LSOA21NMW': ' ', 'BNG_E': 544579, 'BNG_N': 184697, 'LAT': 51.54265, 'LONG': 0.083511, 'GlobalID': '592f384c-5cbe-4db7-bde4-4eb1d163f5c0'}}\n",
            "{'type': 'Feature', 'id': 22, 'geometry': {'type': 'Polygon', 'coordinates': [[[51.54382741468685, 0.07088228854569294], [51.54305915047065, 0.07072216770057808], [51.54289437872743, 0.07024542981438195], [51.54255179607657, 0.07087337681880979], [51.54257188887882, 0.07003915632785575], [51.54214848945412, 0.06989781570440318], [51.541677059795816, 0.06921615396158322], [51.542060944596656, 0.06890118137163], [51.54252358858377, 0.06931083163097158], [51.54331276782055, 0.06923973548910788], [51.54371516967741, 0.06939791371295945], [51.54396048773878, 0.06968650663596192], [51.544065040455614, 0.06968448143748361], [51.54406849933101, 0.0696844148564448], [51.54382741468685, 0.07088228854569294]]]}, 'properties': {'FID': 22, 'OA21CD': 'E00000039', 'LSOA21CD': 'E01000012', 'LSOA21NM': 'Barking and Dagenham 015D', 'LSOA21NMW': ' ', 'BNG_E': 543642, 'BNG_N': 184721, 'LAT': 51.54311, 'LONG': 0.070019, 'GlobalID': 'c024727f-5c34-4adb-b65c-7cae064aa873'}}\n",
            "{'type': 'Feature', 'id': 23, 'geometry': {'type': 'Polygon', 'coordinates': [[[51.54122604745299, 0.07759697896937053], [51.54093932067223, 0.07725426448730376], [51.54082989951973, 0.07674553229137636], [51.54051913953851, 0.07569239109590704], [51.53988564428878, 0.07600381587725849], [51.53863774138749, 0.0765140603738516], [51.538402171372304, 0.0755024453793954], [51.539501237973326, 0.07521898694181259], [51.53939840091513, 0.07473174789346089], [51.5398362166127, 0.07505076433154152], [51.54109658640398, 0.07413994463640138], [51.54149817188749, 0.07305093219220438], [51.5410040100844, 0.0734341999220054], [51.540781332773754, 0.0727166912134931], [51.54143308316389, 0.07262366866012795], [51.541899284234034, 0.0734986352922343], [51.5415527542737, 0.07385191145502203], [51.542220629970465, 0.0753608544048887], [51.54122604745299, 0.07759697896937053]]]}, 'properties': {'FID': 23, 'OA21CD': 'E00000040', 'LSOA21CD': 'E01000007', 'LSOA21NM': 'Barking and Dagenham 015A', 'LSOA21NMW': ' ', 'BNG_E': 543999, 'BNG_N': 184498, 'LAT': 51.54101, 'LONG': 0.075072, 'GlobalID': '0364bc8c-cb70-4f29-bfe0-44d4e69a5f60'}}\n",
            "{'type': 'Feature', 'id': 24, 'geometry': {'type': 'Polygon', 'coordinates': [[[51.54179755069271, 0.08641859427441083], [51.54177629457881, 0.08645534858903285], [51.541538954926715, 0.08612130770358656], [51.54125189046858, 0.08649889567550845], [51.54035735623189, 0.08506940318469818], [51.540561973939724, 0.08455798865629159], [51.54016006054503, 0.08401776196399352], [51.5406839847777, 0.08302199449483015], [51.5410892384961, 0.08318174335650454], [51.54182601927995, 0.08418584577698303], [51.542494180072076, 0.08474656326531484], [51.54179755069271, 0.08641859427441083]]]}, 'properties': {'FID': 24, 'OA21CD': 'E00000041', 'LSOA21CD': 'E01000009', 'LSOA21NM': 'Barking and Dagenham 016B', 'LSOA21NMW': ' ', 'BNG_E': 544686, 'BNG_N': 184551, 'LAT': 51.54131, 'LONG': 0.084993, 'GlobalID': '8fd760cd-2910-47b1-9386-ba49213473c7'}}\n",
            "{'type': 'Feature', 'id': 25, 'geometry': {'type': 'Polygon', 'coordinates': [[[51.5420768220341, 0.0813609696434646], [51.54110823298778, 0.083124925736982], [51.540820635532455, 0.0821023081684876], [51.54111576105282, 0.0806736520127942], [51.54169875988177, 0.08025318129689034], [51.54189880011218, 0.08051044149476633], [51.54224317555713, 0.08102205222899816], [51.5420768220341, 0.0813609696434646]]]}, 'properties': {'FID': 25, 'OA21CD': 'E00000042', 'LSOA21CD': 'E01000009', 'LSOA21NM': 'Barking and Dagenham 016B', 'LSOA21NMW': ' ', 'BNG_E': 544442, 'BNG_N': 184569, 'LAT': 51.54154, 'LONG': 0.081484, 'GlobalID': '692ddce4-07ad-421a-8da9-33ed8c20bdd9'}}\n",
            "{'type': 'Feature', 'id': 26, 'geometry': {'type': 'Polygon', 'coordinates': [[[51.54169435317838, 0.07135496004038455], [51.541509646531544, 0.0706110672002605], [51.54099412720363, 0.07082108691725603], [51.54073894561265, 0.0702924896598419], [51.540458080659555, 0.06980397863926305], [51.54084506536704, 0.06989877717915172], [51.541677059795816, 0.06921615396158322], [51.54214848945412, 0.06989781570440318], [51.5423702090741, 0.07058435702997833], [51.54179660339162, 0.07168834098644292], [51.54169435317838, 0.07135496004038455]]]}, 'properties': {'FID': 26, 'OA21CD': 'E00000043', 'LSOA21CD': 'E01000008', 'LSOA21NM': 'Barking and Dagenham 015B', 'LSOA21NMW': ' ', 'BNG_E': 543678, 'BNG_N': 184549, 'LAT': 51.54155, 'LONG': 0.070467, 'GlobalID': 'b19bd593-dfd2-4fd7-9c55-34de5f75848c'}}\n",
            "{'type': 'Feature', 'id': 27, 'geometry': {'type': 'Polygon', 'coordinates': [[[51.54267231834978, 0.07389331250032993], [51.54221381956797, 0.07319863826945741], [51.541660043875716, 0.07229294377930034], [51.54169435317838, 0.07135496004038455], [51.54179660339162, 0.07168834098644292], [51.5423702090741, 0.07058435702997833], [51.54214848945412, 0.06989781570440318], [51.54257188887882, 0.07003915632785575], [51.54255179607657, 0.07087337681880979], [51.542577944839614, 0.07222396843101601], [51.54312708834772, 0.07245491324702844], [51.54267231834978, 0.07389331250032993]]]}, 'properties': {'FID': 27, 'OA21CD': 'E00000045', 'LSOA21CD': 'E01000012', 'LSOA21NM': 'Barking and Dagenham 015D', 'LSOA21NMW': ' ', 'BNG_E': 543787, 'BNG_N': 184639, 'LAT': 51.54234, 'LONG': 0.072075, 'GlobalID': '62813dca-1f22-4a0f-9400-c0142477819e'}}\n",
            "{'type': 'Feature', 'id': 28, 'geometry': {'type': 'Polygon', 'coordinates': [[[51.54134147306143, 0.07964843775007675], [51.54093932067223, 0.07725426448730376], [51.54122604745299, 0.07759697896937053], [51.54141792440492, 0.07783200443687557], [51.54185479732859, 0.0770298803567251], [51.542565141963216, 0.07711724711956039], [51.54279167533338, 0.07774095163677304], [51.54134147306143, 0.07964843775007675]]]}, 'properties': {'FID': 28, 'OA21CD': 'E00000046', 'LSOA21CD': 'E01000007', 'LSOA21NM': 'Barking and Dagenham 015A', 'LSOA21NMW': ' ', 'BNG_E': 544202, 'BNG_N': 184597, 'LAT': 51.54185, 'LONG': 0.078038, 'GlobalID': '910698a7-5391-4ea5-b3a7-d78b6f5d8ea8'}}\n",
            "{'type': 'Feature', 'id': 29, 'geometry': {'type': 'Polygon', 'coordinates': [[[51.541899284234034, 0.0734986352922343], [51.54143308316389, 0.07262366866012795], [51.54099412720363, 0.07082108691725603], [51.541509646531544, 0.0706110672002605], [51.54169435317838, 0.07135496004038455], [51.541660043875716, 0.07229294377930034], [51.54221381956797, 0.07319863826945741], [51.541899284234034, 0.0734986352922343]]]}, 'properties': {'FID': 29, 'OA21CD': 'E00000048', 'LSOA21CD': 'E01000008', 'LSOA21NM': 'Barking and Dagenham 015B', 'LSOA21NMW': ' ', 'BNG_E': 543805, 'BNG_N': 184557, 'LAT': 51.54159, 'LONG': 0.072301, 'GlobalID': '7032aa0a-cfb7-4235-8d13-940376dbb203'}}\n",
            "{'type': 'Feature', 'id': 30, 'geometry': {'type': 'Polygon', 'coordinates': [[[51.54058139388565, 0.08852449527441712], [51.53944470780471, 0.08678251926959199], [51.54035735623189, 0.08506940318469818], [51.54125189046858, 0.08649889567550845], [51.541538954926715, 0.08612130770358656], [51.54177629457881, 0.08645534858903285], [51.54058139388565, 0.08852449527441712]]]}, 'properties': {'FID': 30, 'OA21CD': 'E00000049', 'LSOA21CD': 'E01000006', 'LSOA21NM': 'Barking and Dagenham 016A', 'LSOA21NMW': ' ', 'BNG_E': 544816, 'BNG_N': 184464, 'LAT': 51.5405, 'LONG': 0.086831, 'GlobalID': 'ac036246-84d3-4fe9-96d4-1d529fb6f7b5'}}\n",
            "{'type': 'Feature', 'id': 31, 'geometry': {'type': 'Polygon', 'coordinates': [[[51.540781332773754, 0.0727166912134931], [51.54018053302214, 0.072951044779425], [51.54002622860146, 0.07216865585236186], [51.54001966785584, 0.07135580432116442], [51.54073894561265, 0.0702924896598419], [51.54099412720363, 0.07082108691725603], [51.54143308316389, 0.07262366866012795], [51.540781332773754, 0.0727166912134931]]]}, 'properties': {'FID': 31, 'OA21CD': 'E00000050', 'LSOA21CD': 'E01000008', 'LSOA21NM': 'Barking and Dagenham 015B', 'LSOA21NMW': ' ', 'BNG_E': 543753, 'BNG_N': 184459, 'LAT': 51.54073, 'LONG': 0.071511, 'GlobalID': 'd5b4822e-3e3c-4c4b-a61b-6b0fd712c2f0'}}\n",
            "{'type': 'Feature', 'id': 32, 'geometry': {'type': 'Polygon', 'coordinates': [[[51.54035735623189, 0.08506940318469818], [51.53944470780471, 0.08678251926959199], [51.539014229080585, 0.0861902697654169], [51.53917884769652, 0.08577372962371878], [51.53992470436154, 0.0844240689608967], [51.53922656768273, 0.083380462384784], [51.53990419691931, 0.08206821777598193], [51.5406839847777, 0.08302199449483015], [51.54016006054503, 0.08401776196399352], [51.540561973939724, 0.08455798865629159], [51.54035735623189, 0.08506940318469818]]]}, 'properties': {'FID': 32, 'OA21CD': 'E00000051', 'LSOA21CD': 'E01000009', 'LSOA21NM': 'Barking and Dagenham 016B', 'LSOA21NMW': ' ', 'BNG_E': 544566, 'BNG_N': 184387, 'LAT': 51.53987, 'LONG': 0.083197, 'GlobalID': '5eb7e47e-5764-434f-9086-6fe321ad901e'}}\n",
            "{'type': 'Feature', 'id': 33, 'geometry': {'type': 'Polygon', 'coordinates': [[[51.53939840091513, 0.07473174789346089], [51.53887015143719, 0.07361382204720868], [51.538788525266014, 0.07304241870209836], [51.53912580395876, 0.07296878554387475], [51.538962431083974, 0.07190865904812446], [51.54002622860146, 0.07216865585236186], [51.54018053302214, 0.072951044779425], [51.540781332773754, 0.0727166912134931], [51.5410040100844, 0.0734341999220054], [51.54149817188749, 0.07305093219220438], [51.54109658640398, 0.07413994463640138], [51.5398362166127, 0.07505076433154152], [51.53939840091513, 0.07473174789346089]]]}, 'properties': {'FID': 33, 'OA21CD': 'E00000052', 'LSOA21CD': 'E01000007', 'LSOA21NM': 'Barking and Dagenham 015A', 'LSOA21NMW': ' ', 'BNG_E': 543896, 'BNG_N': 184392, 'LAT': 51.54009, 'LONG': 0.073544, 'GlobalID': '8bfa48a7-4860-401f-9856-c5b51c493385'}}\n",
            "{'type': 'Feature', 'id': 34, 'geometry': {'type': 'Polygon', 'coordinates': [[[51.538883132714645, 0.08841929612981174], [51.538202565104655, 0.08833235639939825], [51.53787492291084, 0.08694284635654251], [51.53815446254799, 0.08511939066419004], [51.538361503493896, 0.08531409896507393], [51.5385205892088, 0.08491800930581572], [51.53917884769652, 0.08577372962371878], [51.539014229080585, 0.0861902697654169], [51.53944470780471, 0.08678251926959199], [51.53886559217905, 0.08776853877191833], [51.538883132714645, 0.08841929612981174]]]}, 'properties': {'FID': 34, 'OA21CD': 'E00000053', 'LSOA21CD': 'E01000006', 'LSOA21NM': 'Barking and Dagenham 016A', 'LSOA21NMW': ' ', 'BNG_E': 544821, 'BNG_N': 184259, 'LAT': 51.53866, 'LONG': 0.086818, 'GlobalID': 'fb612396-000a-47ec-bcf1-c58e2fdcc4ae'}}\n",
            "{'type': 'Feature', 'id': 35, 'geometry': {'type': 'Polygon', 'coordinates': [[[51.53917884769652, 0.08577372962371878], [51.5385205892088, 0.08491800930581572], [51.538361503493896, 0.08531409896507393], [51.53815446254799, 0.08511939066419004], [51.53789639969076, 0.08497165226384779], [51.53912707588632, 0.08155820965685037], [51.53930606478827, 0.08133435541338797], [51.53990419691931, 0.08206821777598193], [51.53922656768273, 0.083380462384784], [51.53992470436154, 0.0844240689608967], [51.53917884769652, 0.08577372962371878]]]}, 'properties': {'FID': 35, 'OA21CD': 'E00000054', 'LSOA21CD': 'E01000009', 'LSOA21NM': 'Barking and Dagenham 016B', 'LSOA21NMW': ' ', 'BNG_E': 544608, 'BNG_N': 184283, 'LAT': 51.53893, 'LONG': 0.083759, 'GlobalID': '5df2ccb0-8cf4-4865-83d4-4cf12f4f7748'}}\n",
            "{'type': 'Feature', 'id': 36, 'geometry': {'type': 'Polygon', 'coordinates': [[[51.53996094210473, 0.08961642286236328], [51.539112168623724, 0.09110567284228231], [51.53908530197986, 0.09115207554164693], [51.538883132714645, 0.08841929612981174], [51.53886559217905, 0.08776853877191833], [51.53944470780471, 0.08678251926959199], [51.54058139388565, 0.08852449527441712], [51.53996094210473, 0.08961642286236328]]]}, 'properties': {'FID': 36, 'OA21CD': 'E00000055', 'LSOA21CD': 'E01000006', 'LSOA21NM': 'Barking and Dagenham 016A', 'LSOA21NMW': ' ', 'BNG_E': 544951, 'BNG_N': 184377, 'LAT': 51.53968, 'LONG': 0.08874, 'GlobalID': '231b4498-9b24-4c05-a4bc-f9b83ef61ebc'}}\n",
            "{'type': 'Feature', 'id': 37, 'geometry': {'type': 'MultiPolygon', 'coordinates': [[[[51.54073894561265, 0.0702924896598419], [51.54001966785584, 0.07135580432116442], [51.54002622860146, 0.07216865585236186], [51.538962431083974, 0.07190865904812446], [51.53840352963733, 0.07201524954020407], [51.537689844023205, 0.07252860824864557], [51.53723521873922, 0.0713066515679195], [51.53722512157537, 0.07127951462269226], [51.53722717275458, 0.07127809220868947], [51.537277820152326, 0.07125495194313507], [51.53909569775829, 0.07042434116393763], [51.538781588309895, 0.06964940228052136], [51.53897367393272, 0.06944036661688806], [51.540458080659555, 0.06980397863926305], [51.54073894561265, 0.0702924896598419]]], [[[51.54371516967741, 0.06939791371295945], [51.54331276782055, 0.06923973548910788], [51.543561649261534, 0.06921731407977477], [51.54371516967741, 0.06939791371295945]]], [[[51.536220841288824, 0.06858066320967315], [51.53615468041666, 0.06802988841455368], [51.537337454866154, 0.06908130909116762], [51.53814519503715, 0.06827870486805074], [51.53985684507467, 0.06692813012699936], [51.54114652666207, 0.06669286751569585], [51.544286881560154, 0.06828169964930157], [51.54441420794619, 0.06832666786459653], [51.54415613830219, 0.06931697080133849], [51.54415337209931, 0.06931687125366531], [51.54404375777633, 0.06931291030549812], [51.54209029171562, 0.06856288478006065], [51.54140395241561, 0.06898184874094211], [51.540743835952995, 0.0684238044910597], [51.540278826025606, 0.06937195273221111], [51.538837458953836, 0.06903113321266569], [51.53845780137743, 0.07046749101622073], [51.53719665095329, 0.07097609807365397], [51.537142053133145, 0.07099811620300675], [51.53712502771854, 0.07101051451912843], [51.536220841288824, 0.06858066320967315]]]]}, 'properties': {'FID': 37, 'OA21CD': 'E00000056', 'LSOA21CD': 'E01000008', 'LSOA21NM': 'Barking and Dagenham 015B', 'LSOA21NMW': ' ', 'BNG_E': 543575, 'BNG_N': 184273, 'LAT': 51.5391, 'LONG': 0.068871, 'GlobalID': '3975d653-4e87-47a3-8d9a-26b3a3077e3c'}}\n",
            "{'type': 'Feature', 'id': 38, 'geometry': {'type': 'Polygon', 'coordinates': [[[51.538402171372304, 0.0755024453793954], [51.53830069924812, 0.07445891270028926], [51.53876958563149, 0.07450590417622496], [51.53833686037617, 0.07332966736407023], [51.53840352963733, 0.07201524954020407], [51.538962431083974, 0.07190865904812446], [51.53912580395876, 0.07296878554387475], [51.538788525266014, 0.07304241870209836], [51.53887015143719, 0.07361382204720868], [51.53939840091513, 0.07473174789346089], [51.539501237973326, 0.07521898694181259], [51.538402171372304, 0.0755024453793954]]]}, 'properties': {'FID': 38, 'OA21CD': 'E00000057', 'LSOA21CD': 'E01034474', 'LSOA21NM': 'Barking and Dagenham 015F', 'LSOA21NMW': ' ', 'BNG_E': 543964, 'BNG_N': 184262, 'LAT': 51.5389, 'LONG': 0.074471, 'GlobalID': '394c4d6f-0d81-4f29-8168-9ff3c550edc5'}}\n",
            "{'type': 'Feature', 'id': 39, 'geometry': {'type': 'Polygon', 'coordinates': [[[51.537551120060776, 0.09207427074114823], [51.53739232810911, 0.08962145437577207], [51.5375847181292, 0.08652377200511382], [51.53789639969076, 0.08497165226384779], [51.53815446254799, 0.08511939066419004], [51.53787492291084, 0.08694284635654251], [51.538202565104655, 0.08833235639939825], [51.53833380447761, 0.09146984434318096], [51.537551120060776, 0.09207427074114823]]]}, 'properties': {'FID': 39, 'OA21CD': 'E00000059', 'LSOA21CD': 'E01000006', 'LSOA21NM': 'Barking and Dagenham 016A', 'LSOA21NMW': ' ', 'BNG_E': 545015, 'BNG_N': 184176, 'LAT': 51.53786, 'LONG': 0.08958, 'GlobalID': '84b7bac8-29dc-49d1-9e6b-7082bdbca41f'}}\n",
            "{'type': 'Feature', 'id': 40, 'geometry': {'type': 'Polygon', 'coordinates': [[[51.53787081338932, 0.09325656491014885], [51.53767065284177, 0.09359908922782287], [51.53759072975164, 0.09258233961406617], [51.537551120060776, 0.09207427074114823], [51.53833380447761, 0.09146984434318096], [51.538202565104655, 0.08833235639939825], [51.538883132714645, 0.08841929612981174], [51.53908530197986, 0.09115207554164693], [51.53787081338932, 0.09325656491014885]]]}, 'properties': {'FID': 40, 'OA21CD': 'E00000060', 'LSOA21CD': 'E01000006', 'LSOA21NM': 'Barking and Dagenham 016A', 'LSOA21NMW': ' ', 'BNG_E': 545037, 'BNG_N': 184231, 'LAT': 51.53835, 'LONG': 0.089919, 'GlobalID': 'c2a93dc9-ba6f-4042-98b4-0addd8ad2843'}}\n",
            "{'type': 'Feature', 'id': 41, 'geometry': {'type': 'Polygon', 'coordinates': [[[51.538402171372304, 0.0755024453793954], [51.53863774138749, 0.0765140603738516], [51.538008195859234, 0.07735411039017835], [51.537875639895, 0.07695872889317038], [51.53769745649659, 0.07608038836942961], [51.53756375208744, 0.07350464735977462], [51.53723521873922, 0.0713066515679195], [51.537689844023205, 0.07252860824864557], [51.53840352963733, 0.07201524954020407], [51.53833686037617, 0.07332966736407023], [51.53876958563149, 0.07450590417622496], [51.53830069924812, 0.07445891270028926], [51.538402171372304, 0.0755024453793954]]]}, 'properties': {'FID': 41, 'OA21CD': 'E00000061', 'LSOA21CD': 'E01034474', 'LSOA21NM': 'Barking and Dagenham 015F', 'LSOA21NMW': ' ', 'BNG_E': 543981, 'BNG_N': 184159, 'LAT': 51.53797, 'LONG': 0.074674, 'GlobalID': '117ce665-e8c6-4c7f-9895-4412eeae0079'}}\n",
            "{'type': 'Feature', 'id': 42, 'geometry': {'type': 'Polygon', 'coordinates': [[[51.536559860746145, 0.08452987252289981], [51.536144572796715, 0.08362404138720933], [51.535726741325185, 0.08258656107047167], [51.535696303310715, 0.08251095409092908], [51.536275927065766, 0.08210388315705021], [51.53721670823887, 0.08229458336537153], [51.53722048333993, 0.08363263345211124], [51.536559860746145, 0.08452987252289981]]]}, 'properties': {'FID': 42, 'OA21CD': 'E00000063', 'LSOA21CD': 'E01034473', 'LSOA21NM': 'Barking and Dagenham 015E', 'LSOA21NMW': ' ', 'BNG_E': 544579, 'BNG_N': 184008, 'LAT': 51.53646, 'LONG': 0.083228, 'GlobalID': '0902e43f-720a-4ac9-aa1b-5a24d6dbc360'}}\n",
            "{'type': 'Feature', 'id': 43, 'geometry': {'type': 'Polygon', 'coordinates': [[[51.543498836931484, 0.08272071624991867], [51.54312825517415, 0.08158453771637893], [51.54374269259718, 0.0803248811386476], [51.5435722745278, 0.07863771047817263], [51.54408883315266, 0.07794780941961327], [51.54458216725041, 0.07937776423103665], [51.54479470558772, 0.08010971740067861], [51.543498836931484, 0.08272071624991867]]]}, 'properties': {'FID': 43, 'OA21CD': 'E00000064', 'LSOA21CD': 'E01000011', 'LSOA21NM': 'Barking and Dagenham 016C', 'LSOA21NMW': ' ', 'BNG_E': 544328, 'BNG_N': 184837, 'LAT': 51.54398, 'LONG': 0.079952, 'GlobalID': 'edc23cc5-dd3f-4b14-8ab1-266b792b266f'}}\n",
            "{'type': 'Feature', 'id': 44, 'geometry': {'type': 'Polygon', 'coordinates': [[[51.54312825517415, 0.08158453771637893], [51.54239368664195, 0.08075339318424218], [51.54224317555713, 0.08102205222899816], [51.54189880011218, 0.08051044149476633], [51.54327659602732, 0.07864162779565145], [51.5435722745278, 0.07863771047817263], [51.54374269259718, 0.0803248811386476], [51.54312825517415, 0.08158453771637893]]]}, 'properties': {'FID': 44, 'OA21CD': 'E00000066', 'LSOA21CD': 'E01000011', 'LSOA21NM': 'Barking and Dagenham 016C', 'LSOA21NMW': ' ', 'BNG_E': 544343, 'BNG_N': 184732, 'LAT': 51.54303, 'LONG': 0.080125, 'GlobalID': '2852c917-e974-4a6d-ba32-cf8d02749bea'}}\n",
            "{'type': 'Feature', 'id': 45, 'geometry': {'type': 'Polygon', 'coordinates': [[[51.54326725432047, 0.07473305273187404], [51.54323857490767, 0.07474499035029789], [51.54311110289043, 0.07392521996684806], [51.54267231834978, 0.07389331250032993], [51.54312708834772, 0.07245491324702844], [51.542577944839614, 0.07222396843101601], [51.54255179607657, 0.07087337681880979], [51.54289437872743, 0.07024542981438195], [51.54305915047065, 0.07072216770057808], [51.54382741468685, 0.07088228854569294], [51.54364011535495, 0.07145746062400453], [51.54389449141657, 0.07435163924052628], [51.54326725432047, 0.07473305273187404]]]}, 'properties': {'FID': 45, 'OA21CD': 'E00000067', 'LSOA21CD': 'E01000012', 'LSOA21NM': 'Barking and Dagenham 015D', 'LSOA21NMW': ' ', 'BNG_E': 543813, 'BNG_N': 184738, 'LAT': 51.54322, 'LONG': 0.07249, 'GlobalID': '244a0734-f6f1-4efa-9a9f-8178020728b5'}}\n",
            "{'type': 'Feature', 'id': 46, 'geometry': {'type': 'Polygon', 'coordinates': [[[51.54189880011218, 0.08051044149476633], [51.54169875988177, 0.08025318129689034], [51.54134147306143, 0.07964843775007675], [51.54279167533338, 0.07774095163677304], [51.54327659602732, 0.07864162779565145], [51.54189880011218, 0.08051044149476633]]]}, 'properties': {'FID': 46, 'OA21CD': 'E00000068', 'LSOA21CD': 'E01000011', 'LSOA21NM': 'Barking and Dagenham 016C', 'LSOA21NMW': ' ', 'BNG_E': 544278, 'BNG_N': 184652, 'LAT': 51.54233, 'LONG': 0.079155, 'GlobalID': '3b17ec2e-f34d-45a5-beb3-017512bc630e'}}\n",
            "{'type': 'Feature', 'id': 47, 'geometry': {'type': 'Polygon', 'coordinates': [[[51.54289507240534, 0.07719262780401552], [51.542565141963216, 0.07711724711956039], [51.54185479732859, 0.0770298803567251], [51.54141792440492, 0.07783200443687557], [51.54122604745299, 0.07759697896937053], [51.542220629970465, 0.0753608544048887], [51.5415527542737, 0.07385191145502203], [51.541899284234034, 0.0734986352922343], [51.54221381956797, 0.07319863826945741], [51.54267231834978, 0.07389331250032993], [51.54311110289043, 0.07392521996684806], [51.54323857490767, 0.07474499035029789], [51.54233754350188, 0.07566738478594835], [51.54289507240534, 0.07719262780401552]]]}, 'properties': {'FID': 47, 'OA21CD': 'E00000069', 'LSOA21CD': 'E01000012', 'LSOA21NM': 'Barking and Dagenham 015D', 'LSOA21NMW': ' ', 'BNG_E': 544011, 'BNG_N': 184637, 'LAT': 51.54226, 'LONG': 0.075302, 'GlobalID': 'de7ed2f5-f4ad-4fa1-a267-a3eb3d0d93ae'}}\n",
            "{'type': 'Feature', 'id': 48, 'geometry': {'type': 'Polygon', 'coordinates': [[[51.54867576823395, 0.15360388129633026], [51.54855465890733, 0.15258788351999472], [51.54896120197708, 0.152354985852398], [51.54899068197385, 0.1516419996094339], [51.5502816220955, 0.15135009842178884], [51.550876811627845, 0.15181932655238917], [51.550974155204955, 0.1512316343150507], [51.55127571812299, 0.1517712109144856], [51.550957434274494, 0.15336687493196718], [51.54867576823395, 0.15360388129633026]]]}, 'properties': {'FID': 48, 'OA21CD': 'E00000070', 'LSOA21CD': 'E01000016', 'LSOA21NM': 'Barking and Dagenham 009B', 'LSOA21NMW': ' ', 'BNG_E': 549335, 'BNG_N': 185638, 'LAT': 51.54987, 'LONG': 0.152443, 'GlobalID': 'cdc54c76-0eec-4aaf-9fd9-9df979fc2023'}}\n",
            "{'type': 'Feature', 'id': 49, 'geometry': {'type': 'Polygon', 'coordinates': [[[51.54563171363086, 0.1540907786942351], [51.544880278997674, 0.15431619066908855], [51.54461965439031, 0.15373948193118178], [51.544103523990096, 0.15386292986706862], [51.54387132573258, 0.1527126091919327], [51.54406039017899, 0.15192210204019527], [51.544498499519584, 0.1518158996832702], [51.54465165732437, 0.1523270932132842], [51.54581254982934, 0.15207910275556846], [51.54588251272486, 0.1527583468432276], [51.54598209040696, 0.1537013698852924], [51.54563171363086, 0.1540907786942351]]]}, 'properties': {'FID': 49, 'OA21CD': 'E00000071', 'LSOA21CD': 'E01000015', 'LSOA21NM': 'Barking and Dagenham 009A', 'LSOA21NMW': ' ', 'BNG_E': 549397, 'BNG_N': 185091, 'LAT': 51.54494, 'LONG': 0.153104, 'GlobalID': 'ae39045e-c642-418d-a6f2-fef264b487d4'}}\n",
            "{'type': 'Feature', 'id': 50, 'geometry': {'type': 'Polygon', 'coordinates': [[[51.549603977648, 0.14752706647860347], [51.54927972162771, 0.14703024965260608], [51.5498794407165, 0.1459853001494716], [51.54982892126607, 0.14518793431027371], [51.550377329149846, 0.1451574805664644], [51.55064665796402, 0.144513970105973], [51.55108600905149, 0.14510265953291956], [51.55115088999519, 0.14741505437038205], [51.549603977648, 0.14752706647860347]]]}, 'properties': {'FID': 50, 'OA21CD': 'E00000072', 'LSOA21CD': 'E01000017', 'LSOA21NM': 'Barking and Dagenham 009C', 'LSOA21NMW': ' ', 'BNG_E': 548912, 'BNG_N': 185665, 'LAT': 51.55023, 'LONG': 0.146358, 'GlobalID': 'cc386f32-53ec-4030-a1da-d14690522111'}}\n",
            "{'type': 'Feature', 'id': 51, 'geometry': {'type': 'Polygon', 'coordinates': [[[51.54961870944055, 0.15025867732944168], [51.54967152025805, 0.14923603908174407], [51.55001899004905, 0.14894436465181557], [51.549603977648, 0.14752706647860347], [51.55115088999519, 0.14741505437038205], [51.55127863962478, 0.14968227277064097], [51.55090731724432, 0.1503187693989636], [51.54961870944055, 0.15025867732944168]]]}, 'properties': {'FID': 51, 'OA21CD': 'E00000073', 'LSOA21CD': 'E01000017', 'LSOA21NM': 'Barking and Dagenham 009C', 'LSOA21NMW': ' ', 'BNG_E': 549086, 'BNG_N': 185693, 'LAT': 51.55043, 'LONG': 0.148877, 'GlobalID': '4bfb1b03-aeb2-42f3-a910-ff7c071b12ab'}}\n",
            "{'type': 'Feature', 'id': 52, 'geometry': {'type': 'Polygon', 'coordinates': [[[51.55127571812299, 0.1517712109144856], [51.550974155204955, 0.1512316343150507], [51.550876811627845, 0.15181932655238917], [51.5502816220955, 0.15135009842178884], [51.54899068197385, 0.1516419996094339], [51.54834381772616, 0.15082169178878838], [51.54961870944055, 0.15025867732944168], [51.55090731724432, 0.1503187693989636], [51.55127863962478, 0.14968227277064097], [51.55131322788283, 0.15176960288673896], [51.55127571812299, 0.1517712109144856]]]}, 'properties': {'FID': 52, 'OA21CD': 'E00000074', 'LSOA21CD': 'E01000016', 'LSOA21NM': 'Barking and Dagenham 009B', 'LSOA21NMW': ' ', 'BNG_E': 549217, 'BNG_N': 185638, 'LAT': 51.5499, 'LONG': 0.150742, 'GlobalID': 'd46c0a9c-78af-4f67-961c-32cf10a1566c'}}\n",
            "{'type': 'Feature', 'id': 53, 'geometry': {'type': 'Polygon', 'coordinates': [[[51.54982892126607, 0.14518793431027371], [51.54949038378037, 0.1452997324692306], [51.54928779519654, 0.14410144724594276], [51.549725255430175, 0.14407066781594496], [51.549854129663565, 0.14345687769049378], [51.54934004223332, 0.14335746137568184], [51.548600724107594, 0.1437768281752683], [51.548138212370255, 0.14564310891869975], [51.54758259234553, 0.14575514924084218], [51.54840280818392, 0.14328825227335282], [51.54863643157589, 0.14310696415442983], [51.549456060981235, 0.14288772911087186], [51.550961822381815, 0.1427722108148184], [51.55108600905149, 0.14510265953291956], [51.55064665796402, 0.144513970105973], [51.550377329149846, 0.1451574805664644], [51.54982892126607, 0.14518793431027371]]]}, 'properties': {'FID': 53, 'OA21CD': 'E00000075', 'LSOA21CD': 'E01000017', 'LSOA21NM': 'Barking and Dagenham 009C', 'LSOA21NMW': ' ', 'BNG_E': 548777, 'BNG_N': 185663, 'LAT': 51.55024, 'LONG': 0.144411, 'GlobalID': '4e0c47c9-7ffc-433a-b44e-2e03d0029b58'}}\n",
            "{'type': 'Feature', 'id': 54, 'geometry': {'type': 'Polygon', 'coordinates': [[[51.54961870944055, 0.15025867732944168], [51.54834381772616, 0.15082169178878838], [51.54774023422533, 0.14973237121565874], [51.54825213804274, 0.14971332116745797], [51.547776711465076, 0.14882265507323228], [51.54828753232527, 0.14808309348405585], [51.549324055086274, 0.14808004713765424], [51.549334411971365, 0.1491004647655526], [51.54967152025805, 0.14923603908174407], [51.54961870944055, 0.15025867732944168]]]}, 'properties': {'FID': 54, 'OA21CD': 'E00000076', 'LSOA21CD': 'E01000016', 'LSOA21NM': 'Barking and Dagenham 009B', 'LSOA21NMW': ' ', 'BNG_E': 549132, 'BNG_N': 185512, 'LAT': 51.54879, 'LONG': 0.149464, 'GlobalID': 'cdda69ad-099e-4cae-a733-43693291ffc7'}}\n",
            "{'type': 'Feature', 'id': 55, 'geometry': {'type': 'Polygon', 'coordinates': [[[51.54592497714087, 0.14782809647178763], [51.54587577903641, 0.14705254910105245], [51.54645734222213, 0.14644634757733793], [51.547267707785004, 0.14550619075035673], [51.54758259234553, 0.14575514924084218], [51.548138212370255, 0.14564310891869975], [51.5489460890871, 0.1464793417227506], [51.548970149745976, 0.14706187296974613], [51.54820825629018, 0.14701542639925874], [51.54780365109471, 0.1476870037890334], [51.54592497714087, 0.14782809647178763]]]}, 'properties': {'FID': 55, 'OA21CD': 'E00000077', 'LSOA21CD': 'E01000017', 'LSOA21NM': 'Barking and Dagenham 009C', 'LSOA21NMW': ' ', 'BNG_E': 548947, 'BNG_N': 185385, 'LAT': 51.5477, 'LONG': 0.146744, 'GlobalID': '3071d775-c2c6-4892-9d3e-b6b3361cc94d'}}\n",
            "{'type': 'Feature', 'id': 56, 'geometry': {'type': 'Polygon', 'coordinates': [[[51.54927972162771, 0.14703024965260608], [51.548970149745976, 0.14706187296974613], [51.5489460890871, 0.1464793417227506], [51.548138212370255, 0.14564310891869975], [51.548600724107594, 0.1437768281752683], [51.54934004223332, 0.14335746137568184], [51.549854129663565, 0.14345687769049378], [51.549725255430175, 0.14407066781594496], [51.54928779519654, 0.14410144724594276], [51.54949038378037, 0.1452997324692306], [51.54982892126607, 0.14518793431027371], [51.5498794407165, 0.1459853001494716], [51.54927972162771, 0.14703024965260608]]]}, 'properties': {'FID': 56, 'OA21CD': 'E00000078', 'LSOA21CD': 'E01000017', 'LSOA21NM': 'Barking and Dagenham 009C', 'LSOA21NMW': ' ', 'BNG_E': 548845, 'BNG_N': 185528, 'LAT': 51.54901, 'LONG': 0.145334, 'GlobalID': '129301b6-da61-451a-aaa7-8c21a85f76b9'}}\n",
            "{'type': 'Feature', 'id': 57, 'geometry': {'type': 'Polygon', 'coordinates': [[[51.54867576823395, 0.15360388129633026], [51.54789736714811, 0.15380373739114103], [51.54798055510008, 0.15250370084635914], [51.547230602226016, 0.15119507843973043], [51.547210608729834, 0.15048600630955697], [51.54642975246766, 0.15057335157831964], [51.54619152533103, 0.14964745181819405], [51.54740211466281, 0.14921295485628464], [51.54774023422533, 0.14973237121565874], [51.54834381772616, 0.15082169178878838], [51.54899068197385, 0.1516419996094339], [51.54896120197708, 0.152354985852398], [51.54855465890733, 0.15258788351999472], [51.54867576823395, 0.15360388129633026]]]}, 'properties': {'FID': 57, 'OA21CD': 'E00000079', 'LSOA21CD': 'E01000018', 'LSOA21NM': 'Barking and Dagenham 009D', 'LSOA21NMW': ' ', 'BNG_E': 549226, 'BNG_N': 185380, 'LAT': 51.54758, 'LONG': 0.150762, 'GlobalID': 'cb6d4a9a-2349-4f78-b5d8-b71e0f5932d1'}}\n",
            "{'type': 'Feature', 'id': 58, 'geometry': {'type': 'Polygon', 'coordinates': [[[51.54531267493033, 0.15970692494938266], [51.54448475884611, 0.1603724389685819], [51.543880160101814, 0.16149965430296465], [51.54331102582857, 0.16151209219077248], [51.543142707052596, 0.16064615646713953], [51.5426901881364, 0.15808497895772047], [51.54398140060886, 0.15701495552713285], [51.54482019727531, 0.15783717780483983], [51.54535470442771, 0.15729080035126244], [51.54583181061649, 0.1576183718063783], [51.54621314622655, 0.15681816552356753], [51.54700821283555, 0.15672564274933082], [51.5466601876436, 0.15609742334117033], [51.54747793909631, 0.15456977394046933], [51.54754908546821, 0.15447260394616455], [51.54827977816621, 0.15576493189626997], [51.548347057132865, 0.15669917844806194], [51.54830728601217, 0.15722617170374295], [51.54774908798808, 0.15729011370367565], [51.54777330950364, 0.15852607384127274], [51.54640958666031, 0.15876530281921689], [51.54531267493033, 0.15970692494938266]]]}, 'properties': {'FID': 58, 'OA21CD': 'E00000080', 'LSOA21CD': 'E01000015', 'LSOA21NM': 'Barking and Dagenham 009A', 'LSOA21NMW': ' ', 'BNG_E': 549737, 'BNG_N': 185146, 'LAT': 51.54535, 'LONG': 0.158027, 'GlobalID': '8f32c6c6-4a7a-4960-9a1b-d3daa9705f0a'}}\n",
            "{'type': 'Feature', 'id': 59, 'geometry': {'type': 'Polygon', 'coordinates': [[[51.54967152025805, 0.14923603908174407], [51.549334411971365, 0.1491004647655526], [51.549324055086274, 0.14808004713765424], [51.54828753232527, 0.14808309348405585], [51.547776711465076, 0.14882265507323228], [51.54825213804274, 0.14971332116745797], [51.54774023422533, 0.14973237121565874], [51.54740211466281, 0.14921295485628464], [51.54738844635424, 0.14839011886378828], [51.54630419472092, 0.14847830733070372], [51.545914999606175, 0.14792607751658435], [51.54592497714087, 0.14782809647178763], [51.54780365109471, 0.1476870037890334], [51.54820825629018, 0.14701542639925874], [51.548970149745976, 0.14706187296974613], [51.54927972162771, 0.14703024965260608], [51.549603977648, 0.14752706647860347], [51.55001899004905, 0.14894436465181557], [51.54967152025805, 0.14923603908174407]]]}, 'properties': {'FID': 59, 'OA21CD': 'E00000081', 'LSOA21CD': 'E01000016', 'LSOA21NM': 'Barking and Dagenham 009B', 'LSOA21NMW': ' ', 'BNG_E': 549060, 'BNG_N': 185273, 'LAT': 51.54667, 'LONG': 0.148325, 'GlobalID': '0481392a-b64c-4ae9-8e23-73ddb089087f'}}\n",
            "{'type': 'Feature', 'id': 60, 'geometry': {'type': 'Polygon', 'coordinates': [[[51.54789736714811, 0.15380373739114103], [51.54754908546821, 0.15447260394616455], [51.54747793909631, 0.15456977394046933], [51.5470192483506, 0.15382607129807777], [51.54598209040696, 0.1537013698852924], [51.54588251272486, 0.1527583468432276], [51.54634040000988, 0.15208335916213497], [51.54687036660239, 0.15191391559224218], [51.547230602226016, 0.15119507843973043], [51.54798055510008, 0.15250370084635914], [51.54789736714811, 0.15380373739114103]]]}, 'properties': {'FID': 60, 'OA21CD': 'E00000082', 'LSOA21CD': 'E01000018', 'LSOA21NM': 'Barking and Dagenham 009D', 'LSOA21NMW': ' ', 'BNG_E': 549376, 'BNG_N': 185302, 'LAT': 51.54684, 'LONG': 0.152891, 'GlobalID': '473a9778-b4bf-4b31-b670-0ad67b2df44f'}}\n",
            "{'type': 'Feature', 'id': 61, 'geometry': {'type': 'Polygon', 'coordinates': [[[51.547230602226016, 0.15119507843973043], [51.54687036660239, 0.15191391559224218], [51.54634040000988, 0.15208335916213497], [51.54631825853596, 0.15134435774262425], [51.545524385342006, 0.15076740690211504], [51.54577813608652, 0.15017874714737364], [51.54558048169255, 0.14849714212133996], [51.545914999606175, 0.14792607751658435], [51.54630419472092, 0.14847830733070372], [51.54738844635424, 0.14839011886378828], [51.54740211466281, 0.14921295485628464], [51.54619152533103, 0.14964745181819405], [51.54642975246766, 0.15057335157831964], [51.547210608729834, 0.15048600630955697], [51.547230602226016, 0.15119507843973043]]]}, 'properties': {'FID': 61, 'OA21CD': 'E00000083', 'LSOA21CD': 'E01000018', 'LSOA21NM': 'Barking and Dagenham 009D', 'LSOA21NMW': ' ', 'BNG_E': 549267, 'BNG_N': 185257, 'LAT': 51.54647, 'LONG': 0.151301, 'GlobalID': 'b94e8e12-fc58-4fff-bc04-839fbe43fb31'}}\n",
            "{'type': 'Feature', 'id': 62, 'geometry': {'type': 'Polygon', 'coordinates': [[[51.54486580836613, 0.15662963106777494], [51.544496183214015, 0.15639297304918803], [51.544573371619414, 0.15523410925927983], [51.54418916320284, 0.15492909075266298], [51.54379357562432, 0.15522973720409128], [51.54335051176854, 0.15427552565727976], [51.54323867052931, 0.15285817770296453], [51.54387132573258, 0.1527126091919327], [51.544103523990096, 0.15386292986706862], [51.54461965439031, 0.15373948193118178], [51.544880278997674, 0.15431619066908855], [51.54563171363086, 0.1540907786942351], [51.54574838474783, 0.15471345991084506], [51.54486580836613, 0.15662963106777494]]]}, 'properties': {'FID': 62, 'OA21CD': 'E00000084', 'LSOA21CD': 'E01000015', 'LSOA21NM': 'Barking and Dagenham 009A', 'LSOA21NMW': ' ', 'BNG_E': 549508, 'BNG_N': 185056, 'LAT': 51.5446, 'LONG': 0.154689, 'GlobalID': '4a08ff65-1eab-4ce7-b70b-cb4a1812f4c5'}}\n",
            "{'type': 'Feature', 'id': 63, 'geometry': {'type': 'Polygon', 'coordinates': [[[51.5463679104472, 0.1445897350123048], [51.54600509770382, 0.1447285101160632], [51.544907874679886, 0.14376577519787065], [51.544767816519936, 0.14297263243007094], [51.54508297534359, 0.14206525094084066], [51.545325452184315, 0.14229516775101733], [51.54549034603972, 0.14190209722430827], [51.54662099732085, 0.14294923152842762], [51.5463679104472, 0.1445897350123048]]]}, 'properties': {'FID': 63, 'OA21CD': 'E00000085', 'LSOA21CD': 'E01000014', 'LSOA21NM': 'Barking and Dagenham 013B', 'LSOA21NMW': ' ', 'BNG_E': 548718, 'BNG_N': 185153, 'LAT': 51.54568, 'LONG': 0.143346, 'GlobalID': 'ff21ec09-8af8-4ff5-8a05-36832035a2c8'}}\n",
            "{'type': 'Feature', 'id': 64, 'geometry': {'type': 'Polygon', 'coordinates': [[[51.54587577903641, 0.14705254910105245], [51.54579055889662, 0.14603973038293389], [51.545356807293736, 0.14674996135459223], [51.544645358568204, 0.14680302132827466], [51.54395223586456, 0.14621581315225124], [51.54418254157929, 0.1457768747719944], [51.545361453826864, 0.1461898559077239], [51.54569224728285, 0.14563993199440453], [51.544729715142886, 0.14450882993963102], [51.544907874679886, 0.14376577519787065], [51.54600509770382, 0.1447285101160632], [51.5463679104472, 0.1445897350123048], [51.54615535456237, 0.1460096331288399], [51.54645734222213, 0.14644634757733793], [51.54587577903641, 0.14705254910105245]]]}, 'properties': {'FID': 64, 'OA21CD': 'E00000086', 'LSOA21CD': 'E01000014', 'LSOA21NM': 'Barking and Dagenham 013B', 'LSOA21NMW': ' ', 'BNG_E': 548867, 'BNG_N': 185196, 'LAT': 51.54602, 'LONG': 0.145511, 'GlobalID': '99a3b2cb-744d-47cc-be89-c9f5938cd622'}}\n",
            "{'type': 'Feature', 'id': 65, 'geometry': {'type': 'Polygon', 'coordinates': [[[51.545914999606175, 0.14792607751658435], [51.54558048169255, 0.14849714212133996], [51.545115444852385, 0.14808241872574227], [51.54476809565525, 0.14861378407970718], [51.5442449895536, 0.14792353056709218], [51.54426838443427, 0.14728571941167065], [51.54362938754479, 0.14734601208837142], [51.54395223586456, 0.14621581315225124], [51.544645358568204, 0.14680302132827466], [51.545356807293736, 0.14674996135459223], [51.54579055889662, 0.14603973038293389], [51.54587577903641, 0.14705254910105245], [51.54592497714087, 0.14782809647178763], [51.545914999606175, 0.14792607751658435]]]}, 'properties': {'FID': 65, 'OA21CD': 'E00000087', 'LSOA21CD': 'E01000014', 'LSOA21NM': 'Barking and Dagenham 013B', 'LSOA21NMW': ' ', 'BNG_E': 548997, 'BNG_N': 185054, 'LAT': 51.54471, 'LONG': 0.147324, 'GlobalID': '5f86b0b8-a57d-49f2-8ffd-36967b7f3493'}}\n",
            "{'type': 'Feature', 'id': 66, 'geometry': {'type': 'Polygon', 'coordinates': [[[51.545524385342006, 0.15076740690211504], [51.54470121837563, 0.15113129240397835], [51.54461602532566, 0.1500985148055578], [51.5441768298648, 0.15014190200693434], [51.54400937314541, 0.14956386328347304], [51.5442449895536, 0.14792353056709218], [51.54476809565525, 0.14861378407970718], [51.545115444852385, 0.14808241872574227], [51.54558048169255, 0.14849714212133996], [51.54577813608652, 0.15017874714737364], [51.545524385342006, 0.15076740690211504]]]}, 'properties': {'FID': 66, 'OA21CD': 'E00000088', 'LSOA21CD': 'E01000018', 'LSOA21NM': 'Barking and Dagenham 009D', 'LSOA21NMW': ' ', 'BNG_E': 549171, 'BNG_N': 185079, 'LAT': 51.54489, 'LONG': 0.149842, 'GlobalID': '3024cfb4-a391-498d-8b40-53bbb9fdbdf8'}}\n",
            "{'type': 'Feature', 'id': 67, 'geometry': {'type': 'Polygon', 'coordinates': [[[51.54535470442771, 0.15729080035126244], [51.54486580836613, 0.15662963106777494], [51.54574838474783, 0.15471345991084506], [51.54563171363086, 0.1540907786942351], [51.54598209040696, 0.1537013698852924], [51.5470192483506, 0.15382607129807777], [51.54747793909631, 0.15456977394046933], [51.5466601876436, 0.15609742334117033], [51.54700821283555, 0.15672564274933082], [51.54621314622655, 0.15681816552356753], [51.54583181061649, 0.1576183718063783], [51.54535470442771, 0.15729080035126244]]]}, 'properties': {'FID': 67, 'OA21CD': 'E00000089', 'LSOA21CD': 'E01000018', 'LSOA21NM': 'Barking and Dagenham 009D', 'LSOA21NMW': ' ', 'BNG_E': 549548, 'BNG_N': 185233, 'LAT': 51.54618, 'LONG': 0.15534, 'GlobalID': '46d3fc10-820a-4988-912c-df2030bf5e42'}}\n",
            "{'type': 'Feature', 'id': 68, 'geometry': {'type': 'Polygon', 'coordinates': [[[51.54395223586456, 0.14621581315225124], [51.54346644373105, 0.14577243113948388], [51.54347001728519, 0.14482864742254412], [51.54384794961893, 0.1441635911997474], [51.544294560124015, 0.14317349063450313], [51.544767816519936, 0.14297263243007094], [51.544907874679886, 0.14376577519787065], [51.544729715142886, 0.14450882993963102], [51.54569224728285, 0.14563993199440453], [51.545361453826864, 0.1461898559077239], [51.54418254157929, 0.1457768747719944], [51.54395223586456, 0.14621581315225124]]]}, 'properties': {'FID': 68, 'OA21CD': 'E00000090', 'LSOA21CD': 'E01000013', 'LSOA21NM': 'Barking and Dagenham 013A', 'LSOA21NMW': ' ', 'BNG_E': 548809, 'BNG_N': 185036, 'LAT': 51.5446, 'LONG': 0.144608, 'GlobalID': 'ebf66404-9265-4712-a361-6dd2fc2297e7'}}\n",
            "{'type': 'Feature', 'id': 69, 'geometry': {'type': 'Polygon', 'coordinates': [[[51.5426901881364, 0.15808497895772047], [51.54253852918279, 0.15719676241238578], [51.5422554565236, 0.15525290091637622], [51.54335051176854, 0.15427552565727976], [51.54379357562432, 0.15522973720409128], [51.54418916320284, 0.15492909075266298], [51.544573371619414, 0.15523410925927983], [51.544496183214015, 0.15639297304918803], [51.54486580836613, 0.15662963106777494], [51.54535470442771, 0.15729080035126244], [51.54482019727531, 0.15783717780483983], [51.54398140060886, 0.15701495552713285], [51.5426901881364, 0.15808497895772047]]]}, 'properties': {'FID': 69, 'OA21CD': 'E00000091', 'LSOA21CD': 'E01000015', 'LSOA21NM': 'Barking and Dagenham 009A', 'LSOA21NMW': ' ', 'BNG_E': 549619, 'BNG_N': 184931, 'LAT': 51.54344, 'LONG': 0.156235, 'GlobalID': '483dde54-5eed-4775-aaf3-8047638fc045'}}\n",
            "{'type': 'Feature', 'id': 70, 'geometry': {'type': 'Polygon', 'coordinates': [[[51.54508297534359, 0.14206525094084066], [51.544767816519936, 0.14297263243007094], [51.544294560124015, 0.14317349063450313], [51.54384794961893, 0.1441635911997474], [51.54325332011059, 0.14385250130672958], [51.54280473159729, 0.14257328809802022], [51.54230400979816, 0.1425743693715725], [51.541757857840494, 0.14055880553533215], [51.54146224884496, 0.1373861459583495], [51.54201366845668, 0.13677712988146215], [51.54161715818261, 0.13391287934106533], [51.54188065715484, 0.13418915201514048], [51.54377237892513, 0.13188632453953522], [51.544231816162664, 0.1367455560463067], [51.54567329054077, 0.13857540696485987], [51.54453947815541, 0.14154915812026236], [51.54508297534359, 0.14206525094084066]]]}, 'properties': {'FID': 70, 'OA21CD': 'E00000092', 'LSOA21CD': 'E01000014', 'LSOA21NM': 'Barking and Dagenham 013B', 'LSOA21NMW': ' ', 'BNG_E': 548350, 'BNG_N': 184906, 'LAT': 51.54355, 'LONG': 0.137938, 'GlobalID': 'f6c05bae-683a-41f6-b83b-ea3dc8ec77dc'}}\n",
            "{'type': 'Feature', 'id': 71, 'geometry': {'type': 'Polygon', 'coordinates': [[[51.5442449895536, 0.14792353056709218], [51.54400937314541, 0.14956386328347304], [51.543054115851355, 0.1497422810557451], [51.542910478333994, 0.15029152170153506], [51.541724142203066, 0.14983537715511608], [51.54159693212334, 0.14790335128133236], [51.541552629801785, 0.1472132846687411], [51.54362938754479, 0.14734601208837142], [51.54426838443427, 0.14728571941167065], [51.5442449895536, 0.14792353056709218]]]}, 'properties': {'FID': 71, 'OA21CD': 'E00000093', 'LSOA21CD': 'E01000013', 'LSOA21NM': 'Barking and Dagenham 013A', 'LSOA21NMW': ' ', 'BNG_E': 549099, 'BNG_N': 184854, 'LAT': 51.54289, 'LONG': 0.14871, 'GlobalID': '85f90528-ef35-4329-98c1-eab8e68c5fc5'}}\n",
            "{'type': 'Feature', 'id': 72, 'geometry': {'type': 'Polygon', 'coordinates': [[[51.54588251272486, 0.1527583468432276], [51.54581254982934, 0.15207910275556846], [51.54465165732437, 0.1523270932132842], [51.544498499519584, 0.1518158996832702], [51.54406039017899, 0.15192210204019527], [51.54398441157107, 0.15141801875889088], [51.54303050815119, 0.15160325428095772], [51.542910478333994, 0.15029152170153506], [51.543054115851355, 0.1497422810557451], [51.54400937314541, 0.14956386328347304], [51.5441768298648, 0.15014190200693434], [51.54461602532566, 0.1500985148055578], [51.54470121837563, 0.15113129240397835], [51.545524385342006, 0.15076740690211504], [51.54631825853596, 0.15134435774262425], [51.54634040000988, 0.15208335916213497], [51.54588251272486, 0.1527583468432276]]]}, 'properties': {'FID': 72, 'OA21CD': 'E00000094', 'LSOA21CD': 'E01000013', 'LSOA21NM': 'Barking and Dagenham 013A', 'LSOA21NMW': ' ', 'BNG_E': 549264, 'BNG_N': 184965, 'LAT': 51.54384, 'LONG': 0.151134, 'GlobalID': 'd12081d7-2361-4041-aedf-455f8e105c59'}}\n",
            "{'type': 'Feature', 'id': 73, 'geometry': {'type': 'Polygon', 'coordinates': [[[51.54387132573258, 0.1527126091919327], [51.54323867052931, 0.15285817770296453], [51.54335051176854, 0.15427552565727976], [51.5422554565236, 0.15525290091637622], [51.542236396206576, 0.15510645697958467], [51.54186081339223, 0.15168626585038683], [51.54178364312758, 0.15067960911894063], [51.541724142203066, 0.14983537715511608], [51.542910478333994, 0.15029152170153506], [51.54303050815119, 0.15160325428095772], [51.54398441157107, 0.15141801875889088], [51.54406039017899, 0.15192210204019527], [51.54387132573258, 0.1527126091919327]]]}, 'properties': {'FID': 73, 'OA21CD': 'E00000095', 'LSOA21CD': 'E01000015', 'LSOA21NM': 'Barking and Dagenham 009A', 'LSOA21NMW': ' ', 'BNG_E': 549379, 'BNG_N': 184860, 'LAT': 51.54287, 'LONG': 0.152747, 'GlobalID': '0b42dd2c-e11f-4ce1-b44d-49356299b64d'}}\n",
            "{'type': 'Feature', 'id': 74, 'geometry': {'type': 'Polygon', 'coordinates': [[[51.54362938754479, 0.14734601208837142], [51.541552629801785, 0.1472132846687411], [51.54132361272925, 0.14365890079081542], [51.54128391644753, 0.1430426375847224], [51.541910081964375, 0.14304361910175575], [51.5422318806881, 0.1436344705051423], [51.54231847482423, 0.14416219562212995], [51.542019434156686, 0.14468680218829738], [51.542515178466836, 0.1456768250380709], [51.54325272634947, 0.14612553871353665], [51.54346644373105, 0.14577243113948388], [51.54395223586456, 0.14621581315225124], [51.54362938754479, 0.14734601208837142]]]}, 'properties': {'FID': 74, 'OA21CD': 'E00000096', 'LSOA21CD': 'E01000013', 'LSOA21NM': 'Barking and Dagenham 013A', 'LSOA21NMW': ' ', 'BNG_E': 548867, 'BNG_N': 184736, 'LAT': 51.54189, 'LONG': 0.145317, 'GlobalID': '197eaa7f-93d3-42f9-a29e-c3048ed77488'}}\n",
            "{'type': 'Feature', 'id': 75, 'geometry': {'type': 'Polygon', 'coordinates': [[[51.54346644373105, 0.14577243113948388], [51.54325272634947, 0.14612553871353665], [51.542515178466836, 0.1456768250380709], [51.542019434156686, 0.14468680218829738], [51.54231847482423, 0.14416219562212995], [51.5422318806881, 0.1436344705051423], [51.541910081964375, 0.14304361910175575], [51.54128391644753, 0.1430426375847224], [51.54113387055009, 0.14056980042362682], [51.541757857840494, 0.14055880553533215], [51.54230400979816, 0.1425743693715725], [51.54280473159729, 0.14257328809802022], [51.54325332011059, 0.14385250130672958], [51.54384794961893, 0.1441635911997474], [51.54347001728519, 0.14482864742254412], [51.54346644373105, 0.14577243113948388]]]}, 'properties': {'FID': 75, 'OA21CD': 'E00000097', 'LSOA21CD': 'E01000013', 'LSOA21NM': 'Barking and Dagenham 013A', 'LSOA21NMW': ' ', 'BNG_E': 548779, 'BNG_N': 184796, 'LAT': 51.54245, 'LONG': 0.144074, 'GlobalID': '718e1e34-02dc-4810-abdc-a1caf8abd6b0'}}\n",
            "{'type': 'Feature', 'id': 76, 'geometry': {'type': 'Polygon', 'coordinates': [[[51.54146224884496, 0.1373861459583495], [51.54091711204126, 0.13731417537257515], [51.540886513349356, 0.1368480101073289], [51.540718635809746, 0.13422214471203908], [51.54071576811917, 0.13417750651497348], [51.54161715818261, 0.13391287934106533], [51.54201366845668, 0.13677712988146215], [51.54146224884496, 0.1373861459583495]]]}, 'properties': {'FID': 76, 'OA21CD': 'E00000098', 'LSOA21CD': 'E01000014', 'LSOA21NM': 'Barking and Dagenham 013B', 'LSOA21NMW': ' ', 'BNG_E': 548201, 'BNG_N': 184657, 'LAT': 51.54136, 'LONG': 0.135687, 'GlobalID': '382f6c16-27bd-465d-a26a-3f60a6fa69e1'}}\n",
            "{'type': 'Feature', 'id': 77, 'geometry': {'type': 'Polygon', 'coordinates': [[[51.54113387055009, 0.14056980042362682], [51.54111476463726, 0.14022756649442825], [51.54091711204126, 0.13731417537257515], [51.54146224884496, 0.1373861459583495], [51.541757857840494, 0.14055880553533215], [51.54113387055009, 0.14056980042362682]]]}, 'properties': {'FID': 77, 'OA21CD': 'E00000099', 'LSOA21CD': 'E01000014', 'LSOA21NM': 'Barking and Dagenham 013B', 'LSOA21NMW': ' ', 'BNG_E': 548431, 'BNG_N': 184661, 'LAT': 51.54133, 'LONG': 0.139002, 'GlobalID': 'd9beae8e-cf79-4239-8ac1-27261d029386'}}\n",
            "{'type': 'Feature', 'id': 78, 'geometry': {'type': 'Polygon', 'coordinates': [[[51.55101885017143, 0.15634925934134455], [51.54871352719755, 0.15645441591489678], [51.548347057132865, 0.15669917844806194], [51.54827977816621, 0.15576493189626997], [51.54754908546821, 0.15447260394616455], [51.54789736714811, 0.15380373739114103], [51.54867576823395, 0.15360388129633026], [51.550957434274494, 0.15336687493196718], [51.55127571812299, 0.1517712109144856], [51.55131322788283, 0.15176960288673896], [51.55133726854123, 0.15258117269538019], [51.55101885017143, 0.15634925934134455]]]}, 'properties': {'FID': 78, 'OA21CD': 'E00000100', 'LSOA21CD': 'E01000016', 'LSOA21NM': 'Barking and Dagenham 009B', 'LSOA21NMW': ' ', 'BNG_E': 549461, 'BNG_N': 185601, 'LAT': 51.54951, 'LONG': 0.154243, 'GlobalID': 'b633b856-92b4-4a30-b515-0987d45fb946'}}\n",
            "{'type': 'Feature', 'id': 79, 'geometry': {'type': 'Polygon', 'coordinates': [[[51.55272605476193, 0.1213400591048774], [51.55222333477117, 0.12139881568465878], [51.55192881942116, 0.11890403557303207], [51.55158200296849, 0.11929240744860468], [51.55124264959802, 0.1187981641372634], [51.55141802623191, 0.1172896607490948], [51.55151514781399, 0.11615669243566945], [51.551935440310814, 0.11700116674409079], [51.55251012234511, 0.11688211512386908], [51.552570697747214, 0.11942244763784758], [51.553184438059134, 0.11936088580381639], [51.553249787867856, 0.12029832455779005], [51.552752752948706, 0.12038334567758613], [51.55272605476193, 0.1213400591048774]]]}, 'properties': {'FID': 79, 'OA21CD': 'E00000101', 'LSOA21CD': 'E01000024', 'LSOA21NM': 'Barking and Dagenham 008D', 'LSOA21NMW': ' ', 'BNG_E': 547022, 'BNG_N': 185836, 'LAT': 51.55226, 'LONG': 0.11919, 'GlobalID': 'a2ba84b9-9e1c-4a60-a6dc-522d056123fa'}}\n",
            "{'type': 'Feature', 'id': 80, 'geometry': {'type': 'Polygon', 'coordinates': [[[51.55143866671761, 0.12430376659875733], [51.55130239064269, 0.12437514864027396], [51.55122979286664, 0.12358636282122205], [51.55109584662755, 0.12047071666226715], [51.55124264959802, 0.1187981641372634], [51.55158200296849, 0.11929240744860468], [51.55192881942116, 0.11890403557303207], [51.55222333477117, 0.12139881568465878], [51.55272605476193, 0.1213400591048774], [51.55281242405746, 0.12219088383259491], [51.55221264140278, 0.1223484846728347], [51.55253492845474, 0.12313548307671981], [51.55222427862471, 0.12267202108443935], [51.55188738811618, 0.12329681845825861], [51.551619954702886, 0.12306213752015813], [51.55150917005574, 0.12391777030944548], [51.55170460095186, 0.12408466603149919], [51.55143866671761, 0.12430376659875733]]]}, 'properties': {'FID': 80, 'OA21CD': 'E00000102', 'LSOA21CD': 'E01000024', 'LSOA21NM': 'Barking and Dagenham 008D', 'LSOA21NMW': ' ', 'BNG_E': 547163, 'BNG_N': 185806, 'LAT': 51.55195, 'LONG': 0.12121, 'GlobalID': 'bed93773-0b58-4066-94a1-93b195ac7b20'}}\n",
            "{'type': 'Feature', 'id': 81, 'geometry': {'type': 'Polygon', 'coordinates': [[[51.56225109858621, 0.12410215038985148], [51.56330000762069, 0.1202714877471903], [51.56362489805984, 0.12196266186514826], [51.56417383317845, 0.12478746569133425], [51.56225109858621, 0.12410215038985148]]]}, 'properties': {'FID': 81, 'OA21CD': 'E00000103', 'LSOA21CD': 'E01032580', 'LSOA21NM': 'Barking and Dagenham 023F', 'LSOA21NMW': ' ', 'BNG_E': 547203, 'BNG_N': 187064, 'LAT': 51.56324, 'LONG': 0.122312, 'GlobalID': '14612969-dfce-422a-a633-a381a07be74a'}}\n",
            "{'type': 'Feature', 'id': 82, 'geometry': {'type': 'Polygon', 'coordinates': [[[51.558717067582485, 0.12187875563114114], [51.55642542954991, 0.11928427646825643], [51.555260292006395, 0.11751187717960913], [51.55589951106767, 0.11722066117964747], [51.5558871050241, 0.11620717588614257], [51.556891590629455, 0.1171510237748745], [51.55738753408158, 0.11713250165098758], [51.55734763288171, 0.11893764612485923], [51.55854136074736, 0.12048795506116503], [51.55865424750088, 0.11978081278408993], [51.55915590351196, 0.11993190809975919], [51.55943066616273, 0.12079555730588575], [51.55917465376116, 0.12165609456264911], [51.558717067582485, 0.12187875563114114]]]}, 'properties': {'FID': 82, 'OA21CD': 'E00000104', 'LSOA21CD': 'E01000019', 'LSOA21NM': 'Barking and Dagenham 023A', 'LSOA21NMW': ' ', 'BNG_E': 546994, 'BNG_N': 186348, 'LAT': 51.55687, 'LONG': 0.119, 'GlobalID': 'e7ff4dad-92a1-4859-a1da-1734c3ee95f1'}}\n",
            "{'type': 'Feature', 'id': 83, 'geometry': {'type': 'Polygon', 'coordinates': [[[51.561909834696806, 0.12210732302943518], [51.5614862424942, 0.1213175162717092], [51.56064160729771, 0.12176451819474433], [51.56036330271714, 0.12127249651232978], [51.56082708452116, 0.11999302148198067], [51.56053962326551, 0.11949647396861256], [51.56078863045495, 0.11858882107965224], [51.56146628883084, 0.11905031168583445], [51.56249271516302, 0.11975012763268802], [51.562315704909345, 0.12092971488940327], [51.56251020604035, 0.12154017401666913], [51.561909834696806, 0.12210732302943518]]]}, 'properties': {'FID': 83, 'OA21CD': 'E00000106', 'LSOA21CD': 'E01032580', 'LSOA21NM': 'Barking and Dagenham 023F', 'LSOA21NMW': ' ', 'BNG_E': 547075, 'BNG_N': 186875, 'LAT': 51.56158, 'LONG': 0.120388, 'GlobalID': '5a378143-f043-42d4-9155-80b2f2616292'}}\n",
            "{'type': 'Feature', 'id': 84, 'geometry': {'type': 'Polygon', 'coordinates': [[[51.561801721182526, 0.12447413750541748], [51.56015902646636, 0.12513968832632028], [51.56015179202044, 0.1251076540386853], [51.560454480102656, 0.12432010288085892], [51.56020445509472, 0.12308603739714889], [51.560546794970264, 0.12272282099952156], [51.56033318498364, 0.12223620447323055], [51.56064160729771, 0.12176451819474433], [51.5614862424942, 0.1213175162717092], [51.561909834696806, 0.12210732302943518], [51.561584533650695, 0.12404768402803977], [51.561801721182526, 0.12447413750541748]]]}, 'properties': {'FID': 84, 'OA21CD': 'E00000107', 'LSOA21CD': 'E01032580', 'LSOA21NM': 'Barking and Dagenham 023F', 'LSOA21NMW': ' ', 'BNG_E': 547278, 'BNG_N': 186820, 'LAT': 51.56103, 'LONG': 0.123291, 'GlobalID': '08a31349-1a83-4f70-99a2-37c0ed65d4ab'}}\n",
            "{'type': 'Feature', 'id': 85, 'geometry': {'type': 'Polygon', 'coordinates': [[[51.56015179202044, 0.1251076540386853], [51.55974109733134, 0.12480401512437868], [51.55993678621266, 0.12288124634543497], [51.55928368976669, 0.12265741253132753], [51.559237902822346, 0.12436129252892764], [51.558661782905084, 0.12451215360531877], [51.55846260343533, 0.12276137548305266], [51.558717067582485, 0.12187875563114114], [51.55917465376116, 0.12165609456264911], [51.55943066616273, 0.12079555730588575], [51.56036330271714, 0.12127249651232978], [51.56064160729771, 0.12176451819474433], [51.56033318498364, 0.12223620447323055], [51.560546794970264, 0.12272282099952156], [51.56020445509472, 0.12308603739714889], [51.560454480102656, 0.12432010288085892], [51.56015179202044, 0.1251076540386853]]]}, 'properties': {'FID': 85, 'OA21CD': 'E00000108', 'LSOA21CD': 'E01000019', 'LSOA21NM': 'Barking and Dagenham 023A', 'LSOA21NMW': ' ', 'BNG_E': 547172, 'BNG_N': 186653, 'LAT': 51.55956, 'LONG': 0.121693, 'GlobalID': 'b8ddd046-4cec-40a2-9c1d-c2d2768a4a1d'}}\n",
            "{'type': 'Feature', 'id': 86, 'geometry': {'type': 'Polygon', 'coordinates': [[[51.56036330271714, 0.12127249651232978], [51.55943066616273, 0.12079555730588575], [51.55915590351196, 0.11993190809975919], [51.55865424750088, 0.11978081278408993], [51.55916339694248, 0.11747835631679342], [51.56078863045495, 0.11858882107965224], [51.56053962326551, 0.11949647396861256], [51.56082708452116, 0.11999302148198067], [51.56036330271714, 0.12127249651232978]]]}, 'properties': {'FID': 86, 'OA21CD': 'E00000109', 'LSOA21CD': 'E01000019', 'LSOA21NM': 'Barking and Dagenham 023A', 'LSOA21NMW': ' ', 'BNG_E': 547014, 'BNG_N': 186657, 'LAT': 51.55964, 'LONG': 0.119417, 'GlobalID': '2819749f-883a-4e9c-a3f7-76772241145c'}}\n",
            "{'type': 'Feature', 'id': 87, 'geometry': {'type': 'Polygon', 'coordinates': [[[51.55843870737748, 0.12638698586057048], [51.55830787150413, 0.12650655458734833], [51.5581193309951, 0.12446342815597002], [51.55791100772952, 0.1224513705906362], [51.55846260343533, 0.12276137548305266], [51.558661782905084, 0.12451215360531877], [51.559237902822346, 0.12436129252892764], [51.55928368976669, 0.12265741253132753], [51.55993678621266, 0.12288124634543497], [51.55974109733134, 0.12480401512437868], [51.56015179202044, 0.1251076540386853], [51.56015902646636, 0.12513968832632028], [51.55843870737748, 0.12638698586057048]]]}, 'properties': {'FID': 87, 'OA21CD': 'E00000110', 'LSOA21CD': 'E01000020', 'LSOA21NM': 'Barking and Dagenham 023B', 'LSOA21NMW': ' ', 'BNG_E': 547370, 'BNG_N': 186637, 'LAT': 51.55936, 'LONG': 0.124541, 'GlobalID': '18d1055b-9e8c-4790-92ae-6ac265d323b3'}}\n",
            "{'type': 'Feature', 'id': 88, 'geometry': {'type': 'Polygon', 'coordinates': [[[51.55787296062474, 0.12696425348372853], [51.55674864537315, 0.12767980578762736], [51.55668437324974, 0.12671819258431002], [51.55618587554158, 0.12567874474278504], [51.557055871449535, 0.1241699879725084], [51.557505824174086, 0.12382034385757523], [51.5581193309951, 0.12446342815597002], [51.55830787150413, 0.12650655458734833], [51.55787296062474, 0.12696425348372853]]]}, 'properties': {'FID': 88, 'OA21CD': 'E00000111', 'LSOA21CD': 'E01000020', 'LSOA21NM': 'Barking and Dagenham 023B', 'LSOA21NMW': ' ', 'BNG_E': 547458, 'BNG_N': 186404, 'LAT': 51.55725, 'LONG': 0.125712, 'GlobalID': '535b4a07-f31d-4cca-bd7d-12b94af5862c'}}\n",
            "{'type': 'Feature', 'id': 89, 'geometry': {'type': 'Polygon', 'coordinates': [[[51.556891590629455, 0.1171510237748745], [51.5558871050241, 0.11620717588614257], [51.55531857425299, 0.11625598673560973], [51.556888930831704, 0.11316291403808952], [51.55731772605208, 0.1133287698588353], [51.556891590629455, 0.1171510237748745]]]}, 'properties': {'FID': 89, 'OA21CD': 'E00000112', 'LSOA21CD': 'E01000021', 'LSOA21NM': 'Barking and Dagenham 008A', 'LSOA21NMW': ' ', 'BNG_E': 546739, 'BNG_N': 186278, 'LAT': 51.5563, 'LONG': 0.115295, 'GlobalID': 'cd9053b8-46dc-4ee6-bce5-9b6285da9340'}}\n",
            "{'type': 'Feature', 'id': 90, 'geometry': {'type': 'Polygon', 'coordinates': [[[51.55674864537315, 0.12767980578762736], [51.55560695229043, 0.12712947949183562], [51.55545356707944, 0.12702735102630439], [51.555373869883056, 0.1263775836690116], [51.55463797335236, 0.12604213888143526], [51.554822790373585, 0.125701352639545], [51.55463488618093, 0.125154370236513], [51.554873730334315, 0.12468393006540726], [51.55545820434983, 0.12503508931264348], [51.55649989714538, 0.12335484366589075], [51.55700378724239, 0.1233584276934788], [51.557055871449535, 0.1241699879725084], [51.55618587554158, 0.12567874474278504], [51.55668437324974, 0.12671819258431002], [51.55674864537315, 0.12767980578762736]]]}, 'properties': {'FID': 90, 'OA21CD': 'E00000113', 'LSOA21CD': 'E01000020', 'LSOA21NM': 'Barking and Dagenham 023B', 'LSOA21NMW': ' ', 'BNG_E': 547474, 'BNG_N': 186246, 'LAT': 51.55582, 'LONG': 0.125876, 'GlobalID': 'b910b24f-b2d0-4572-9fbb-efcfee3627ba'}}\n",
            "{'type': 'Feature', 'id': 91, 'geometry': {'type': 'Polygon', 'coordinates': [[[51.557055871449535, 0.1241699879725084], [51.55700378724239, 0.1233584276934788], [51.55649989714538, 0.12335484366589075], [51.55545820434983, 0.12503508931264348], [51.554873730334315, 0.12468393006540726], [51.55523210095041, 0.12353049195287494], [51.55561170281918, 0.12327339140908193], [51.55541324770002, 0.12269410927557413], [51.555770776810384, 0.12210091194543964], [51.556214107647634, 0.12268841726438119], [51.55669768291146, 0.1219513395082866], [51.557556990469074, 0.12279246860669243], [51.55791100772952, 0.1224513705906362], [51.5581193309951, 0.12446342815597002], [51.557505824174086, 0.12382034385757523], [51.557055871449535, 0.1241699879725084]]]}, 'properties': {'FID': 91, 'OA21CD': 'E00000114', 'LSOA21CD': 'E01000020', 'LSOA21NM': 'Barking and Dagenham 023B', 'LSOA21NMW': ' ', 'BNG_E': 547310, 'BNG_N': 186437, 'LAT': 51.55758, 'LONG': 0.123592, 'GlobalID': '8b6f1bc9-9cb6-4195-9cc7-ed6cbf44d12f'}}\n",
            "{'type': 'Feature', 'id': 92, 'geometry': {'type': 'Polygon', 'coordinates': [[[51.55846260343533, 0.12276137548305266], [51.55791100772952, 0.1224513705906362], [51.557556990469074, 0.12279246860669243], [51.55669768291146, 0.1219513395082866], [51.556214107647634, 0.12268841726438119], [51.555770776810384, 0.12210091194543964], [51.55522224728508, 0.12100528495338085], [51.555646046691066, 0.12097808916294904], [51.55585838814911, 0.1204129296404781], [51.55642542954991, 0.11928427646825643], [51.558717067582485, 0.12187875563114114], [51.55846260343533, 0.12276137548305266]]]}, 'properties': {'FID': 92, 'OA21CD': 'E00000115', 'LSOA21CD': 'E01000019', 'LSOA21NM': 'Barking and Dagenham 023A', 'LSOA21NMW': ' ', 'BNG_E': 547137, 'BNG_N': 186335, 'LAT': 51.55671, 'LONG': 0.121056, 'GlobalID': '2932ce89-1a13-4323-aff4-e568b6278a7c'}}\n",
            "{'type': 'Feature', 'id': 93, 'geometry': {'type': 'Polygon', 'coordinates': [[[51.55523210095041, 0.12353049195287494], [51.55426130988172, 0.12237647273984086], [51.55358535256582, 0.12249761066355139], [51.55332532029254, 0.12299046014620327], [51.55281242405746, 0.12219088383259491], [51.55272605476193, 0.1213400591048774], [51.552752752948706, 0.12038334567758613], [51.553249787867856, 0.12029832455779005], [51.55385563457985, 0.12052121739053528], [51.553890142459736, 0.12116226019787228], [51.55432777612748, 0.12111374705983473], [51.55541324770002, 0.12269410927557413], [51.55561170281918, 0.12327339140908193], [51.55523210095041, 0.12353049195287494]]]}, 'properties': {'FID': 93, 'OA21CD': 'E00000116', 'LSOA21CD': 'E01000022', 'LSOA21NM': 'Barking and Dagenham 008B', 'LSOA21NMW': ' ', 'BNG_E': 547204, 'BNG_N': 186011, 'LAT': 51.55378, 'LONG': 0.121886, 'GlobalID': '5c2a7183-928e-4fa4-91c9-73802a8b3f33'}}\n",
            "{'type': 'Feature', 'id': 94, 'geometry': {'type': 'Polygon', 'coordinates': [[[51.55585838814911, 0.1204129296404781], [51.55516366609206, 0.11988000090820136], [51.55445528589656, 0.11856487309189347], [51.55425433217813, 0.11832889557836777], [51.55481704526802, 0.11722366403337052], [51.555260292006395, 0.11751187717960913], [51.55642542954991, 0.11928427646825643], [51.55585838814911, 0.1204129296404781]]]}, 'properties': {'FID': 94, 'OA21CD': 'E00000117', 'LSOA21CD': 'E01000021', 'LSOA21NM': 'Barking and Dagenham 008A', 'LSOA21NMW': ' ', 'BNG_E': 546988, 'BNG_N': 186188, 'LAT': 51.55543, 'LONG': 0.118847, 'GlobalID': 'ca7a5f30-7546-4c96-a967-3c453519b765'}}\n",
            "{'type': 'Feature', 'id': 95, 'geometry': {'type': 'Polygon', 'coordinates': [[[51.55531857425299, 0.11625598673560973], [51.55496904946855, 0.11633840490058917], [51.554831410792104, 0.11576430678413724], [51.55414943416428, 0.11620137727735227], [51.55332356850361, 0.11522562821883728], [51.553168143106525, 0.11495098922395106], [51.55359152746008, 0.1147668939268816], [51.55354786716256, 0.11403321842420759], [51.553984990762515, 0.11401781357363398], [51.554295086464094, 0.1134002612018749], [51.55530377899488, 0.11474107714531954], [51.556519606703496, 0.11272480521099996], [51.556888930831704, 0.11316291403808952], [51.55531857425299, 0.11625598673560973]]]}, 'properties': {'FID': 95, 'OA21CD': 'E00000118', 'LSOA21CD': 'E01000021', 'LSOA21NM': 'Barking and Dagenham 008A', 'LSOA21NMW': ' ', 'BNG_E': 546690, 'BNG_N': 186059, 'LAT': 51.55435, 'LONG': 0.114498, 'GlobalID': '7bebb20d-c091-4af8-8ee3-802c4e0196e3'}}\n",
            "{'type': 'Feature', 'id': 96, 'geometry': {'type': 'Polygon', 'coordinates': [[[51.555260292006395, 0.11751187717960913], [51.55481704526802, 0.11722366403337052], [51.55425433217813, 0.11832889557836777], [51.552792763891745, 0.11639473232161646], [51.55332356850361, 0.11522562821883728], [51.55414943416428, 0.11620137727735227], [51.554831410792104, 0.11576430678413724], [51.55496904946855, 0.11633840490058917], [51.55531857425299, 0.11625598673560973], [51.5558871050241, 0.11620717588614257], [51.55589951106767, 0.11722066117964747], [51.555260292006395, 0.11751187717960913]]]}, 'properties': {'FID': 96, 'OA21CD': 'E00000119', 'LSOA21CD': 'E01000021', 'LSOA21NM': 'Barking and Dagenham 008A', 'LSOA21NMW': ' ', 'BNG_E': 546852, 'BNG_N': 186075, 'LAT': 51.55445, 'LONG': 0.116839, 'GlobalID': '5c4c5cc5-5fee-44b2-8dd9-1bd1c52329de'}}\n",
            "{'type': 'Feature', 'id': 97, 'geometry': {'type': 'Polygon', 'coordinates': [[[51.555770776810384, 0.12210091194543964], [51.55541324770002, 0.12269410927557413], [51.55432777612748, 0.12111374705983473], [51.553890142459736, 0.12116226019787228], [51.55385563457985, 0.12052121739053528], [51.55429309665461, 0.11977633661805433], [51.5540531158507, 0.11888792342917374], [51.55445528589656, 0.11856487309189347], [51.55516366609206, 0.11988000090820136], [51.55585838814911, 0.1204129296404781], [51.555646046691066, 0.12097808916294904], [51.55522224728508, 0.12100528495338085], [51.555770776810384, 0.12210091194543964]]]}, 'properties': {'FID': 97, 'OA21CD': 'E00000120', 'LSOA21CD': 'E01000022', 'LSOA21NM': 'Barking and Dagenham 008B', 'LSOA21NMW': ' ', 'BNG_E': 547115, 'BNG_N': 186122, 'LAT': 51.5548, 'LONG': 0.12065, 'GlobalID': '243ec190-28ac-4daf-b6af-e167187583a0'}}\n",
            "{'type': 'Feature', 'id': 98, 'geometry': {'type': 'Polygon', 'coordinates': [[[51.552792763891745, 0.11639473232161646], [51.55251012234511, 0.11688211512386908], [51.551935440310814, 0.11700116674409079], [51.55151514781399, 0.11615669243566945], [51.55141802623191, 0.1172896607490948], [51.55092866888793, 0.1164524006703642], [51.55120137981597, 0.11447458082169869], [51.55153955684086, 0.1138544110203705], [51.55275726278776, 0.11441180018010486], [51.553168143106525, 0.11495098922395106], [51.55332356850361, 0.11522562821883728], [51.552792763891745, 0.11639473232161646]]]}, 'properties': {'FID': 98, 'OA21CD': 'E00000121', 'LSOA21CD': 'E01000021', 'LSOA21NM': 'Barking and Dagenham 008A', 'LSOA21NMW': ' ', 'BNG_E': 546775, 'BNG_N': 185815, 'LAT': 51.55213, 'LONG': 0.115621, 'GlobalID': 'b084ad48-c575-475b-a3aa-1c01d82f9d29'}}\n",
            "{'type': 'Feature', 'id': 99, 'geometry': {'type': 'Polygon', 'coordinates': [[[51.55385563457985, 0.12052121739053528], [51.553249787867856, 0.12029832455779005], [51.553184438059134, 0.11936088580381639], [51.552570697747214, 0.11942244763784758], [51.55251012234511, 0.11688211512386908], [51.552792763891745, 0.11639473232161646], [51.55425433217813, 0.11832889557836777], [51.55445528589656, 0.11856487309189347], [51.5540531158507, 0.11888792342917374], [51.55429309665461, 0.11977633661805433], [51.55385563457985, 0.12052121739053528]]]}, 'properties': {'FID': 99, 'OA21CD': 'E00000122', 'LSOA21CD': 'E01000022', 'LSOA21NM': 'Barking and Dagenham 008B', 'LSOA21NMW': ' ', 'BNG_E': 546970, 'BNG_N': 185969, 'LAT': 51.55347, 'LONG': 0.118496, 'GlobalID': '5d5bc37d-e6ce-42d0-88dc-e143d1452b16'}}\n",
            "{'type': 'Feature', 'id': 100, 'geometry': {'type': 'Polygon', 'coordinates': [[[51.55324087246984, 0.12514265174211978], [51.55143866671761, 0.12430376659875733], [51.55170460095186, 0.12408466603149919], [51.55150917005574, 0.12391777030944548], [51.551619954702886, 0.12306213752015813], [51.55188738811618, 0.12329681845825861], [51.55222427862471, 0.12267202108443935], [51.55253492845474, 0.12313548307671981], [51.55221264140278, 0.1223484846728347], [51.55281242405746, 0.12219088383259491], [51.55332532029254, 0.12299046014620327], [51.552984863500306, 0.1239033179129112], [51.553651440527304, 0.1240489007583386], [51.55401867624134, 0.12518453086145853], [51.55463488618093, 0.125154370236513], [51.554822790373585, 0.125701352639545], [51.55463797335236, 0.12604213888143526], [51.555373869883056, 0.1263775836690116], [51.55545356707944, 0.12702735102630439], [51.55324087246984, 0.12514265174211978]]]}, 'properties': {'FID': 100, 'OA21CD': 'E00000123', 'LSOA21CD': 'E01000020', 'LSOA21NM': 'Barking and Dagenham 023B', 'LSOA21NMW': ' ', 'BNG_E': 547394, 'BNG_N': 185925, 'LAT': 51.55296, 'LONG': 0.124589, 'GlobalID': 'bac5b502-39f3-4514-a7c4-692b4a9a8434'}}\n"
          ]
        }
      ]
    },
    {
      "cell_type": "code",
      "source": [
        "oa_boundaries = []\n",
        "\n",
        "for oa in list(d.values())[2]:\n",
        "  oa_boundaries.append((oa['properties']['OA21CD'], oa['geometry']))\n",
        "\n",
        "#"
      ],
      "metadata": {
        "id": "DWxxvBs3mU6L"
      },
      "execution_count": 104,
      "outputs": []
    },
    {
      "cell_type": "code",
      "source": [
        "oa_boundaries[:10]"
      ],
      "metadata": {
        "colab": {
          "base_uri": "https://localhost:8080/"
        },
        "id": "jsCeEcyFrODu",
        "outputId": "855c10a5-fa50-4079-b613-ffa430f3bbd2"
      },
      "execution_count": 105,
      "outputs": [
        {
          "output_type": "execute_result",
          "data": {
            "text/plain": [
              "[('E00000001',\n",
              "  {'type': 'Polygon',\n",
              "   'coordinates': [[[51.519759, -0.094505],\n",
              "     [51.520069, -0.095791],\n",
              "     [51.520325, -0.096046],\n",
              "     [51.520241, -0.09651],\n",
              "     [51.520274, -0.096516],\n",
              "     [51.520502, -0.095268],\n",
              "     [51.520594, -0.094771],\n",
              "     [51.520663, -0.094389],\n",
              "     [51.519759, -0.094505]]]}),\n",
              " ('E00000003',\n",
              "  {'type': 'Polygon',\n",
              "   'coordinates': [[[51.520069, -0.095791],\n",
              "     [51.519623, -0.096138],\n",
              "     [51.519329, -0.096301],\n",
              "     [51.519718, -0.096634],\n",
              "     [51.519679, -0.097048],\n",
              "     [51.520241, -0.09651],\n",
              "     [51.520325, -0.096046],\n",
              "     [51.520069, -0.095791]]]}),\n",
              " ('E00000005',\n",
              "  {'type': 'Polygon',\n",
              "   'coordinates': [[[51.519329, -0.096301],\n",
              "     [51.518789, -0.095761],\n",
              "     [51.518472, -0.096031],\n",
              "     [51.51862, -0.097135],\n",
              "     [51.519679, -0.097048],\n",
              "     [51.519718, -0.096634],\n",
              "     [51.519329, -0.096301]]]}),\n",
              " ('E00000007',\n",
              "  {'type': 'Polygon',\n",
              "   'coordinates': [[[51.518472, -0.096031],\n",
              "     [51.518237, -0.095084],\n",
              "     [51.516753, -0.095934],\n",
              "     [51.516587, -0.094943],\n",
              "     [51.51544, -0.095481],\n",
              "     [51.514967, -0.095797],\n",
              "     [51.514841, -0.096589],\n",
              "     [51.515537, -0.097983],\n",
              "     [51.5166, -0.097854],\n",
              "     [51.516768, -0.099749],\n",
              "     [51.51745, -0.099669],\n",
              "     [51.517759, -0.099169],\n",
              "     [51.517897, -0.0982],\n",
              "     [51.517546, -0.098044],\n",
              "     [51.51768, -0.097588],\n",
              "     [51.518001, -0.097035],\n",
              "     [51.51862, -0.097135],\n",
              "     [51.518472, -0.096031]]]}),\n",
              " ('E00000010',\n",
              "  {'type': 'Polygon',\n",
              "   'coordinates': [[[51.522668, -0.096914],\n",
              "     [51.522172, -0.097492],\n",
              "     [51.522918, -0.09772],\n",
              "     [51.522668, -0.096914]]]}),\n",
              " ('E00000013',\n",
              "  {'type': 'Polygon',\n",
              "   'coordinates': [[[51.520522, -0.095278],\n",
              "     [51.520502, -0.095268],\n",
              "     [51.520274, -0.096516],\n",
              "     [51.521571, -0.097286],\n",
              "     [51.52163, -0.096492],\n",
              "     [51.520917, -0.096159],\n",
              "     [51.520522, -0.095278]]]}),\n",
              " ('E00000018',\n",
              "  {'type': 'Polygon',\n",
              "   'coordinates': [[[51.519986, -0.092525],\n",
              "     [51.519372, -0.09104],\n",
              "     [51.518567, -0.091506],\n",
              "     [51.518945, -0.093028],\n",
              "     [51.518049, -0.093372],\n",
              "     [51.518489, -0.094766],\n",
              "     [51.518237, -0.095084],\n",
              "     [51.519287, -0.095085],\n",
              "     [51.519759, -0.094505],\n",
              "     [51.520663, -0.094389],\n",
              "     [51.520594, -0.094771],\n",
              "     [51.520776, -0.093922],\n",
              "     [51.52091, -0.093052],\n",
              "     [51.519986, -0.092525]]]}),\n",
              " ('E00000019',\n",
              "  {'type': 'Polygon',\n",
              "   'coordinates': [[[51.519983, -0.089946],\n",
              "     [51.519517, -0.090198],\n",
              "     [51.519372, -0.09104],\n",
              "     [51.519986, -0.092525],\n",
              "     [51.51973, -0.091082],\n",
              "     [51.520817, -0.090585],\n",
              "     [51.520687, -0.089695],\n",
              "     [51.519983, -0.089946]]]}),\n",
              " ('E00000020',\n",
              "  {'type': 'Polygon',\n",
              "   'coordinates': [[[51.518567, -0.091506],\n",
              "     [51.519372, -0.09104],\n",
              "     [51.519517, -0.090198],\n",
              "     [51.518093, -0.091197],\n",
              "     [51.518567, -0.091506]]]}),\n",
              " ('E00000021',\n",
              "  {'type': 'Polygon',\n",
              "   'coordinates': [[[51.519411, -0.088129],\n",
              "     [51.517516, -0.089291],\n",
              "     [51.517477, -0.09012],\n",
              "     [51.51708, -0.09031],\n",
              "     [51.517262, -0.090806],\n",
              "     [51.517539, -0.090687],\n",
              "     [51.517648, -0.09142],\n",
              "     [51.515831, -0.092416],\n",
              "     [51.514093, -0.094032],\n",
              "     [51.514237, -0.094779],\n",
              "     [51.514527, -0.094692],\n",
              "     [51.51459, -0.095227],\n",
              "     [51.515278, -0.095035],\n",
              "     [51.51544, -0.095481],\n",
              "     [51.516587, -0.094943],\n",
              "     [51.516753, -0.095934],\n",
              "     [51.518237, -0.095084],\n",
              "     [51.518489, -0.094766],\n",
              "     [51.518049, -0.093372],\n",
              "     [51.518945, -0.093028],\n",
              "     [51.518567, -0.091506],\n",
              "     [51.518093, -0.091197],\n",
              "     [51.519517, -0.090198],\n",
              "     [51.519983, -0.089946],\n",
              "     [51.519411, -0.088129]]]})]"
            ]
          },
          "metadata": {},
          "execution_count": 105
        }
      ]
    },
    {
      "cell_type": "markdown",
      "metadata": {
        "id": "W2VWvBvC7MRW"
      },
      "source": [
        "Write a short paragraph summarising what you did in the Access stage."
      ]
    },
    {
      "cell_type": "markdown",
      "metadata": {
        "id": "MIweGJKkn1LW"
      },
      "source": [
        "## Assess"
      ]
    },
    {
      "cell_type": "code",
      "execution_count": 25,
      "metadata": {
        "id": "FUy3b7lin2wU"
      },
      "outputs": [],
      "source": []
    },
    {
      "cell_type": "markdown",
      "metadata": {
        "id": "Kr5-wBZs1BDT"
      },
      "source": [
        "Write a short paragraph summarising what you did in the Assess stage."
      ]
    },
    {
      "cell_type": "code",
      "execution_count": 26,
      "metadata": {
        "id": "RpzpG97O1JTs"
      },
      "outputs": [],
      "source": [
        "# TODO: your answer here"
      ]
    },
    {
      "cell_type": "markdown",
      "metadata": {
        "id": "TIzv84Kcn3Dj"
      },
      "source": [
        "## Address"
      ]
    },
    {
      "cell_type": "code",
      "execution_count": 26,
      "metadata": {
        "id": "P9GQVzaBn-YC"
      },
      "outputs": [],
      "source": []
    },
    {
      "cell_type": "code",
      "execution_count": 27,
      "metadata": {
        "id": "Ukm6s3Fyn57t"
      },
      "outputs": [],
      "source": [
        "def estimate_students(latitude: float, longitude: float) -> float:\n",
        "    \"\"\"\n",
        "    Args:\n",
        "    latitude (float): The latitude coordinate.\n",
        "    longitude (float): The longitude coordinate.\n",
        "\n",
        "    Returns:\n",
        "    float: Estimated share of students in that area (value between 0 and 1).\n",
        "    \"\"\"\n",
        "    # TODO: implement\n",
        "    return NotImplementedError\n",
        "\n",
        "\n",
        "def estimate_something(latitude: float, longitude: float) -> float:\n",
        "    #TODO: rename function\n",
        "    \"\"\"\n",
        "    Args:\n",
        "    latitude (float): The latitude coordinate.\n",
        "    longitude (float): The longitude coordinate.\n",
        "\n",
        "    Returns:\n",
        "    float: Estimated value, percentage, probability, etc\n",
        "    \"\"\"\n",
        "    # TODO: implement\n",
        "    return NotImplementedError"
      ]
    },
    {
      "cell_type": "markdown",
      "metadata": {
        "id": "ktZ4NrcU1NsX"
      },
      "source": [
        "Write a short paragraph summarising what you did in the Address stage."
      ]
    },
    {
      "cell_type": "code",
      "execution_count": 28,
      "metadata": {
        "id": "WQVi5mRF1R7V"
      },
      "outputs": [],
      "source": [
        "# TODO: your answer here"
      ]
    },
    {
      "cell_type": "markdown",
      "metadata": {
        "id": "M03wH58P5V3K"
      },
      "source": [
        "## Discussion"
      ]
    },
    {
      "cell_type": "markdown",
      "metadata": {
        "id": "0OlifPaO6Twy"
      },
      "source": [
        "#### Story and structure"
      ]
    },
    {
      "cell_type": "code",
      "execution_count": 29,
      "metadata": {
        "id": "vHe7s9WP8vc_"
      },
      "outputs": [],
      "source": [
        "# Marks awarded for inline explanation and structure, no need for answers here. Go over your notebook to make sure you explain what you did and why."
      ]
    },
    {
      "cell_type": "markdown",
      "metadata": {
        "id": "nQXOZrmh6ZkH"
      },
      "source": [
        "#### Design decisions"
      ]
    },
    {
      "cell_type": "code",
      "execution_count": 30,
      "metadata": {
        "id": "VZpLGlIQ6WOB"
      },
      "outputs": [],
      "source": [
        "# TODO: your answer here"
      ]
    },
    {
      "cell_type": "markdown",
      "metadata": {
        "id": "uXTy0gCJ7FqJ"
      },
      "source": [
        "#### Comparison"
      ]
    },
    {
      "cell_type": "code",
      "execution_count": 31,
      "metadata": {
        "id": "StIuDGx26YT3"
      },
      "outputs": [],
      "source": [
        "# TODO: your answer here"
      ]
    },
    {
      "cell_type": "markdown",
      "metadata": {
        "id": "DRnOzM_Y7Jt7"
      },
      "source": [
        "#### Reusability"
      ]
    },
    {
      "cell_type": "code",
      "execution_count": 32,
      "metadata": {
        "id": "XNin895_6YgZ"
      },
      "outputs": [],
      "source": [
        "# TODO: your answer here"
      ]
    },
    {
      "cell_type": "markdown",
      "metadata": {
        "id": "_L96aZiR4WVL"
      },
      "source": [
        "# Task 2: miniproject (13 marks)"
      ]
    },
    {
      "cell_type": "markdown",
      "metadata": {
        "id": "6i81p_90A1at"
      },
      "source": [
        "We expect your miniproject to be more advanced than the example project, and that's why we allocated more marks to it. The first 7 marks will be allocated similarly to Task 1.\n",
        "\n",
        "6 remaining points are *bonus* - they will be allocated for going far beyond what you did in Task 1, either in data access, assess, address or story."
      ]
    },
    {
      "cell_type": "markdown",
      "metadata": {
        "id": "USNwRwBaCzOC"
      },
      "source": [
        "#### Choosing your topic\n",
        "\n",
        "You are given a lot of flexibility in choosing a miniproject topic.\n",
        "\n",
        "Some hints:\n",
        "- Your project should be based on the Census, Price Paid, OSM and Election datasets.\n",
        "- It's a good idea to pick something that you are interested in.\n",
        "- Bear in mind there are no marks dedicated to your overall prediction accuracy, so there is no advantage to picking 'easy' topics. It is perfectly ok to not reach significant predictive power, as long as you followed the proper process.\n",
        "\n",
        "Some guidelines:\n",
        "- Do not make a miniproject that furthers discriminatory rhetoric. In general, avoid topics that could be insensitive. If in doubt, message Radzim Sendyka (and *cc* Christian Cabrera) to discuss if this applies to your idea.\n",
        "- Please avoid any projects that would require approval from the ethics comittee.\n",
        "- Pick the scope of your projects that will allow you to show your skills. Some projects might not be challenging enough while others might be hard to make any progress in. Don't be scared to report negative results.\n",
        "\n",
        "Please email Radzim Sendyka (and *cc* Christian Cabrera) with your project idea when you begin working on it, so we can let you know about any potential concerns (eg. potentially insensive, too off-topic, too simple, too complex) as soon as we can. You can change the topic up to the submission deadline, but let us know again in cases of major changes."
      ]
    },
    {
      "cell_type": "markdown",
      "metadata": {
        "id": "pwjwzdgvAGI-"
      },
      "source": [
        "Most of the advice from Task 1 still applies, particularly around using an online relational database, structuring your notebook, fynesse, access-assess-address, data readiness levels, hints."
      ]
    },
    {
      "cell_type": "markdown",
      "metadata": {
        "id": "9i6X92QHnuAT"
      },
      "source": [
        "Sources you may want to include in your data include:\n",
        "\n",
        "  - UK Census Data\n",
        "    - UK Census 2021 data [here](https://www.ons.gov.uk/search?topics=9731,6646,3845,9497,4262,4128,7755,4994,6885,9724,7367&filter=datasets) or [here](https://www.nomisweb.co.uk/sources/census_2021_bulk).\n",
        "    - Historical Census data [here](https://www.ons.gov.uk/census/historiccensusdata).\n",
        "    - Geographic coordinates of Census Output Areas [here](https://www.data.gov.uk/dataset/4d4e021d-fe98-4a0e-88e2-3ead84538537/output-areas-december-2021-boundaries-ew-bgc-v2).\n",
        "  - Spatial data\n",
        "    - You should already have a connection to OpenStreetMaps.\n",
        "    - You might want to also download the entire map for England (or more) [here](https://download.openstreetmap.fr/extracts/) or [here](https://wiki.openstreetmap.org/wiki/Planet.osm).\n",
        "  - Election data\n",
        "    - Recent Election Results data [here](https://commonslibrary.parliament.uk/research-briefings/cbp-10009/)\n",
        "    - Historical Election Results data [here](https://commonslibrary.parliament.uk/research-briefings/cbp-8647/#fullreport).\n",
        "    - Lookup reference between Output Areas and Parliamentary Constituencies [here](https://geoportal.statistics.gov.uk/datasets/5968b5b2c0f14dd29ba277beaae6dec3_0/explore).\n",
        "  - Price Paid Data\n",
        "    - You should have this data already in your database.\n",
        "  - OSM\n",
        "    - You should know how to access this data from previous practicals."
      ]
    },
    {
      "cell_type": "markdown",
      "metadata": {
        "id": "C0etneFRoDRx"
      },
      "source": [
        "Example ideas:\n",
        "\n",
        "- Are areas correlated in terms of census results? If so, find the areas that are leading change, and the ones that are following.\n",
        "- Which historical census variables used to predict election results in the past, but don't seem related anymore?\n",
        "- Census results are only updated once a decade, but new roads and houses are built every year. Can census results, for example those relating to travel, be predicted from basic map information, such as street networks?\n",
        "- Building new houses is our best way of tackling the housing crisis. Use the information on new builds in the house prices dataset to explore what factors drive new developments, and make predictions for where the next houses will be built.\n",
        "- House styles differ a lot between regions and inhabitants. Can you make any predictions about the house or area simply from looking at it's geometric shape and orientation?\n",
        "\n",
        "Note that the ideas are just a starting point question. You should include more in-depth investigations into the data, validate your findings where applicable, and prepare visualisations."
      ]
    },
    {
      "cell_type": "markdown",
      "metadata": {
        "id": "8lW1FTFyBFFr"
      },
      "source": [
        "## Title and description"
      ]
    },
    {
      "cell_type": "code",
      "execution_count": 33,
      "metadata": {
        "id": "k225EcHeA_aV"
      },
      "outputs": [],
      "source": [
        "# TODO: title your miniproject"
      ]
    },
    {
      "cell_type": "code",
      "execution_count": 34,
      "metadata": {
        "id": "gtVWDrKcBIVJ"
      },
      "outputs": [],
      "source": [
        "# TODO: provide a very brief description of the goals of your miniproject"
      ]
    },
    {
      "cell_type": "markdown",
      "metadata": {
        "id": "6UH7IY3aBml-"
      },
      "source": [
        "## TODO: Your Project Goes Here"
      ]
    },
    {
      "cell_type": "code",
      "execution_count": 34,
      "metadata": {
        "id": "fBlEztj4ZqqN"
      },
      "outputs": [],
      "source": []
    },
    {
      "cell_type": "markdown",
      "metadata": {
        "id": "jjIIXwV2HYFT"
      },
      "source": [
        "## Conclusions\n",
        "\n",
        "The below code is for marking purpuses only, and not part of your project. It helps us gather the data we need without asking you for database credentials, and scouring github pages. This is mandatory. If the code does not work for you, let us know immediately."
      ]
    },
    {
      "cell_type": "markdown",
      "metadata": {
        "id": "9ccS8vrjHbh3"
      },
      "source": [
        "1) Please re-run the code from Practical 1 to help us see the contents of your database. We recommend you include all data sources there, but some smaller inputs are fine to use as files."
      ]
    },
    {
      "cell_type": "code",
      "execution_count": 35,
      "metadata": {
        "id": "XNLYfO92HZ_G",
        "colab": {
          "base_uri": "https://localhost:8080/"
        },
        "outputId": "0ba55989-77b2-4206-a298-aef842c339e4"
      },
      "outputs": [
        {
          "output_type": "stream",
          "name": "stderr",
          "text": [
            "UsageError: Line magic function `%sql` not found.\n"
          ]
        }
      ],
      "source": [
        "tables = %sql SHOW TABLES;\n",
        "\n",
        "for row in tables:\n",
        "    table_name = row[0]\n",
        "    print(f\"\\nTable: {table_name}\")\n",
        "\n",
        "    table_status = %sql SHOW TABLE STATUS LIKE '{table_name}';\n",
        "    approx_row_count = table_status[0][4] if table_status else 'Unable to fetch row count'\n",
        "    print(\"\\nApprox Row Count:\", approx_row_count//100000/10, \"M\")\n",
        "\n",
        "    first_5_rows = %sql SELECT * FROM `{table_name}` LIMIT 5;\n",
        "    print(first_5_rows)\n",
        "\n",
        "    indices = %sql SHOW INDEX FROM `{table_name}`;\n",
        "    if indices:\n",
        "        print(\"\\nIndices:\")\n",
        "        for index in indices:\n",
        "            print(f\" - {index[2]} ({index[10]}): Column {index[4]}\")\n",
        "    else:\n",
        "        print(\"\\nNo indices set on this table.\")"
      ]
    },
    {
      "cell_type": "markdown",
      "metadata": {
        "id": "E8r6UgTsHmms"
      },
      "source": [
        "2) Please paste a link to your fynesse library below, and make sure it's publically accessible. Also run the code below, and make sure it worked, printing out the contents of your library."
      ]
    },
    {
      "cell_type": "code",
      "execution_count": null,
      "metadata": {
        "id": "CqbzdvzhJTMN"
      },
      "outputs": [],
      "source": [
        "fynesse_url = '<your-url-library-here>'"
      ]
    },
    {
      "cell_type": "code",
      "execution_count": null,
      "metadata": {
        "id": "2h-g3gEhHq0b"
      },
      "outputs": [],
      "source": [
        "import fynesse\n",
        "import os\n",
        "\n",
        "print('FYNESSE STRUCTURE:')\n",
        "package_path = os.path.dirname(fynesse.__file__)\n",
        "for root, dirs, files in os.walk(package_path):\n",
        "    level = root.replace(package_path, '').count(os.sep)\n",
        "    indent = ' ' * 4 * level\n",
        "    print(f\"{indent}{os.path.basename(root)}/\")\n",
        "    sub_indent = ' ' * 4 * (level + 1)\n",
        "    for f in files:\n",
        "        print(f\"{sub_indent}{f}\")\n",
        "\n",
        "print('FILE CONTENTS')\n",
        "for root, dirs, files in os.walk(package_path):\n",
        "    for file in files:\n",
        "        file_path = os.path.join(root, file)\n",
        "        print(f\"--- Contents of {file_path} ---\\n\")\n",
        "        try:\n",
        "            with open(file_path, \"r\", encoding=\"utf-8\") as f:\n",
        "                print(f.read())\n",
        "        except Exception as e:\n",
        "            print(f\"Could not read {file_path}: {e}\")\n",
        "        print(\"\\n\" + \"-\" * 50 + \"\\n\")"
      ]
    }
  ],
  "metadata": {
    "colab": {
      "provenance": [],
      "include_colab_link": true
    },
    "kernelspec": {
      "display_name": "Python 3",
      "name": "python3"
    },
    "language_info": {
      "name": "python"
    }
  },
  "nbformat": 4,
  "nbformat_minor": 0
}