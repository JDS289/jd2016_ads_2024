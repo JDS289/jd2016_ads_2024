{
  "nbformat": 4,
  "nbformat_minor": 0,
  "metadata": {
    "colab": {
      "provenance": [],
      "authorship_tag": "ABX9TyN3co2SD+kU+4ZD1Kd8r99C",
      "include_colab_link": true
    },
    "kernelspec": {
      "name": "python3",
      "display_name": "Python 3"
    },
    "language_info": {
      "name": "python"
    },
    "widgets": {
      "application/vnd.jupyter.widget-state+json": {
        "2546ccce769844f097bcb3642e8b6993": {
          "model_module": "@jupyter-widgets/controls",
          "model_name": "HBoxModel",
          "model_module_version": "1.5.0",
          "state": {
            "_dom_classes": [],
            "_model_module": "@jupyter-widgets/controls",
            "_model_module_version": "1.5.0",
            "_model_name": "HBoxModel",
            "_view_count": null,
            "_view_module": "@jupyter-widgets/controls",
            "_view_module_version": "1.5.0",
            "_view_name": "HBoxView",
            "box_style": "",
            "children": [
              "IPY_MODEL_0b1de0858645424380231eaf10d2a55b",
              "IPY_MODEL_7edfa3236189484aba8c5a849eb474b5",
              "IPY_MODEL_468205222e154c0d8172bec87235a30b"
            ],
            "layout": "IPY_MODEL_0b31ac93fd3d4fd589bf577584ebab7e"
          }
        },
        "0b1de0858645424380231eaf10d2a55b": {
          "model_module": "@jupyter-widgets/controls",
          "model_name": "HTMLModel",
          "model_module_version": "1.5.0",
          "state": {
            "_dom_classes": [],
            "_model_module": "@jupyter-widgets/controls",
            "_model_module_version": "1.5.0",
            "_model_name": "HTMLModel",
            "_view_count": null,
            "_view_module": "@jupyter-widgets/controls",
            "_view_module_version": "1.5.0",
            "_view_name": "HTMLView",
            "description": "",
            "description_tooltip": null,
            "layout": "IPY_MODEL_af5b2b5a93284e56a6bb263a7ddf9575",
            "placeholder": "​",
            "style": "IPY_MODEL_b59739295c7544f5b61a0ff2f190d84b",
            "value": "config.json: 100%"
          }
        },
        "7edfa3236189484aba8c5a849eb474b5": {
          "model_module": "@jupyter-widgets/controls",
          "model_name": "FloatProgressModel",
          "model_module_version": "1.5.0",
          "state": {
            "_dom_classes": [],
            "_model_module": "@jupyter-widgets/controls",
            "_model_module_version": "1.5.0",
            "_model_name": "FloatProgressModel",
            "_view_count": null,
            "_view_module": "@jupyter-widgets/controls",
            "_view_module_version": "1.5.0",
            "_view_name": "ProgressView",
            "bar_style": "success",
            "description": "",
            "description_tooltip": null,
            "layout": "IPY_MODEL_2c3f0441b3794df7a61919324932b575",
            "max": 855,
            "min": 0,
            "orientation": "horizontal",
            "style": "IPY_MODEL_649957e936b74d65a731dc0032168ee1",
            "value": 855
          }
        },
        "468205222e154c0d8172bec87235a30b": {
          "model_module": "@jupyter-widgets/controls",
          "model_name": "HTMLModel",
          "model_module_version": "1.5.0",
          "state": {
            "_dom_classes": [],
            "_model_module": "@jupyter-widgets/controls",
            "_model_module_version": "1.5.0",
            "_model_name": "HTMLModel",
            "_view_count": null,
            "_view_module": "@jupyter-widgets/controls",
            "_view_module_version": "1.5.0",
            "_view_name": "HTMLView",
            "description": "",
            "description_tooltip": null,
            "layout": "IPY_MODEL_ab27fcc779ea41b391bec973d4d467c1",
            "placeholder": "​",
            "style": "IPY_MODEL_6539c762b5424cdfbaa7e1e91140e55a",
            "value": " 855/855 [00:00&lt;00:00, 13.4kB/s]"
          }
        },
        "0b31ac93fd3d4fd589bf577584ebab7e": {
          "model_module": "@jupyter-widgets/base",
          "model_name": "LayoutModel",
          "model_module_version": "1.2.0",
          "state": {
            "_model_module": "@jupyter-widgets/base",
            "_model_module_version": "1.2.0",
            "_model_name": "LayoutModel",
            "_view_count": null,
            "_view_module": "@jupyter-widgets/base",
            "_view_module_version": "1.2.0",
            "_view_name": "LayoutView",
            "align_content": null,
            "align_items": null,
            "align_self": null,
            "border": null,
            "bottom": null,
            "display": null,
            "flex": null,
            "flex_flow": null,
            "grid_area": null,
            "grid_auto_columns": null,
            "grid_auto_flow": null,
            "grid_auto_rows": null,
            "grid_column": null,
            "grid_gap": null,
            "grid_row": null,
            "grid_template_areas": null,
            "grid_template_columns": null,
            "grid_template_rows": null,
            "height": null,
            "justify_content": null,
            "justify_items": null,
            "left": null,
            "margin": null,
            "max_height": null,
            "max_width": null,
            "min_height": null,
            "min_width": null,
            "object_fit": null,
            "object_position": null,
            "order": null,
            "overflow": null,
            "overflow_x": null,
            "overflow_y": null,
            "padding": null,
            "right": null,
            "top": null,
            "visibility": null,
            "width": null
          }
        },
        "af5b2b5a93284e56a6bb263a7ddf9575": {
          "model_module": "@jupyter-widgets/base",
          "model_name": "LayoutModel",
          "model_module_version": "1.2.0",
          "state": {
            "_model_module": "@jupyter-widgets/base",
            "_model_module_version": "1.2.0",
            "_model_name": "LayoutModel",
            "_view_count": null,
            "_view_module": "@jupyter-widgets/base",
            "_view_module_version": "1.2.0",
            "_view_name": "LayoutView",
            "align_content": null,
            "align_items": null,
            "align_self": null,
            "border": null,
            "bottom": null,
            "display": null,
            "flex": null,
            "flex_flow": null,
            "grid_area": null,
            "grid_auto_columns": null,
            "grid_auto_flow": null,
            "grid_auto_rows": null,
            "grid_column": null,
            "grid_gap": null,
            "grid_row": null,
            "grid_template_areas": null,
            "grid_template_columns": null,
            "grid_template_rows": null,
            "height": null,
            "justify_content": null,
            "justify_items": null,
            "left": null,
            "margin": null,
            "max_height": null,
            "max_width": null,
            "min_height": null,
            "min_width": null,
            "object_fit": null,
            "object_position": null,
            "order": null,
            "overflow": null,
            "overflow_x": null,
            "overflow_y": null,
            "padding": null,
            "right": null,
            "top": null,
            "visibility": null,
            "width": null
          }
        },
        "b59739295c7544f5b61a0ff2f190d84b": {
          "model_module": "@jupyter-widgets/controls",
          "model_name": "DescriptionStyleModel",
          "model_module_version": "1.5.0",
          "state": {
            "_model_module": "@jupyter-widgets/controls",
            "_model_module_version": "1.5.0",
            "_model_name": "DescriptionStyleModel",
            "_view_count": null,
            "_view_module": "@jupyter-widgets/base",
            "_view_module_version": "1.2.0",
            "_view_name": "StyleView",
            "description_width": ""
          }
        },
        "2c3f0441b3794df7a61919324932b575": {
          "model_module": "@jupyter-widgets/base",
          "model_name": "LayoutModel",
          "model_module_version": "1.2.0",
          "state": {
            "_model_module": "@jupyter-widgets/base",
            "_model_module_version": "1.2.0",
            "_model_name": "LayoutModel",
            "_view_count": null,
            "_view_module": "@jupyter-widgets/base",
            "_view_module_version": "1.2.0",
            "_view_name": "LayoutView",
            "align_content": null,
            "align_items": null,
            "align_self": null,
            "border": null,
            "bottom": null,
            "display": null,
            "flex": null,
            "flex_flow": null,
            "grid_area": null,
            "grid_auto_columns": null,
            "grid_auto_flow": null,
            "grid_auto_rows": null,
            "grid_column": null,
            "grid_gap": null,
            "grid_row": null,
            "grid_template_areas": null,
            "grid_template_columns": null,
            "grid_template_rows": null,
            "height": null,
            "justify_content": null,
            "justify_items": null,
            "left": null,
            "margin": null,
            "max_height": null,
            "max_width": null,
            "min_height": null,
            "min_width": null,
            "object_fit": null,
            "object_position": null,
            "order": null,
            "overflow": null,
            "overflow_x": null,
            "overflow_y": null,
            "padding": null,
            "right": null,
            "top": null,
            "visibility": null,
            "width": null
          }
        },
        "649957e936b74d65a731dc0032168ee1": {
          "model_module": "@jupyter-widgets/controls",
          "model_name": "ProgressStyleModel",
          "model_module_version": "1.5.0",
          "state": {
            "_model_module": "@jupyter-widgets/controls",
            "_model_module_version": "1.5.0",
            "_model_name": "ProgressStyleModel",
            "_view_count": null,
            "_view_module": "@jupyter-widgets/base",
            "_view_module_version": "1.2.0",
            "_view_name": "StyleView",
            "bar_color": null,
            "description_width": ""
          }
        },
        "ab27fcc779ea41b391bec973d4d467c1": {
          "model_module": "@jupyter-widgets/base",
          "model_name": "LayoutModel",
          "model_module_version": "1.2.0",
          "state": {
            "_model_module": "@jupyter-widgets/base",
            "_model_module_version": "1.2.0",
            "_model_name": "LayoutModel",
            "_view_count": null,
            "_view_module": "@jupyter-widgets/base",
            "_view_module_version": "1.2.0",
            "_view_name": "LayoutView",
            "align_content": null,
            "align_items": null,
            "align_self": null,
            "border": null,
            "bottom": null,
            "display": null,
            "flex": null,
            "flex_flow": null,
            "grid_area": null,
            "grid_auto_columns": null,
            "grid_auto_flow": null,
            "grid_auto_rows": null,
            "grid_column": null,
            "grid_gap": null,
            "grid_row": null,
            "grid_template_areas": null,
            "grid_template_columns": null,
            "grid_template_rows": null,
            "height": null,
            "justify_content": null,
            "justify_items": null,
            "left": null,
            "margin": null,
            "max_height": null,
            "max_width": null,
            "min_height": null,
            "min_width": null,
            "object_fit": null,
            "object_position": null,
            "order": null,
            "overflow": null,
            "overflow_x": null,
            "overflow_y": null,
            "padding": null,
            "right": null,
            "top": null,
            "visibility": null,
            "width": null
          }
        },
        "6539c762b5424cdfbaa7e1e91140e55a": {
          "model_module": "@jupyter-widgets/controls",
          "model_name": "DescriptionStyleModel",
          "model_module_version": "1.5.0",
          "state": {
            "_model_module": "@jupyter-widgets/controls",
            "_model_module_version": "1.5.0",
            "_model_name": "DescriptionStyleModel",
            "_view_count": null,
            "_view_module": "@jupyter-widgets/base",
            "_view_module_version": "1.2.0",
            "_view_name": "StyleView",
            "description_width": ""
          }
        }
      }
    }
  },
  "cells": [
    {
      "cell_type": "markdown",
      "metadata": {
        "id": "view-in-github",
        "colab_type": "text"
      },
      "source": [
        "<a href=\"https://colab.research.google.com/github/JDS289/jd2016_ads_2024/blob/main/playingAround.ipynb\" target=\"_parent\"><img src=\"https://colab.research.google.com/assets/colab-badge.svg\" alt=\"Open In Colab\"/></a>"
      ]
    },
    {
      "cell_type": "markdown",
      "source": [
        "Using GPU seems to sometimes cause a CUDA error; using TPU seems to sometimes cause \"Unknown crash\".\n",
        "CPU takes approximately 10x longer than GPU.\n",
        "\n",
        "\n",
        "3B has said False to \"Paris is the capital of France\". Might want to use 8B instead. For now, I'll continue to use 3B for speed/simplicity. This is also justified for \"reproducibility\" reasons, though if accuracy is negligible then switch to a better model.\n"
      ],
      "metadata": {
        "id": "UCeAN4YwwOFp"
      }
    },
    {
      "cell_type": "code",
      "source": [
        "from google.colab import userdata\n",
        "hf_token = userdata.get(\"huggingface_secret\")\n",
        "\n",
        "from huggingface_hub import login\n",
        "login(token=hf_token)"
      ],
      "metadata": {
        "id": "U3K_iOhsKHdw"
      },
      "execution_count": 1,
      "outputs": []
    },
    {
      "cell_type": "code",
      "execution_count": 2,
      "metadata": {
        "id": "UeLRQEhuDhmz"
      },
      "outputs": [],
      "source": [
        "DEFAULT_MODEL = \"meta-llama/Llama-3.1-8B-Instruct\"\n",
        "\n",
        "from typing import Optional\n",
        "import os\n",
        "import torch\n",
        "from accelerate import Accelerator\n",
        "from transformers import AutoModelForCausalLM, AutoTokenizer\n",
        "import numpy as np\n",
        "from tqdm.notebook import tqdm\n",
        "\n",
        "#import warnings\n",
        "#warnings.filterwarnings('ignore')\n",
        "\n",
        "\n",
        "# Display first 500 characters of extracted text as preview\n",
        "\n",
        "\n",
        "device = \"cuda\" if torch.cuda.is_available() else \"cpu\"\n",
        "\n",
        "#import os\n",
        "#os.environ[\"CUDA_LAUNCH_BLOCKING\"] = \"1\"\n",
        "\n",
        "\n",
        "SYS_PROMPT = \"\"\n",
        "\n",
        "\n",
        "#Let's load in the model and start processing the text chunks\n",
        "\n",
        "accelerator = Accelerator()"
      ]
    },
    {
      "cell_type": "code",
      "source": [
        "model = AutoModelForCausalLM.from_pretrained(\n",
        "    DEFAULT_MODEL,\n",
        "    torch_dtype=torch.bfloat16,\n",
        "    use_safetensors=True,\n",
        "    device_map=device,\n",
        "    output_hidden_states=True,\n",
        "    return_dict_in_generate=True,\n",
        ")\n",
        "tokenizer = AutoTokenizer.from_pretrained(DEFAULT_MODEL, use_safetensors=True)\n",
        "model, tokenizer = accelerator.prepare(model, tokenizer)\n",
        "model.generation_config.pad_token_id = tokenizer.eos_token_id\n"
      ],
      "metadata": {
        "colab": {
          "base_uri": "https://localhost:8080/",
          "height": 49,
          "referenced_widgets": [
            "2546ccce769844f097bcb3642e8b6993",
            "0b1de0858645424380231eaf10d2a55b",
            "7edfa3236189484aba8c5a849eb474b5",
            "468205222e154c0d8172bec87235a30b",
            "0b31ac93fd3d4fd589bf577584ebab7e",
            "af5b2b5a93284e56a6bb263a7ddf9575",
            "b59739295c7544f5b61a0ff2f190d84b",
            "2c3f0441b3794df7a61919324932b575",
            "649957e936b74d65a731dc0032168ee1",
            "ab27fcc779ea41b391bec973d4d467c1",
            "6539c762b5424cdfbaa7e1e91140e55a"
          ]
        },
        "id": "zQxqltPihtPI",
        "outputId": "05fb5265-38e9-4e99-ad13-5137a0619ee8"
      },
      "execution_count": null,
      "outputs": [
        {
          "output_type": "display_data",
          "data": {
            "text/plain": [
              "config.json:   0%|          | 0.00/855 [00:00<?, ?B/s]"
            ],
            "application/vnd.jupyter.widget-view+json": {
              "version_major": 2,
              "version_minor": 0,
              "model_id": "2546ccce769844f097bcb3642e8b6993"
            }
          },
          "metadata": {}
        }
      ]
    },
    {
      "cell_type": "code",
      "source": [
        "model.generation_config.output_hidden_states = True\n",
        "model.generation_config.return_dict_in_generate = True\n",
        "print(model.generation_config)"
      ],
      "metadata": {
        "id": "aM35tGkfjJDe"
      },
      "execution_count": null,
      "outputs": []
    },
    {
      "cell_type": "code",
      "source": [
        "def process_chunk(text_chunk):\n",
        "    \"\"\"Process a chunk of text and return both input and output for verification\"\"\"\n",
        "    conversation = [\n",
        "        {\"role\": \"system\", \"content\": SYS_PROMPT},\n",
        "        {\"role\": \"user\", \"content\": text_chunk},\n",
        "    ]\n",
        "\n",
        "    prompt = tokenizer.apply_chat_template(conversation, tokenize=False)\n",
        "    inputs = tokenizer(prompt, return_tensors=\"pt\").to(device)\n",
        "\n",
        "    with torch.no_grad():\n",
        "        output = model.generate(\n",
        "            **inputs,\n",
        "            temperature=0.7,\n",
        "            top_p=0.9,\n",
        "            max_new_tokens=512\n",
        "        )\n",
        "\n",
        "    processed_text = tokenizer.decode(output.sequences[0], skip_special_tokens=True).strip()\n",
        "    processed_text = processed_text[processed_text.index(\"assistant\") + 11:]\n",
        "\n",
        "\n",
        "    \"\"\"\n",
        "    for i in range(len(output.hidden_states)):\n",
        "        total_shape = np.array(output.hidden_states[i][0].shape)\n",
        "        for j in range(1, len(output.hidden_states[i])):\n",
        "            total_shape += np.array(output.hidden_states[i][j].shape)\n",
        "        print(total_shape)\"\"\"\n",
        "    return processed_text, output.hidden_states"
      ],
      "metadata": {
        "id": "DXEzIPvSZEM-"
      },
      "execution_count": null,
      "outputs": []
    },
    {
      "cell_type": "code",
      "source": [
        "import requests\n",
        "\n",
        "capitals = requests.get(\"https://raw.githubusercontent.com/JDS289/BaLD4LLM/refs/heads/main/country-list.csv\")\n",
        "capitals_dict = {}\n",
        "for string in capitals.content.decode('utf-8').split('\\n')[1 : -1]:\n",
        "  _, country, _, city, _ = string.split('\"')\n",
        "  capitals_dict[country] = city\n",
        "\n",
        "print(capitals_dict)\n"
      ],
      "metadata": {
        "id": "xucrVcWX9-A_"
      },
      "execution_count": null,
      "outputs": []
    },
    {
      "cell_type": "code",
      "source": [
        "statement_list = [f\"{capital} is the capital city of {country}\" for country, capital in capitals_dict.items()]\n",
        "\n",
        "def print_ret(x):\n",
        "  print(x[:2])\n",
        "  return x\n",
        "\n",
        "results = [print_ret((statement,) + process_chunk(f'\"{statement}\". Is this true or false? (Answer ONLY with \"True.\" or \"False.\")')) for statement in tqdm(statement_list)]\n",
        "\n",
        "statements = []\n",
        "responses = []\n",
        "hidden_statess = []\n",
        "\n",
        "for s, r, h in results:\n",
        "  statements.append(s)\n",
        "  responses.append(r)\n",
        "  hidden_statess.append(h)\n",
        "\n",
        "# print(*zip(statements, responses), sep=\"\\n\")"
      ],
      "metadata": {
        "id": "0B1RuLcWY7fR"
      },
      "execution_count": null,
      "outputs": []
    },
    {
      "cell_type": "code",
      "source": [
        "print(statements)"
      ],
      "metadata": {
        "id": "s8pCFk0fCyt9"
      },
      "execution_count": null,
      "outputs": []
    },
    {
      "cell_type": "code",
      "source": [
        "# print(len(hidden_statess[0]))\n",
        "print(hidden_statess[0][0])\n",
        "\n",
        "\n",
        "\n",
        "# 7 * 29 * 60 * 3072  for EACH hidden_statess[i]\n",
        "\n",
        "# 7 layers * 29 batches * 60 tokens per input * 3072 activations\n",
        "\n",
        "# idk why there are 29 batches"
      ],
      "metadata": {
        "id": "bAkvepXIDkY6"
      },
      "execution_count": null,
      "outputs": []
    },
    {
      "cell_type": "code",
      "source": [
        "conversation = [\n",
        "      {\"role\": \"system\", \"content\": SYS_PROMPT},\n",
        "      {\"role\": \"user\", \"content\": f'\"{statements[0]}\". Is this true or false? (Answer ONLY with \"True.\" or \"False.\")'},\n",
        "]\n",
        "\n",
        "prompt = tokenizer.apply_chat_template(conversation, tokenize=False)\n",
        "inputs = tokenizer(prompt, return_tensors=\"pt\").to(device)"
      ],
      "metadata": {
        "id": "TUHiva9VFHAE"
      },
      "execution_count": null,
      "outputs": []
    },
    {
      "cell_type": "code",
      "source": [
        "print(inputs[\"input_ids\"].shape)"
      ],
      "metadata": {
        "id": "RqXJ1yUwF-HN"
      },
      "execution_count": null,
      "outputs": []
    }
  ]
}